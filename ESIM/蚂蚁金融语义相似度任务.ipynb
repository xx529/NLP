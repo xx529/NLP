{
  "nbformat": 4,
  "nbformat_minor": 0,
  "metadata": {
    "colab": {
      "name": "蚂蚁金融语义相似度任务",
      "provenance": [],
      "include_colab_link": true
    },
    "kernelspec": {
      "name": "python3",
      "display_name": "Python 3"
    },
    "language_info": {
      "name": "python"
    },
    "accelerator": "GPU",
    "widgets": {
      "application/vnd.jupyter.widget-state+json": {
        "a66824f842ec43a58e09320387a770bd": {
          "model_module": "@jupyter-widgets/controls",
          "model_name": "HBoxModel",
          "state": {
            "_view_name": "HBoxView",
            "_dom_classes": [],
            "_model_name": "HBoxModel",
            "_view_module": "@jupyter-widgets/controls",
            "_model_module_version": "1.5.0",
            "_view_count": null,
            "_view_module_version": "1.5.0",
            "box_style": "",
            "layout": "IPY_MODEL_03de1f84768f4dadaaf2fc5070c2c599",
            "_model_module": "@jupyter-widgets/controls",
            "children": [
              "IPY_MODEL_cad0348d0ccb480fbade328952082a19",
              "IPY_MODEL_bf1eb96eae6c4f37a1b8e5c504ff96de"
            ]
          }
        },
        "03de1f84768f4dadaaf2fc5070c2c599": {
          "model_module": "@jupyter-widgets/base",
          "model_name": "LayoutModel",
          "state": {
            "_view_name": "LayoutView",
            "grid_template_rows": null,
            "right": null,
            "justify_content": null,
            "_view_module": "@jupyter-widgets/base",
            "overflow": null,
            "_model_module_version": "1.2.0",
            "_view_count": null,
            "flex_flow": "row wrap",
            "width": "100%",
            "min_width": null,
            "border": null,
            "align_items": null,
            "bottom": null,
            "_model_module": "@jupyter-widgets/base",
            "top": null,
            "grid_column": null,
            "overflow_y": null,
            "overflow_x": null,
            "grid_auto_flow": null,
            "grid_area": null,
            "grid_template_columns": null,
            "flex": null,
            "_model_name": "LayoutModel",
            "justify_items": null,
            "grid_row": null,
            "max_height": null,
            "align_content": null,
            "visibility": null,
            "align_self": null,
            "height": null,
            "min_height": null,
            "padding": null,
            "grid_auto_rows": null,
            "grid_gap": null,
            "max_width": null,
            "order": null,
            "_view_module_version": "1.2.0",
            "grid_template_areas": null,
            "object_position": null,
            "object_fit": null,
            "grid_auto_columns": null,
            "margin": null,
            "display": "inline-flex",
            "left": null
          }
        },
        "cad0348d0ccb480fbade328952082a19": {
          "model_module": "@jupyter-widgets/controls",
          "model_name": "FloatProgressModel",
          "state": {
            "_view_name": "ProgressView",
            "style": "IPY_MODEL_91d6aa04ef55472da147cd9230a0a656",
            "_dom_classes": [],
            "description": "Validation sanity check:   0%",
            "_model_name": "FloatProgressModel",
            "bar_style": "danger",
            "max": 2,
            "_view_module": "@jupyter-widgets/controls",
            "_model_module_version": "1.5.0",
            "value": 0,
            "_view_count": null,
            "_view_module_version": "1.5.0",
            "orientation": "horizontal",
            "min": 0,
            "description_tooltip": null,
            "_model_module": "@jupyter-widgets/controls",
            "layout": "IPY_MODEL_d6c954bd173f4865a9cafe58bc690116"
          }
        },
        "bf1eb96eae6c4f37a1b8e5c504ff96de": {
          "model_module": "@jupyter-widgets/controls",
          "model_name": "HTMLModel",
          "state": {
            "_view_name": "HTMLView",
            "style": "IPY_MODEL_b7555ed86e464685ac73d9c24e2999f5",
            "_dom_classes": [],
            "description": "",
            "_model_name": "HTMLModel",
            "placeholder": "​",
            "_view_module": "@jupyter-widgets/controls",
            "_model_module_version": "1.5.0",
            "value": " 0/2 [00:00&lt;?, ?it/s]",
            "_view_count": null,
            "_view_module_version": "1.5.0",
            "description_tooltip": null,
            "_model_module": "@jupyter-widgets/controls",
            "layout": "IPY_MODEL_97be1c8595514ddab7a36a8aa1257cda"
          }
        },
        "91d6aa04ef55472da147cd9230a0a656": {
          "model_module": "@jupyter-widgets/controls",
          "model_name": "ProgressStyleModel",
          "state": {
            "_view_name": "StyleView",
            "_model_name": "ProgressStyleModel",
            "description_width": "initial",
            "_view_module": "@jupyter-widgets/base",
            "_model_module_version": "1.5.0",
            "_view_count": null,
            "_view_module_version": "1.2.0",
            "bar_color": null,
            "_model_module": "@jupyter-widgets/controls"
          }
        },
        "d6c954bd173f4865a9cafe58bc690116": {
          "model_module": "@jupyter-widgets/base",
          "model_name": "LayoutModel",
          "state": {
            "_view_name": "LayoutView",
            "grid_template_rows": null,
            "right": null,
            "justify_content": null,
            "_view_module": "@jupyter-widgets/base",
            "overflow": null,
            "_model_module_version": "1.2.0",
            "_view_count": null,
            "flex_flow": null,
            "width": null,
            "min_width": null,
            "border": null,
            "align_items": null,
            "bottom": null,
            "_model_module": "@jupyter-widgets/base",
            "top": null,
            "grid_column": null,
            "overflow_y": null,
            "overflow_x": null,
            "grid_auto_flow": null,
            "grid_area": null,
            "grid_template_columns": null,
            "flex": "2",
            "_model_name": "LayoutModel",
            "justify_items": null,
            "grid_row": null,
            "max_height": null,
            "align_content": null,
            "visibility": null,
            "align_self": null,
            "height": null,
            "min_height": null,
            "padding": null,
            "grid_auto_rows": null,
            "grid_gap": null,
            "max_width": null,
            "order": null,
            "_view_module_version": "1.2.0",
            "grid_template_areas": null,
            "object_position": null,
            "object_fit": null,
            "grid_auto_columns": null,
            "margin": null,
            "display": null,
            "left": null
          }
        },
        "b7555ed86e464685ac73d9c24e2999f5": {
          "model_module": "@jupyter-widgets/controls",
          "model_name": "DescriptionStyleModel",
          "state": {
            "_view_name": "StyleView",
            "_model_name": "DescriptionStyleModel",
            "description_width": "",
            "_view_module": "@jupyter-widgets/base",
            "_model_module_version": "1.5.0",
            "_view_count": null,
            "_view_module_version": "1.2.0",
            "_model_module": "@jupyter-widgets/controls"
          }
        },
        "97be1c8595514ddab7a36a8aa1257cda": {
          "model_module": "@jupyter-widgets/base",
          "model_name": "LayoutModel",
          "state": {
            "_view_name": "LayoutView",
            "grid_template_rows": null,
            "right": null,
            "justify_content": null,
            "_view_module": "@jupyter-widgets/base",
            "overflow": null,
            "_model_module_version": "1.2.0",
            "_view_count": null,
            "flex_flow": null,
            "width": null,
            "min_width": null,
            "border": null,
            "align_items": null,
            "bottom": null,
            "_model_module": "@jupyter-widgets/base",
            "top": null,
            "grid_column": null,
            "overflow_y": null,
            "overflow_x": null,
            "grid_auto_flow": null,
            "grid_area": null,
            "grid_template_columns": null,
            "flex": null,
            "_model_name": "LayoutModel",
            "justify_items": null,
            "grid_row": null,
            "max_height": null,
            "align_content": null,
            "visibility": null,
            "align_self": null,
            "height": null,
            "min_height": null,
            "padding": null,
            "grid_auto_rows": null,
            "grid_gap": null,
            "max_width": null,
            "order": null,
            "_view_module_version": "1.2.0",
            "grid_template_areas": null,
            "object_position": null,
            "object_fit": null,
            "grid_auto_columns": null,
            "margin": null,
            "display": null,
            "left": null
          }
        },
        "2af118dfa4544e568a8f69cd2414ba46": {
          "model_module": "@jupyter-widgets/controls",
          "model_name": "HBoxModel",
          "state": {
            "_view_name": "HBoxView",
            "_dom_classes": [],
            "_model_name": "HBoxModel",
            "_view_module": "@jupyter-widgets/controls",
            "_model_module_version": "1.5.0",
            "_view_count": null,
            "_view_module_version": "1.5.0",
            "box_style": "",
            "layout": "IPY_MODEL_882c8c241dd8438ca835eaec9edddee7",
            "_model_module": "@jupyter-widgets/controls",
            "children": [
              "IPY_MODEL_880b70e3b8844faf9851eda2c239ee69",
              "IPY_MODEL_19c812fb928e4b129ae59649dbde74dc"
            ]
          }
        },
        "882c8c241dd8438ca835eaec9edddee7": {
          "model_module": "@jupyter-widgets/base",
          "model_name": "LayoutModel",
          "state": {
            "_view_name": "LayoutView",
            "grid_template_rows": null,
            "right": null,
            "justify_content": null,
            "_view_module": "@jupyter-widgets/base",
            "overflow": null,
            "_model_module_version": "1.2.0",
            "_view_count": null,
            "flex_flow": "row wrap",
            "width": "100%",
            "min_width": null,
            "border": null,
            "align_items": null,
            "bottom": null,
            "_model_module": "@jupyter-widgets/base",
            "top": null,
            "grid_column": null,
            "overflow_y": null,
            "overflow_x": null,
            "grid_auto_flow": null,
            "grid_area": null,
            "grid_template_columns": null,
            "flex": null,
            "_model_name": "LayoutModel",
            "justify_items": null,
            "grid_row": null,
            "max_height": null,
            "align_content": null,
            "visibility": null,
            "align_self": null,
            "height": null,
            "min_height": null,
            "padding": null,
            "grid_auto_rows": null,
            "grid_gap": null,
            "max_width": null,
            "order": null,
            "_view_module_version": "1.2.0",
            "grid_template_areas": null,
            "object_position": null,
            "object_fit": null,
            "grid_auto_columns": null,
            "margin": null,
            "display": "inline-flex",
            "left": null
          }
        },
        "880b70e3b8844faf9851eda2c239ee69": {
          "model_module": "@jupyter-widgets/controls",
          "model_name": "FloatProgressModel",
          "state": {
            "_view_name": "ProgressView",
            "style": "IPY_MODEL_ada40770008d4020958be810e57f2299",
            "_dom_classes": [],
            "description": "Epoch 2: 100%",
            "_model_name": "FloatProgressModel",
            "bar_style": "success",
            "max": 303,
            "_view_module": "@jupyter-widgets/controls",
            "_model_module_version": "1.5.0",
            "value": 303,
            "_view_count": null,
            "_view_module_version": "1.5.0",
            "orientation": "horizontal",
            "min": 0,
            "description_tooltip": null,
            "_model_module": "@jupyter-widgets/controls",
            "layout": "IPY_MODEL_de0c5d4597ab4ae393d629463b7ce9e0"
          }
        },
        "19c812fb928e4b129ae59649dbde74dc": {
          "model_module": "@jupyter-widgets/controls",
          "model_name": "HTMLModel",
          "state": {
            "_view_name": "HTMLView",
            "style": "IPY_MODEL_fff38b76dc4843f9a201edf1f4844a39",
            "_dom_classes": [],
            "description": "",
            "_model_name": "HTMLModel",
            "placeholder": "​",
            "_view_module": "@jupyter-widgets/controls",
            "_model_module_version": "1.5.0",
            "value": " 303/303 [00:09&lt;00:00, 31.41it/s, loss=0.604, v_num=2]",
            "_view_count": null,
            "_view_module_version": "1.5.0",
            "description_tooltip": null,
            "_model_module": "@jupyter-widgets/controls",
            "layout": "IPY_MODEL_c551804a6ce3472c864bfe70aee540fc"
          }
        },
        "ada40770008d4020958be810e57f2299": {
          "model_module": "@jupyter-widgets/controls",
          "model_name": "ProgressStyleModel",
          "state": {
            "_view_name": "StyleView",
            "_model_name": "ProgressStyleModel",
            "description_width": "initial",
            "_view_module": "@jupyter-widgets/base",
            "_model_module_version": "1.5.0",
            "_view_count": null,
            "_view_module_version": "1.2.0",
            "bar_color": null,
            "_model_module": "@jupyter-widgets/controls"
          }
        },
        "de0c5d4597ab4ae393d629463b7ce9e0": {
          "model_module": "@jupyter-widgets/base",
          "model_name": "LayoutModel",
          "state": {
            "_view_name": "LayoutView",
            "grid_template_rows": null,
            "right": null,
            "justify_content": null,
            "_view_module": "@jupyter-widgets/base",
            "overflow": null,
            "_model_module_version": "1.2.0",
            "_view_count": null,
            "flex_flow": null,
            "width": null,
            "min_width": null,
            "border": null,
            "align_items": null,
            "bottom": null,
            "_model_module": "@jupyter-widgets/base",
            "top": null,
            "grid_column": null,
            "overflow_y": null,
            "overflow_x": null,
            "grid_auto_flow": null,
            "grid_area": null,
            "grid_template_columns": null,
            "flex": "2",
            "_model_name": "LayoutModel",
            "justify_items": null,
            "grid_row": null,
            "max_height": null,
            "align_content": null,
            "visibility": null,
            "align_self": null,
            "height": null,
            "min_height": null,
            "padding": null,
            "grid_auto_rows": null,
            "grid_gap": null,
            "max_width": null,
            "order": null,
            "_view_module_version": "1.2.0",
            "grid_template_areas": null,
            "object_position": null,
            "object_fit": null,
            "grid_auto_columns": null,
            "margin": null,
            "display": null,
            "left": null
          }
        },
        "fff38b76dc4843f9a201edf1f4844a39": {
          "model_module": "@jupyter-widgets/controls",
          "model_name": "DescriptionStyleModel",
          "state": {
            "_view_name": "StyleView",
            "_model_name": "DescriptionStyleModel",
            "description_width": "",
            "_view_module": "@jupyter-widgets/base",
            "_model_module_version": "1.5.0",
            "_view_count": null,
            "_view_module_version": "1.2.0",
            "_model_module": "@jupyter-widgets/controls"
          }
        },
        "c551804a6ce3472c864bfe70aee540fc": {
          "model_module": "@jupyter-widgets/base",
          "model_name": "LayoutModel",
          "state": {
            "_view_name": "LayoutView",
            "grid_template_rows": null,
            "right": null,
            "justify_content": null,
            "_view_module": "@jupyter-widgets/base",
            "overflow": null,
            "_model_module_version": "1.2.0",
            "_view_count": null,
            "flex_flow": null,
            "width": null,
            "min_width": null,
            "border": null,
            "align_items": null,
            "bottom": null,
            "_model_module": "@jupyter-widgets/base",
            "top": null,
            "grid_column": null,
            "overflow_y": null,
            "overflow_x": null,
            "grid_auto_flow": null,
            "grid_area": null,
            "grid_template_columns": null,
            "flex": null,
            "_model_name": "LayoutModel",
            "justify_items": null,
            "grid_row": null,
            "max_height": null,
            "align_content": null,
            "visibility": null,
            "align_self": null,
            "height": null,
            "min_height": null,
            "padding": null,
            "grid_auto_rows": null,
            "grid_gap": null,
            "max_width": null,
            "order": null,
            "_view_module_version": "1.2.0",
            "grid_template_areas": null,
            "object_position": null,
            "object_fit": null,
            "grid_auto_columns": null,
            "margin": null,
            "display": null,
            "left": null
          }
        },
        "cd7e314443d843b0b6a6f99f0529dad9": {
          "model_module": "@jupyter-widgets/controls",
          "model_name": "HBoxModel",
          "state": {
            "_view_name": "HBoxView",
            "_dom_classes": [],
            "_model_name": "HBoxModel",
            "_view_module": "@jupyter-widgets/controls",
            "_model_module_version": "1.5.0",
            "_view_count": null,
            "_view_module_version": "1.5.0",
            "box_style": "",
            "layout": "IPY_MODEL_a899b7acff2c47368910bf33fb9afe43",
            "_model_module": "@jupyter-widgets/controls",
            "children": [
              "IPY_MODEL_e9b09ceef2d442dc83b4bc3ed5b9da13",
              "IPY_MODEL_73820415d1724b4b917eafd0c43ccb0d"
            ]
          }
        },
        "a899b7acff2c47368910bf33fb9afe43": {
          "model_module": "@jupyter-widgets/base",
          "model_name": "LayoutModel",
          "state": {
            "_view_name": "LayoutView",
            "grid_template_rows": null,
            "right": null,
            "justify_content": null,
            "_view_module": "@jupyter-widgets/base",
            "overflow": null,
            "_model_module_version": "1.2.0",
            "_view_count": null,
            "flex_flow": "row wrap",
            "width": "100%",
            "min_width": null,
            "border": null,
            "align_items": null,
            "bottom": null,
            "_model_module": "@jupyter-widgets/base",
            "top": null,
            "grid_column": null,
            "overflow_y": null,
            "overflow_x": null,
            "grid_auto_flow": null,
            "grid_area": null,
            "grid_template_columns": null,
            "flex": null,
            "_model_name": "LayoutModel",
            "justify_items": null,
            "grid_row": null,
            "max_height": null,
            "align_content": null,
            "visibility": null,
            "align_self": null,
            "height": null,
            "min_height": null,
            "padding": null,
            "grid_auto_rows": null,
            "grid_gap": null,
            "max_width": null,
            "order": null,
            "_view_module_version": "1.2.0",
            "grid_template_areas": null,
            "object_position": null,
            "object_fit": null,
            "grid_auto_columns": null,
            "margin": null,
            "display": "inline-flex",
            "left": null
          }
        },
        "e9b09ceef2d442dc83b4bc3ed5b9da13": {
          "model_module": "@jupyter-widgets/controls",
          "model_name": "FloatProgressModel",
          "state": {
            "_view_name": "ProgressView",
            "style": "IPY_MODEL_0bd7adf8c996451483e9074b85e5b1b9",
            "_dom_classes": [],
            "description": "Validating: 100%",
            "_model_name": "FloatProgressModel",
            "bar_style": "info",
            "max": 34,
            "_view_module": "@jupyter-widgets/controls",
            "_model_module_version": "1.5.0",
            "value": 34,
            "_view_count": null,
            "_view_module_version": "1.5.0",
            "orientation": "horizontal",
            "min": 0,
            "description_tooltip": null,
            "_model_module": "@jupyter-widgets/controls",
            "layout": "IPY_MODEL_55b1195afa474076841d5223fbeda777"
          }
        },
        "73820415d1724b4b917eafd0c43ccb0d": {
          "model_module": "@jupyter-widgets/controls",
          "model_name": "HTMLModel",
          "state": {
            "_view_name": "HTMLView",
            "style": "IPY_MODEL_546fca17c7dd4261ab70b49319e58e47",
            "_dom_classes": [],
            "description": "",
            "_model_name": "HTMLModel",
            "placeholder": "​",
            "_view_module": "@jupyter-widgets/controls",
            "_model_module_version": "1.5.0",
            "value": " 34/34 [00:00&lt;00:00, 49.00it/s]",
            "_view_count": null,
            "_view_module_version": "1.5.0",
            "description_tooltip": null,
            "_model_module": "@jupyter-widgets/controls",
            "layout": "IPY_MODEL_c9b7102f8067458eb0640a202cac39b4"
          }
        },
        "0bd7adf8c996451483e9074b85e5b1b9": {
          "model_module": "@jupyter-widgets/controls",
          "model_name": "ProgressStyleModel",
          "state": {
            "_view_name": "StyleView",
            "_model_name": "ProgressStyleModel",
            "description_width": "initial",
            "_view_module": "@jupyter-widgets/base",
            "_model_module_version": "1.5.0",
            "_view_count": null,
            "_view_module_version": "1.2.0",
            "bar_color": null,
            "_model_module": "@jupyter-widgets/controls"
          }
        },
        "55b1195afa474076841d5223fbeda777": {
          "model_module": "@jupyter-widgets/base",
          "model_name": "LayoutModel",
          "state": {
            "_view_name": "LayoutView",
            "grid_template_rows": null,
            "right": null,
            "justify_content": null,
            "_view_module": "@jupyter-widgets/base",
            "overflow": null,
            "_model_module_version": "1.2.0",
            "_view_count": null,
            "flex_flow": null,
            "width": null,
            "min_width": null,
            "border": null,
            "align_items": null,
            "bottom": null,
            "_model_module": "@jupyter-widgets/base",
            "top": null,
            "grid_column": null,
            "overflow_y": null,
            "overflow_x": null,
            "grid_auto_flow": null,
            "grid_area": null,
            "grid_template_columns": null,
            "flex": "2",
            "_model_name": "LayoutModel",
            "justify_items": null,
            "grid_row": null,
            "max_height": null,
            "align_content": null,
            "visibility": null,
            "align_self": null,
            "height": null,
            "min_height": null,
            "padding": null,
            "grid_auto_rows": null,
            "grid_gap": null,
            "max_width": null,
            "order": null,
            "_view_module_version": "1.2.0",
            "grid_template_areas": null,
            "object_position": null,
            "object_fit": null,
            "grid_auto_columns": null,
            "margin": null,
            "display": null,
            "left": null
          }
        },
        "546fca17c7dd4261ab70b49319e58e47": {
          "model_module": "@jupyter-widgets/controls",
          "model_name": "DescriptionStyleModel",
          "state": {
            "_view_name": "StyleView",
            "_model_name": "DescriptionStyleModel",
            "description_width": "",
            "_view_module": "@jupyter-widgets/base",
            "_model_module_version": "1.5.0",
            "_view_count": null,
            "_view_module_version": "1.2.0",
            "_model_module": "@jupyter-widgets/controls"
          }
        },
        "c9b7102f8067458eb0640a202cac39b4": {
          "model_module": "@jupyter-widgets/base",
          "model_name": "LayoutModel",
          "state": {
            "_view_name": "LayoutView",
            "grid_template_rows": null,
            "right": null,
            "justify_content": null,
            "_view_module": "@jupyter-widgets/base",
            "overflow": null,
            "_model_module_version": "1.2.0",
            "_view_count": null,
            "flex_flow": null,
            "width": null,
            "min_width": null,
            "border": null,
            "align_items": null,
            "bottom": null,
            "_model_module": "@jupyter-widgets/base",
            "top": null,
            "grid_column": null,
            "overflow_y": null,
            "overflow_x": null,
            "grid_auto_flow": null,
            "grid_area": null,
            "grid_template_columns": null,
            "flex": null,
            "_model_name": "LayoutModel",
            "justify_items": null,
            "grid_row": null,
            "max_height": null,
            "align_content": null,
            "visibility": null,
            "align_self": null,
            "height": null,
            "min_height": null,
            "padding": null,
            "grid_auto_rows": null,
            "grid_gap": null,
            "max_width": null,
            "order": null,
            "_view_module_version": "1.2.0",
            "grid_template_areas": null,
            "object_position": null,
            "object_fit": null,
            "grid_auto_columns": null,
            "margin": null,
            "display": null,
            "left": null
          }
        },
        "7f7e7093f79e47359b538e80a613ae82": {
          "model_module": "@jupyter-widgets/controls",
          "model_name": "HBoxModel",
          "state": {
            "_view_name": "HBoxView",
            "_dom_classes": [],
            "_model_name": "HBoxModel",
            "_view_module": "@jupyter-widgets/controls",
            "_model_module_version": "1.5.0",
            "_view_count": null,
            "_view_module_version": "1.5.0",
            "box_style": "",
            "layout": "IPY_MODEL_950769777d8f462c944fdd9c94530dbe",
            "_model_module": "@jupyter-widgets/controls",
            "children": [
              "IPY_MODEL_f81c3a5d607a4853bea292362723e658",
              "IPY_MODEL_fe0abaf17f6446919dc4649c5cd07964"
            ]
          }
        },
        "950769777d8f462c944fdd9c94530dbe": {
          "model_module": "@jupyter-widgets/base",
          "model_name": "LayoutModel",
          "state": {
            "_view_name": "LayoutView",
            "grid_template_rows": null,
            "right": null,
            "justify_content": null,
            "_view_module": "@jupyter-widgets/base",
            "overflow": null,
            "_model_module_version": "1.2.0",
            "_view_count": null,
            "flex_flow": "row wrap",
            "width": "100%",
            "min_width": null,
            "border": null,
            "align_items": null,
            "bottom": null,
            "_model_module": "@jupyter-widgets/base",
            "top": null,
            "grid_column": null,
            "overflow_y": null,
            "overflow_x": null,
            "grid_auto_flow": null,
            "grid_area": null,
            "grid_template_columns": null,
            "flex": null,
            "_model_name": "LayoutModel",
            "justify_items": null,
            "grid_row": null,
            "max_height": null,
            "align_content": null,
            "visibility": null,
            "align_self": null,
            "height": null,
            "min_height": null,
            "padding": null,
            "grid_auto_rows": null,
            "grid_gap": null,
            "max_width": null,
            "order": null,
            "_view_module_version": "1.2.0",
            "grid_template_areas": null,
            "object_position": null,
            "object_fit": null,
            "grid_auto_columns": null,
            "margin": null,
            "display": "inline-flex",
            "left": null
          }
        },
        "f81c3a5d607a4853bea292362723e658": {
          "model_module": "@jupyter-widgets/controls",
          "model_name": "FloatProgressModel",
          "state": {
            "_view_name": "ProgressView",
            "style": "IPY_MODEL_fade2705b9474c958d7d319502354ac1",
            "_dom_classes": [],
            "description": "Validating: 100%",
            "_model_name": "FloatProgressModel",
            "bar_style": "info",
            "max": 34,
            "_view_module": "@jupyter-widgets/controls",
            "_model_module_version": "1.5.0",
            "value": 34,
            "_view_count": null,
            "_view_module_version": "1.5.0",
            "orientation": "horizontal",
            "min": 0,
            "description_tooltip": null,
            "_model_module": "@jupyter-widgets/controls",
            "layout": "IPY_MODEL_0297c85dad1544148fd88ab503f9699e"
          }
        },
        "fe0abaf17f6446919dc4649c5cd07964": {
          "model_module": "@jupyter-widgets/controls",
          "model_name": "HTMLModel",
          "state": {
            "_view_name": "HTMLView",
            "style": "IPY_MODEL_d33fedc88cee456ea19b3b1ed1f3f010",
            "_dom_classes": [],
            "description": "",
            "_model_name": "HTMLModel",
            "placeholder": "​",
            "_view_module": "@jupyter-widgets/controls",
            "_model_module_version": "1.5.0",
            "value": " 34/34 [00:00&lt;00:00, 49.17it/s]",
            "_view_count": null,
            "_view_module_version": "1.5.0",
            "description_tooltip": null,
            "_model_module": "@jupyter-widgets/controls",
            "layout": "IPY_MODEL_430dacad5bbc4160b946dc27194d1b10"
          }
        },
        "fade2705b9474c958d7d319502354ac1": {
          "model_module": "@jupyter-widgets/controls",
          "model_name": "ProgressStyleModel",
          "state": {
            "_view_name": "StyleView",
            "_model_name": "ProgressStyleModel",
            "description_width": "initial",
            "_view_module": "@jupyter-widgets/base",
            "_model_module_version": "1.5.0",
            "_view_count": null,
            "_view_module_version": "1.2.0",
            "bar_color": null,
            "_model_module": "@jupyter-widgets/controls"
          }
        },
        "0297c85dad1544148fd88ab503f9699e": {
          "model_module": "@jupyter-widgets/base",
          "model_name": "LayoutModel",
          "state": {
            "_view_name": "LayoutView",
            "grid_template_rows": null,
            "right": null,
            "justify_content": null,
            "_view_module": "@jupyter-widgets/base",
            "overflow": null,
            "_model_module_version": "1.2.0",
            "_view_count": null,
            "flex_flow": null,
            "width": null,
            "min_width": null,
            "border": null,
            "align_items": null,
            "bottom": null,
            "_model_module": "@jupyter-widgets/base",
            "top": null,
            "grid_column": null,
            "overflow_y": null,
            "overflow_x": null,
            "grid_auto_flow": null,
            "grid_area": null,
            "grid_template_columns": null,
            "flex": "2",
            "_model_name": "LayoutModel",
            "justify_items": null,
            "grid_row": null,
            "max_height": null,
            "align_content": null,
            "visibility": null,
            "align_self": null,
            "height": null,
            "min_height": null,
            "padding": null,
            "grid_auto_rows": null,
            "grid_gap": null,
            "max_width": null,
            "order": null,
            "_view_module_version": "1.2.0",
            "grid_template_areas": null,
            "object_position": null,
            "object_fit": null,
            "grid_auto_columns": null,
            "margin": null,
            "display": null,
            "left": null
          }
        },
        "d33fedc88cee456ea19b3b1ed1f3f010": {
          "model_module": "@jupyter-widgets/controls",
          "model_name": "DescriptionStyleModel",
          "state": {
            "_view_name": "StyleView",
            "_model_name": "DescriptionStyleModel",
            "description_width": "",
            "_view_module": "@jupyter-widgets/base",
            "_model_module_version": "1.5.0",
            "_view_count": null,
            "_view_module_version": "1.2.0",
            "_model_module": "@jupyter-widgets/controls"
          }
        },
        "430dacad5bbc4160b946dc27194d1b10": {
          "model_module": "@jupyter-widgets/base",
          "model_name": "LayoutModel",
          "state": {
            "_view_name": "LayoutView",
            "grid_template_rows": null,
            "right": null,
            "justify_content": null,
            "_view_module": "@jupyter-widgets/base",
            "overflow": null,
            "_model_module_version": "1.2.0",
            "_view_count": null,
            "flex_flow": null,
            "width": null,
            "min_width": null,
            "border": null,
            "align_items": null,
            "bottom": null,
            "_model_module": "@jupyter-widgets/base",
            "top": null,
            "grid_column": null,
            "overflow_y": null,
            "overflow_x": null,
            "grid_auto_flow": null,
            "grid_area": null,
            "grid_template_columns": null,
            "flex": null,
            "_model_name": "LayoutModel",
            "justify_items": null,
            "grid_row": null,
            "max_height": null,
            "align_content": null,
            "visibility": null,
            "align_self": null,
            "height": null,
            "min_height": null,
            "padding": null,
            "grid_auto_rows": null,
            "grid_gap": null,
            "max_width": null,
            "order": null,
            "_view_module_version": "1.2.0",
            "grid_template_areas": null,
            "object_position": null,
            "object_fit": null,
            "grid_auto_columns": null,
            "margin": null,
            "display": null,
            "left": null
          }
        },
        "71f000008b264f388f52a765cf043bbe": {
          "model_module": "@jupyter-widgets/controls",
          "model_name": "HBoxModel",
          "state": {
            "_view_name": "HBoxView",
            "_dom_classes": [],
            "_model_name": "HBoxModel",
            "_view_module": "@jupyter-widgets/controls",
            "_model_module_version": "1.5.0",
            "_view_count": null,
            "_view_module_version": "1.5.0",
            "box_style": "",
            "layout": "IPY_MODEL_26d85f99d9004ab4bca4d3adc9777136",
            "_model_module": "@jupyter-widgets/controls",
            "children": [
              "IPY_MODEL_da8d5e4e39c14b908dfa01752ab4da92",
              "IPY_MODEL_978dc8b847f3413192e672b71a0913fa"
            ]
          }
        },
        "26d85f99d9004ab4bca4d3adc9777136": {
          "model_module": "@jupyter-widgets/base",
          "model_name": "LayoutModel",
          "state": {
            "_view_name": "LayoutView",
            "grid_template_rows": null,
            "right": null,
            "justify_content": null,
            "_view_module": "@jupyter-widgets/base",
            "overflow": null,
            "_model_module_version": "1.2.0",
            "_view_count": null,
            "flex_flow": "row wrap",
            "width": "100%",
            "min_width": null,
            "border": null,
            "align_items": null,
            "bottom": null,
            "_model_module": "@jupyter-widgets/base",
            "top": null,
            "grid_column": null,
            "overflow_y": null,
            "overflow_x": null,
            "grid_auto_flow": null,
            "grid_area": null,
            "grid_template_columns": null,
            "flex": null,
            "_model_name": "LayoutModel",
            "justify_items": null,
            "grid_row": null,
            "max_height": null,
            "align_content": null,
            "visibility": null,
            "align_self": null,
            "height": null,
            "min_height": null,
            "padding": null,
            "grid_auto_rows": null,
            "grid_gap": null,
            "max_width": null,
            "order": null,
            "_view_module_version": "1.2.0",
            "grid_template_areas": null,
            "object_position": null,
            "object_fit": null,
            "grid_auto_columns": null,
            "margin": null,
            "display": "inline-flex",
            "left": null
          }
        },
        "da8d5e4e39c14b908dfa01752ab4da92": {
          "model_module": "@jupyter-widgets/controls",
          "model_name": "FloatProgressModel",
          "state": {
            "_view_name": "ProgressView",
            "style": "IPY_MODEL_6493367813944974b5583ee4dd192072",
            "_dom_classes": [],
            "description": "Validating: 100%",
            "_model_name": "FloatProgressModel",
            "bar_style": "info",
            "max": 34,
            "_view_module": "@jupyter-widgets/controls",
            "_model_module_version": "1.5.0",
            "value": 34,
            "_view_count": null,
            "_view_module_version": "1.5.0",
            "orientation": "horizontal",
            "min": 0,
            "description_tooltip": null,
            "_model_module": "@jupyter-widgets/controls",
            "layout": "IPY_MODEL_444d6ea6dac846f880bd4b7cc80c0617"
          }
        },
        "978dc8b847f3413192e672b71a0913fa": {
          "model_module": "@jupyter-widgets/controls",
          "model_name": "HTMLModel",
          "state": {
            "_view_name": "HTMLView",
            "style": "IPY_MODEL_1cbcc7e93fb6476aa16a2e2c7d4242cc",
            "_dom_classes": [],
            "description": "",
            "_model_name": "HTMLModel",
            "placeholder": "​",
            "_view_module": "@jupyter-widgets/controls",
            "_model_module_version": "1.5.0",
            "value": " 34/34 [00:00&lt;00:00, 52.62it/s]",
            "_view_count": null,
            "_view_module_version": "1.5.0",
            "description_tooltip": null,
            "_model_module": "@jupyter-widgets/controls",
            "layout": "IPY_MODEL_ddfb3e1ae0e2437d9620b4fe30c24959"
          }
        },
        "6493367813944974b5583ee4dd192072": {
          "model_module": "@jupyter-widgets/controls",
          "model_name": "ProgressStyleModel",
          "state": {
            "_view_name": "StyleView",
            "_model_name": "ProgressStyleModel",
            "description_width": "initial",
            "_view_module": "@jupyter-widgets/base",
            "_model_module_version": "1.5.0",
            "_view_count": null,
            "_view_module_version": "1.2.0",
            "bar_color": null,
            "_model_module": "@jupyter-widgets/controls"
          }
        },
        "444d6ea6dac846f880bd4b7cc80c0617": {
          "model_module": "@jupyter-widgets/base",
          "model_name": "LayoutModel",
          "state": {
            "_view_name": "LayoutView",
            "grid_template_rows": null,
            "right": null,
            "justify_content": null,
            "_view_module": "@jupyter-widgets/base",
            "overflow": null,
            "_model_module_version": "1.2.0",
            "_view_count": null,
            "flex_flow": null,
            "width": null,
            "min_width": null,
            "border": null,
            "align_items": null,
            "bottom": null,
            "_model_module": "@jupyter-widgets/base",
            "top": null,
            "grid_column": null,
            "overflow_y": null,
            "overflow_x": null,
            "grid_auto_flow": null,
            "grid_area": null,
            "grid_template_columns": null,
            "flex": "2",
            "_model_name": "LayoutModel",
            "justify_items": null,
            "grid_row": null,
            "max_height": null,
            "align_content": null,
            "visibility": null,
            "align_self": null,
            "height": null,
            "min_height": null,
            "padding": null,
            "grid_auto_rows": null,
            "grid_gap": null,
            "max_width": null,
            "order": null,
            "_view_module_version": "1.2.0",
            "grid_template_areas": null,
            "object_position": null,
            "object_fit": null,
            "grid_auto_columns": null,
            "margin": null,
            "display": null,
            "left": null
          }
        },
        "1cbcc7e93fb6476aa16a2e2c7d4242cc": {
          "model_module": "@jupyter-widgets/controls",
          "model_name": "DescriptionStyleModel",
          "state": {
            "_view_name": "StyleView",
            "_model_name": "DescriptionStyleModel",
            "description_width": "",
            "_view_module": "@jupyter-widgets/base",
            "_model_module_version": "1.5.0",
            "_view_count": null,
            "_view_module_version": "1.2.0",
            "_model_module": "@jupyter-widgets/controls"
          }
        },
        "ddfb3e1ae0e2437d9620b4fe30c24959": {
          "model_module": "@jupyter-widgets/base",
          "model_name": "LayoutModel",
          "state": {
            "_view_name": "LayoutView",
            "grid_template_rows": null,
            "right": null,
            "justify_content": null,
            "_view_module": "@jupyter-widgets/base",
            "overflow": null,
            "_model_module_version": "1.2.0",
            "_view_count": null,
            "flex_flow": null,
            "width": null,
            "min_width": null,
            "border": null,
            "align_items": null,
            "bottom": null,
            "_model_module": "@jupyter-widgets/base",
            "top": null,
            "grid_column": null,
            "overflow_y": null,
            "overflow_x": null,
            "grid_auto_flow": null,
            "grid_area": null,
            "grid_template_columns": null,
            "flex": null,
            "_model_name": "LayoutModel",
            "justify_items": null,
            "grid_row": null,
            "max_height": null,
            "align_content": null,
            "visibility": null,
            "align_self": null,
            "height": null,
            "min_height": null,
            "padding": null,
            "grid_auto_rows": null,
            "grid_gap": null,
            "max_width": null,
            "order": null,
            "_view_module_version": "1.2.0",
            "grid_template_areas": null,
            "object_position": null,
            "object_fit": null,
            "grid_auto_columns": null,
            "margin": null,
            "display": null,
            "left": null
          }
        }
      }
    }
  },
  "cells": [
    {
      "cell_type": "markdown",
      "metadata": {
        "id": "view-in-github",
        "colab_type": "text"
      },
      "source": [
        "<a href=\"https://colab.research.google.com/github/xx529/NLP/blob/main/ESIM/%E8%9A%82%E8%9A%81%E9%87%91%E8%9E%8D%E8%AF%AD%E4%B9%89%E7%9B%B8%E4%BC%BC%E5%BA%A6%E4%BB%BB%E5%8A%A1.ipynb\" target=\"_parent\"><img src=\"https://colab.research.google.com/assets/colab-badge.svg\" alt=\"Open In Colab\"/></a>"
      ]
    },
    {
      "cell_type": "code",
      "metadata": {
        "id": "AiBUNkGoLZA8",
        "colab": {
          "base_uri": "https://localhost:8080/"
        },
        "outputId": "2f0c8a57-d641-43e6-c95c-3f268ac87a0d"
      },
      "source": [
        "from google.colab import drive\n",
        "drive.mount('/content/drive')"
      ],
      "execution_count": 5,
      "outputs": [
        {
          "output_type": "stream",
          "text": [
            "Drive already mounted at /content/drive; to attempt to forcibly remount, call drive.mount(\"/content/drive\", force_remount=True).\n"
          ],
          "name": "stdout"
        }
      ]
    },
    {
      "cell_type": "code",
      "metadata": {
        "colab": {
          "base_uri": "https://localhost:8080/"
        },
        "id": "AThDG9W3M7Ss",
        "outputId": "a40db2d7-2c9b-49b9-beda-445c2c1b0e0d"
      },
      "source": [
        "!pip install pytorch_lightning"
      ],
      "execution_count": 6,
      "outputs": [
        {
          "output_type": "stream",
          "text": [
            "Requirement already satisfied: pytorch_lightning in /usr/local/lib/python3.7/dist-packages (1.4.1)\n",
            "Requirement already satisfied: tensorboard!=2.5.0,>=2.2.0 in /usr/local/lib/python3.7/dist-packages (from pytorch_lightning) (2.4.1)\n",
            "Requirement already satisfied: torchmetrics>=0.4.0 in /usr/local/lib/python3.7/dist-packages (from pytorch_lightning) (0.4.1)\n",
            "Requirement already satisfied: typing-extensions in /usr/local/lib/python3.7/dist-packages (from pytorch_lightning) (3.7.4.3)\n",
            "Requirement already satisfied: tqdm>=4.41.0 in /usr/local/lib/python3.7/dist-packages (from pytorch_lightning) (4.41.1)\n",
            "Requirement already satisfied: torch>=1.6 in /usr/local/lib/python3.7/dist-packages (from pytorch_lightning) (1.9.0+cu102)\n",
            "Requirement already satisfied: future>=0.17.1 in /usr/local/lib/python3.7/dist-packages (from pytorch_lightning) (0.18.2)\n",
            "Requirement already satisfied: pyDeprecate==0.3.1 in /usr/local/lib/python3.7/dist-packages (from pytorch_lightning) (0.3.1)\n",
            "Requirement already satisfied: fsspec[http]!=2021.06.0,>=2021.05.0 in /usr/local/lib/python3.7/dist-packages (from pytorch_lightning) (2021.7.0)\n",
            "Requirement already satisfied: PyYAML>=5.1 in /usr/local/lib/python3.7/dist-packages (from pytorch_lightning) (5.4.1)\n",
            "Requirement already satisfied: packaging>=17.0 in /usr/local/lib/python3.7/dist-packages (from pytorch_lightning) (21.0)\n",
            "Requirement already satisfied: numpy>=1.17.2 in /usr/local/lib/python3.7/dist-packages (from pytorch_lightning) (1.19.5)\n",
            "Requirement already satisfied: aiohttp in /usr/local/lib/python3.7/dist-packages (from fsspec[http]!=2021.06.0,>=2021.05.0->pytorch_lightning) (3.7.4.post0)\n",
            "Requirement already satisfied: requests in /usr/local/lib/python3.7/dist-packages (from fsspec[http]!=2021.06.0,>=2021.05.0->pytorch_lightning) (2.23.0)\n",
            "Requirement already satisfied: pyparsing>=2.0.2 in /usr/local/lib/python3.7/dist-packages (from packaging>=17.0->pytorch_lightning) (2.4.7)\n",
            "Requirement already satisfied: google-auth<2,>=1.6.3 in /usr/local/lib/python3.7/dist-packages (from tensorboard!=2.5.0,>=2.2.0->pytorch_lightning) (1.32.1)\n",
            "Requirement already satisfied: absl-py>=0.4 in /usr/local/lib/python3.7/dist-packages (from tensorboard!=2.5.0,>=2.2.0->pytorch_lightning) (0.12.0)\n",
            "Requirement already satisfied: setuptools>=41.0.0 in /usr/local/lib/python3.7/dist-packages (from tensorboard!=2.5.0,>=2.2.0->pytorch_lightning) (57.2.0)\n",
            "Requirement already satisfied: werkzeug>=0.11.15 in /usr/local/lib/python3.7/dist-packages (from tensorboard!=2.5.0,>=2.2.0->pytorch_lightning) (1.0.1)\n",
            "Requirement already satisfied: google-auth-oauthlib<0.5,>=0.4.1 in /usr/local/lib/python3.7/dist-packages (from tensorboard!=2.5.0,>=2.2.0->pytorch_lightning) (0.4.4)\n",
            "Requirement already satisfied: protobuf>=3.6.0 in /usr/local/lib/python3.7/dist-packages (from tensorboard!=2.5.0,>=2.2.0->pytorch_lightning) (3.17.3)\n",
            "Requirement already satisfied: six>=1.10.0 in /usr/local/lib/python3.7/dist-packages (from tensorboard!=2.5.0,>=2.2.0->pytorch_lightning) (1.15.0)\n",
            "Requirement already satisfied: tensorboard-plugin-wit>=1.6.0 in /usr/local/lib/python3.7/dist-packages (from tensorboard!=2.5.0,>=2.2.0->pytorch_lightning) (1.8.0)\n",
            "Requirement already satisfied: grpcio>=1.24.3 in /usr/local/lib/python3.7/dist-packages (from tensorboard!=2.5.0,>=2.2.0->pytorch_lightning) (1.34.1)\n",
            "Requirement already satisfied: wheel>=0.26 in /usr/local/lib/python3.7/dist-packages (from tensorboard!=2.5.0,>=2.2.0->pytorch_lightning) (0.36.2)\n",
            "Requirement already satisfied: markdown>=2.6.8 in /usr/local/lib/python3.7/dist-packages (from tensorboard!=2.5.0,>=2.2.0->pytorch_lightning) (3.3.4)\n",
            "Requirement already satisfied: cachetools<5.0,>=2.0.0 in /usr/local/lib/python3.7/dist-packages (from google-auth<2,>=1.6.3->tensorboard!=2.5.0,>=2.2.0->pytorch_lightning) (4.2.2)\n",
            "Requirement already satisfied: rsa<5,>=3.1.4 in /usr/local/lib/python3.7/dist-packages (from google-auth<2,>=1.6.3->tensorboard!=2.5.0,>=2.2.0->pytorch_lightning) (4.7.2)\n",
            "Requirement already satisfied: pyasn1-modules>=0.2.1 in /usr/local/lib/python3.7/dist-packages (from google-auth<2,>=1.6.3->tensorboard!=2.5.0,>=2.2.0->pytorch_lightning) (0.2.8)\n",
            "Requirement already satisfied: requests-oauthlib>=0.7.0 in /usr/local/lib/python3.7/dist-packages (from google-auth-oauthlib<0.5,>=0.4.1->tensorboard!=2.5.0,>=2.2.0->pytorch_lightning) (1.3.0)\n",
            "Requirement already satisfied: importlib-metadata in /usr/local/lib/python3.7/dist-packages (from markdown>=2.6.8->tensorboard!=2.5.0,>=2.2.0->pytorch_lightning) (4.6.1)\n",
            "Requirement already satisfied: pyasn1<0.5.0,>=0.4.6 in /usr/local/lib/python3.7/dist-packages (from pyasn1-modules>=0.2.1->google-auth<2,>=1.6.3->tensorboard!=2.5.0,>=2.2.0->pytorch_lightning) (0.4.8)\n",
            "Requirement already satisfied: idna<3,>=2.5 in /usr/local/lib/python3.7/dist-packages (from requests->fsspec[http]!=2021.06.0,>=2021.05.0->pytorch_lightning) (2.10)\n",
            "Requirement already satisfied: urllib3!=1.25.0,!=1.25.1,<1.26,>=1.21.1 in /usr/local/lib/python3.7/dist-packages (from requests->fsspec[http]!=2021.06.0,>=2021.05.0->pytorch_lightning) (1.24.3)\n",
            "Requirement already satisfied: chardet<4,>=3.0.2 in /usr/local/lib/python3.7/dist-packages (from requests->fsspec[http]!=2021.06.0,>=2021.05.0->pytorch_lightning) (3.0.4)\n",
            "Requirement already satisfied: certifi>=2017.4.17 in /usr/local/lib/python3.7/dist-packages (from requests->fsspec[http]!=2021.06.0,>=2021.05.0->pytorch_lightning) (2021.5.30)\n",
            "Requirement already satisfied: oauthlib>=3.0.0 in /usr/local/lib/python3.7/dist-packages (from requests-oauthlib>=0.7.0->google-auth-oauthlib<0.5,>=0.4.1->tensorboard!=2.5.0,>=2.2.0->pytorch_lightning) (3.1.1)\n",
            "Requirement already satisfied: attrs>=17.3.0 in /usr/local/lib/python3.7/dist-packages (from aiohttp->fsspec[http]!=2021.06.0,>=2021.05.0->pytorch_lightning) (21.2.0)\n",
            "Requirement already satisfied: yarl<2.0,>=1.0 in /usr/local/lib/python3.7/dist-packages (from aiohttp->fsspec[http]!=2021.06.0,>=2021.05.0->pytorch_lightning) (1.6.3)\n",
            "Requirement already satisfied: multidict<7.0,>=4.5 in /usr/local/lib/python3.7/dist-packages (from aiohttp->fsspec[http]!=2021.06.0,>=2021.05.0->pytorch_lightning) (5.1.0)\n",
            "Requirement already satisfied: async-timeout<4.0,>=3.0 in /usr/local/lib/python3.7/dist-packages (from aiohttp->fsspec[http]!=2021.06.0,>=2021.05.0->pytorch_lightning) (3.0.1)\n",
            "Requirement already satisfied: zipp>=0.5 in /usr/local/lib/python3.7/dist-packages (from importlib-metadata->markdown>=2.6.8->tensorboard!=2.5.0,>=2.2.0->pytorch_lightning) (3.5.0)\n"
          ],
          "name": "stdout"
        }
      ]
    },
    {
      "cell_type": "code",
      "metadata": {
        "id": "h-oHPxiMJs3d"
      },
      "source": [
        "import pandas as pd\n",
        "from tqdm import tqdm\n",
        "import json\n",
        "import bz2\n",
        "import numpy as np\n",
        "import jieba\n",
        "import torch.nn as nn\n",
        "import random\n",
        "from torch.utils.data import TensorDataset, DataLoader, Dataset\n",
        "import torch\n",
        "import torch.nn.functional as F\n",
        "import pytorch_lightning as pl\n",
        "from pytorch_lightning import loggers as pl_loggers\n",
        "from torchmetrics.functional import accuracy"
      ],
      "execution_count": 30,
      "outputs": []
    },
    {
      "cell_type": "markdown",
      "metadata": {
        "id": "H5vwzITANxLx"
      },
      "source": [
        "## Loading"
      ]
    },
    {
      "cell_type": "code",
      "metadata": {
        "id": "ept9rQVsLsAC",
        "colab": {
          "base_uri": "https://localhost:8080/",
          "height": 419
        },
        "outputId": "caf18390-309a-48a7-f6d0-39b5865fb8a3"
      },
      "source": [
        "with open('/content/drive/MyDrive/Colab Notebooks Project/NLP/ESIM/train.json') as f:\n",
        "    train_raw = f.readlines()\n",
        "df_train = pd.DataFrame([json.loads(train_raw[x]) for x in range(len(train_raw))])\n",
        "df_train['label'] = df_train['label'].astype(int)\n",
        "df_train"
      ],
      "execution_count": 8,
      "outputs": [
        {
          "output_type": "execute_result",
          "data": {
            "text/html": [
              "<div>\n",
              "<style scoped>\n",
              "    .dataframe tbody tr th:only-of-type {\n",
              "        vertical-align: middle;\n",
              "    }\n",
              "\n",
              "    .dataframe tbody tr th {\n",
              "        vertical-align: top;\n",
              "    }\n",
              "\n",
              "    .dataframe thead th {\n",
              "        text-align: right;\n",
              "    }\n",
              "</style>\n",
              "<table border=\"1\" class=\"dataframe\">\n",
              "  <thead>\n",
              "    <tr style=\"text-align: right;\">\n",
              "      <th></th>\n",
              "      <th>sentence1</th>\n",
              "      <th>sentence2</th>\n",
              "      <th>label</th>\n",
              "    </tr>\n",
              "  </thead>\n",
              "  <tbody>\n",
              "    <tr>\n",
              "      <th>0</th>\n",
              "      <td>蚂蚁借呗等额还款可以换成先息后本吗</td>\n",
              "      <td>借呗有先息到期还本吗</td>\n",
              "      <td>0</td>\n",
              "    </tr>\n",
              "    <tr>\n",
              "      <th>1</th>\n",
              "      <td>蚂蚁花呗说我违约一次</td>\n",
              "      <td>蚂蚁花呗违约行为是什么</td>\n",
              "      <td>0</td>\n",
              "    </tr>\n",
              "    <tr>\n",
              "      <th>2</th>\n",
              "      <td>帮我看一下本月花呗账单有没有结清</td>\n",
              "      <td>下月花呗账单</td>\n",
              "      <td>0</td>\n",
              "    </tr>\n",
              "    <tr>\n",
              "      <th>3</th>\n",
              "      <td>蚂蚁借呗多长时间综合评估一次</td>\n",
              "      <td>借呗得评估多久</td>\n",
              "      <td>0</td>\n",
              "    </tr>\n",
              "    <tr>\n",
              "      <th>4</th>\n",
              "      <td>我的花呗账单是***，还款怎么是***</td>\n",
              "      <td>我的花呗，月结出来说让我还***元，我自己算了一下详细名单我应该还***元</td>\n",
              "      <td>1</td>\n",
              "    </tr>\n",
              "    <tr>\n",
              "      <th>...</th>\n",
              "      <td>...</td>\n",
              "      <td>...</td>\n",
              "      <td>...</td>\n",
              "    </tr>\n",
              "    <tr>\n",
              "      <th>34329</th>\n",
              "      <td>借呗还款日是</td>\n",
              "      <td>借呗还款日计算方法</td>\n",
              "      <td>0</td>\n",
              "    </tr>\n",
              "    <tr>\n",
              "      <th>34330</th>\n",
              "      <td>支付宝怎么关闭花呗自动付款功能</td>\n",
              "      <td>如何关闭余额支付功能</td>\n",
              "      <td>0</td>\n",
              "    </tr>\n",
              "    <tr>\n",
              "      <th>34331</th>\n",
              "      <td>为什么我借呗利息越来越高了</td>\n",
              "      <td>借呗分期利率怎么计算的</td>\n",
              "      <td>0</td>\n",
              "    </tr>\n",
              "    <tr>\n",
              "      <th>34332</th>\n",
              "      <td>二维码开通花呗信用卡付款</td>\n",
              "      <td>怎么样开通花呗信用卡支付码</td>\n",
              "      <td>0</td>\n",
              "    </tr>\n",
              "    <tr>\n",
              "      <th>34333</th>\n",
              "      <td>借呗申请成功为什么没有额度</td>\n",
              "      <td>为什么我借呗没有额度了</td>\n",
              "      <td>0</td>\n",
              "    </tr>\n",
              "  </tbody>\n",
              "</table>\n",
              "<p>34334 rows × 3 columns</p>\n",
              "</div>"
            ],
            "text/plain": [
              "                 sentence1                              sentence2  label\n",
              "0        蚂蚁借呗等额还款可以换成先息后本吗                             借呗有先息到期还本吗      0\n",
              "1               蚂蚁花呗说我违约一次                            蚂蚁花呗违约行为是什么      0\n",
              "2         帮我看一下本月花呗账单有没有结清                                 下月花呗账单      0\n",
              "3           蚂蚁借呗多长时间综合评估一次                                借呗得评估多久      0\n",
              "4      我的花呗账单是***，还款怎么是***  我的花呗，月结出来说让我还***元，我自己算了一下详细名单我应该还***元      1\n",
              "...                    ...                                    ...    ...\n",
              "34329               借呗还款日是                              借呗还款日计算方法      0\n",
              "34330      支付宝怎么关闭花呗自动付款功能                             如何关闭余额支付功能      0\n",
              "34331        为什么我借呗利息越来越高了                            借呗分期利率怎么计算的      0\n",
              "34332         二维码开通花呗信用卡付款                          怎么样开通花呗信用卡支付码      0\n",
              "34333        借呗申请成功为什么没有额度                            为什么我借呗没有额度了      0\n",
              "\n",
              "[34334 rows x 3 columns]"
            ]
          },
          "metadata": {
            "tags": []
          },
          "execution_count": 8
        }
      ]
    },
    {
      "cell_type": "code",
      "metadata": {
        "id": "8jT4DMAfL-pv",
        "colab": {
          "base_uri": "https://localhost:8080/",
          "height": 419
        },
        "outputId": "4ecb9185-cd74-438f-dec9-babab1de65b6"
      },
      "source": [
        "with open('/content/drive/MyDrive/Colab Notebooks Project/NLP/ESIM/dev.json') as f:\n",
        "    dev_raw = f.readlines()\n",
        "df_dev = pd.DataFrame([json.loads(dev_raw[x]) for x in range(len(dev_raw))])\n",
        "df_dev['label'] = df_dev['label'].astype(int)\n",
        "df_dev"
      ],
      "execution_count": 9,
      "outputs": [
        {
          "output_type": "execute_result",
          "data": {
            "text/html": [
              "<div>\n",
              "<style scoped>\n",
              "    .dataframe tbody tr th:only-of-type {\n",
              "        vertical-align: middle;\n",
              "    }\n",
              "\n",
              "    .dataframe tbody tr th {\n",
              "        vertical-align: top;\n",
              "    }\n",
              "\n",
              "    .dataframe thead th {\n",
              "        text-align: right;\n",
              "    }\n",
              "</style>\n",
              "<table border=\"1\" class=\"dataframe\">\n",
              "  <thead>\n",
              "    <tr style=\"text-align: right;\">\n",
              "      <th></th>\n",
              "      <th>sentence1</th>\n",
              "      <th>sentence2</th>\n",
              "      <th>label</th>\n",
              "    </tr>\n",
              "  </thead>\n",
              "  <tbody>\n",
              "    <tr>\n",
              "      <th>0</th>\n",
              "      <td>双十一花呗提额在哪</td>\n",
              "      <td>里可以提花呗额度</td>\n",
              "      <td>0</td>\n",
              "    </tr>\n",
              "    <tr>\n",
              "      <th>1</th>\n",
              "      <td>花呗支持高铁票支付吗</td>\n",
              "      <td>为什么友付宝不支持花呗付款</td>\n",
              "      <td>0</td>\n",
              "    </tr>\n",
              "    <tr>\n",
              "      <th>2</th>\n",
              "      <td>我的蚂蚁花呗支付金额怎么会有限制</td>\n",
              "      <td>我到支付宝实体店消费用花呗支付受金额限制</td>\n",
              "      <td>1</td>\n",
              "    </tr>\n",
              "    <tr>\n",
              "      <th>3</th>\n",
              "      <td>为什么有花呗额度不能分期付款</td>\n",
              "      <td>花呗分期额度不足</td>\n",
              "      <td>0</td>\n",
              "    </tr>\n",
              "    <tr>\n",
              "      <th>4</th>\n",
              "      <td>赠品不能设置用花呗付款</td>\n",
              "      <td>怎么不能花呗分期付款</td>\n",
              "      <td>0</td>\n",
              "    </tr>\n",
              "    <tr>\n",
              "      <th>...</th>\n",
              "      <td>...</td>\n",
              "      <td>...</td>\n",
              "      <td>...</td>\n",
              "    </tr>\n",
              "    <tr>\n",
              "      <th>4311</th>\n",
              "      <td>使用的借呗之后，可以出国吗，因为我的工作在国外，我需要在国外还款</td>\n",
              "      <td>借呗这个月分期还款了，还了的钱还可以再次取出用吗</td>\n",
              "      <td>0</td>\n",
              "    </tr>\n",
              "    <tr>\n",
              "      <th>4312</th>\n",
              "      <td>还要多久能开通花呗</td>\n",
              "      <td>花呗要多久才会重新开通</td>\n",
              "      <td>0</td>\n",
              "    </tr>\n",
              "    <tr>\n",
              "      <th>4313</th>\n",
              "      <td>怎样设置花呗访问手机通讯录</td>\n",
              "      <td>花呗读取不了手机通讯录权限</td>\n",
              "      <td>0</td>\n",
              "    </tr>\n",
              "    <tr>\n",
              "      <th>4314</th>\n",
              "      <td>花呗的学历填错了，可不可以改</td>\n",
              "      <td>花呗学历填错了怎样修改</td>\n",
              "      <td>0</td>\n",
              "    </tr>\n",
              "    <tr>\n",
              "      <th>4315</th>\n",
              "      <td>我的淘宝绑不了花呗</td>\n",
              "      <td>怎么花呗绑不了淘宝</td>\n",
              "      <td>1</td>\n",
              "    </tr>\n",
              "  </tbody>\n",
              "</table>\n",
              "<p>4316 rows × 3 columns</p>\n",
              "</div>"
            ],
            "text/plain": [
              "                             sentence1                 sentence2  label\n",
              "0                            双十一花呗提额在哪                  里可以提花呗额度      0\n",
              "1                           花呗支持高铁票支付吗             为什么友付宝不支持花呗付款      0\n",
              "2                     我的蚂蚁花呗支付金额怎么会有限制      我到支付宝实体店消费用花呗支付受金额限制      1\n",
              "3                       为什么有花呗额度不能分期付款                  花呗分期额度不足      0\n",
              "4                          赠品不能设置用花呗付款                怎么不能花呗分期付款      0\n",
              "...                                ...                       ...    ...\n",
              "4311  使用的借呗之后，可以出国吗，因为我的工作在国外，我需要在国外还款  借呗这个月分期还款了，还了的钱还可以再次取出用吗      0\n",
              "4312                         还要多久能开通花呗               花呗要多久才会重新开通      0\n",
              "4313                     怎样设置花呗访问手机通讯录             花呗读取不了手机通讯录权限      0\n",
              "4314                    花呗的学历填错了，可不可以改               花呗学历填错了怎样修改      0\n",
              "4315                         我的淘宝绑不了花呗                 怎么花呗绑不了淘宝      1\n",
              "\n",
              "[4316 rows x 3 columns]"
            ]
          },
          "metadata": {
            "tags": []
          },
          "execution_count": 9
        }
      ]
    },
    {
      "cell_type": "code",
      "metadata": {
        "id": "VUfCfyuzMAOr",
        "colab": {
          "base_uri": "https://localhost:8080/",
          "height": 419
        },
        "outputId": "20d697df-671c-4995-c1cd-5a2062aebaa5"
      },
      "source": [
        "with open('/content/drive/MyDrive/Colab Notebooks Project/NLP/ESIM/test.json') as f:\n",
        "    test_raw = f.readlines()\n",
        "df_test = pd.DataFrame([json.loads(test_raw[x]) for x in range(len(test_raw))])\n",
        "df_test"
      ],
      "execution_count": 10,
      "outputs": [
        {
          "output_type": "execute_result",
          "data": {
            "text/html": [
              "<div>\n",
              "<style scoped>\n",
              "    .dataframe tbody tr th:only-of-type {\n",
              "        vertical-align: middle;\n",
              "    }\n",
              "\n",
              "    .dataframe tbody tr th {\n",
              "        vertical-align: top;\n",
              "    }\n",
              "\n",
              "    .dataframe thead th {\n",
              "        text-align: right;\n",
              "    }\n",
              "</style>\n",
              "<table border=\"1\" class=\"dataframe\">\n",
              "  <thead>\n",
              "    <tr style=\"text-align: right;\">\n",
              "      <th></th>\n",
              "      <th>id</th>\n",
              "      <th>sentence1</th>\n",
              "      <th>sentence2</th>\n",
              "    </tr>\n",
              "  </thead>\n",
              "  <tbody>\n",
              "    <tr>\n",
              "      <th>0</th>\n",
              "      <td>0</td>\n",
              "      <td>借呗什么时候会取消</td>\n",
              "      <td>蚂蚁借呗什么时候可以恢复***个月</td>\n",
              "    </tr>\n",
              "    <tr>\n",
              "      <th>1</th>\n",
              "      <td>1</td>\n",
              "      <td>网商贷怎么转变成借呗</td>\n",
              "      <td>如何将网商贷切换为借呗</td>\n",
              "    </tr>\n",
              "    <tr>\n",
              "      <th>2</th>\n",
              "      <td>2</td>\n",
              "      <td>我的借呗为啥开通不了</td>\n",
              "      <td>我怎么没法开通借呗</td>\n",
              "    </tr>\n",
              "    <tr>\n",
              "      <th>3</th>\n",
              "      <td>3</td>\n",
              "      <td>蚂蚁借呗额度怎么不显示了</td>\n",
              "      <td>蚂蚁借呗额度不显示了</td>\n",
              "    </tr>\n",
              "    <tr>\n",
              "      <th>4</th>\n",
              "      <td>4</td>\n",
              "      <td>我的借呗没用给关闭了</td>\n",
              "      <td>把我的借呗关了</td>\n",
              "    </tr>\n",
              "    <tr>\n",
              "      <th>...</th>\n",
              "      <td>...</td>\n",
              "      <td>...</td>\n",
              "      <td>...</td>\n",
              "    </tr>\n",
              "    <tr>\n",
              "      <th>3856</th>\n",
              "      <td>3856</td>\n",
              "      <td>花呗怎么不能再美团使用了</td>\n",
              "      <td>美团 滴滴用不了花呗</td>\n",
              "    </tr>\n",
              "    <tr>\n",
              "      <th>3857</th>\n",
              "      <td>3857</td>\n",
              "      <td>花呗的货币是真实的吗</td>\n",
              "      <td>花呗是自己设定的吗</td>\n",
              "    </tr>\n",
              "    <tr>\n",
              "      <th>3858</th>\n",
              "      <td>3858</td>\n",
              "      <td>花呗分期后为什么不可以提前还款</td>\n",
              "      <td>花呗还可以负数么</td>\n",
              "    </tr>\n",
              "    <tr>\n",
              "      <th>3859</th>\n",
              "      <td>3859</td>\n",
              "      <td>是用户用花呗支付。我们要收取多少比例的费用</td>\n",
              "      <td>我店铺怎么用不了花呗的</td>\n",
              "    </tr>\n",
              "    <tr>\n",
              "      <th>3860</th>\n",
              "      <td>3860</td>\n",
              "      <td>支付宝的花呗可以查，淘宝里面的差不了，一直说我支付宝存在风险</td>\n",
              "      <td>花呗 支付宝账号存在风险</td>\n",
              "    </tr>\n",
              "  </tbody>\n",
              "</table>\n",
              "<p>3861 rows × 3 columns</p>\n",
              "</div>"
            ],
            "text/plain": [
              "        id                       sentence1          sentence2\n",
              "0        0                       借呗什么时候会取消  蚂蚁借呗什么时候可以恢复***个月\n",
              "1        1                      网商贷怎么转变成借呗        如何将网商贷切换为借呗\n",
              "2        2                      我的借呗为啥开通不了          我怎么没法开通借呗\n",
              "3        3                    蚂蚁借呗额度怎么不显示了         蚂蚁借呗额度不显示了\n",
              "4        4                      我的借呗没用给关闭了            把我的借呗关了\n",
              "...    ...                             ...                ...\n",
              "3856  3856                    花呗怎么不能再美团使用了         美团 滴滴用不了花呗\n",
              "3857  3857                      花呗的货币是真实的吗          花呗是自己设定的吗\n",
              "3858  3858                 花呗分期后为什么不可以提前还款           花呗还可以负数么\n",
              "3859  3859           是用户用花呗支付。我们要收取多少比例的费用        我店铺怎么用不了花呗的\n",
              "3860  3860  支付宝的花呗可以查，淘宝里面的差不了，一直说我支付宝存在风险       花呗 支付宝账号存在风险\n",
              "\n",
              "[3861 rows x 3 columns]"
            ]
          },
          "metadata": {
            "tags": []
          },
          "execution_count": 10
        }
      ]
    },
    {
      "cell_type": "code",
      "metadata": {
        "id": "HufMztAUN4Qj"
      },
      "source": [
        "with bz2.open('/content/drive/MyDrive/Colab Notebooks Project/NLP/TouTiao_text/sgns.weibo.word.bz2') as f:\n",
        "    embedding_raw = f.readlines()"
      ],
      "execution_count": 11,
      "outputs": []
    },
    {
      "cell_type": "code",
      "metadata": {
        "id": "qG5DaCf3OGvL"
      },
      "source": [
        "info, *emb = embedding_raw\n",
        "num, embedding_dim = map(int, info.decode('utf8').split())\n",
        "\n",
        "word_to_idx, idx_to_word = {'<unk>': 0}, {0: '<unk>'}\n",
        "embedding_mat = np.zeros((num + 1, embedding_dim))\n",
        "\n",
        "for idx, i in enumerate(emb):\n",
        "    word, *embedding = i.decode('utf8').split()\n",
        "    word_to_idx[word] = idx + 1\n",
        "    idx_to_word[idx + 1] = word\n",
        "    embedding_mat[idx] = list(map(float, embedding))"
      ],
      "execution_count": 12,
      "outputs": []
    },
    {
      "cell_type": "markdown",
      "metadata": {
        "id": "3U3fysngPUpV"
      },
      "source": [
        "## process context"
      ]
    },
    {
      "cell_type": "code",
      "metadata": {
        "id": "aL4FyuirPv8r",
        "colab": {
          "base_uri": "https://localhost:8080/"
        },
        "outputId": "c1ab9985-0439-4779-f8dc-bf4a6ba2684f"
      },
      "source": [
        "def transform_to_idx(x):\n",
        "    idx_list = [word_to_idx[i] if i in word_to_idx else 0 for i in jieba.lcut(x)]\n",
        "    length = len(idx_list)\n",
        "    if length >= 30:\n",
        "        return np.array(idx_list[:30])\n",
        "    else:\n",
        "        return np.array(idx_list + [0]*(30-length))\n",
        "\n",
        "for df in [df_train, df_dev, df_test]:\n",
        "    df['query'] = df['sentence1'].apply(transform_to_idx)\n",
        "    df['doc'] = df['sentence2'].apply(transform_to_idx)"
      ],
      "execution_count": 13,
      "outputs": [
        {
          "output_type": "stream",
          "text": [
            "Building prefix dict from the default dictionary ...\n",
            "Dumping model to file cache /tmp/jieba.cache\n",
            "Loading model cost 0.808 seconds.\n",
            "Prefix dict has been built successfully.\n"
          ],
          "name": "stderr"
        }
      ]
    },
    {
      "cell_type": "markdown",
      "metadata": {
        "id": "LwzPkUW9b50M"
      },
      "source": [
        "## dataset"
      ]
    },
    {
      "cell_type": "code",
      "metadata": {
        "id": "8WBlvD0Jeo68"
      },
      "source": [
        "class MyDataSet(Dataset):\n",
        "    def __init__(self, query, doc, y=None):\n",
        "        super().__init__()\n",
        "        self.x = [(torch.LongTensor(q), torch.LongTensor(d)) for q, d in zip(query, doc)]\n",
        "        self.y = torch.LongTensor(y) if y is not None else [0] * len(query) \n",
        "\n",
        "    def __getitem__(self, idx):\n",
        "        return self.x[idx], self.y[idx]\n",
        "\n",
        "    def __len__(self):\n",
        "        return len(self.x)"
      ],
      "execution_count": 53,
      "outputs": []
    },
    {
      "cell_type": "markdown",
      "metadata": {
        "id": "PAXZ9sZEgp-o"
      },
      "source": [
        "## Backbone"
      ]
    },
    {
      "cell_type": "code",
      "metadata": {
        "id": "Crdth91Tj4Nc"
      },
      "source": [
        "config = {\n",
        "    'embedding_mat': torch.Tensor(embedding_mat),  # 词向量矩阵\n",
        "    'is_embedding_freeze': True,                   # 词向量是否进行固定\n",
        "    'base_rnn': nn.GRU,                            # BiLSTM 使用的 rnn 类型\n",
        "    'stack_rnn_layers': 2,                         # BiLSTM stack 的层数\n",
        "    'input_size': embedding_dim,                   # Input Encoding 的 BiLSTM 初始输入的特征维度\n",
        "    'hidden_size': 32,                             # BiLSTM 隐藏层的特征维度\n",
        "    'rnn_layer': 1,                                # 每个 BiLSTM 里的层数\n",
        "    'mlp_dim': 32,                                 # 1 层分类层的维度\n",
        "    'num_label': 2                                 # 标签值个数\n",
        "}"
      ],
      "execution_count": 15,
      "outputs": []
    },
    {
      "cell_type": "markdown",
      "metadata": {
        "id": "wJVwZHgS_GdC"
      },
      "source": [
        "### Embedding"
      ]
    },
    {
      "cell_type": "code",
      "metadata": {
        "id": "6nX8heS8_ISs"
      },
      "source": [
        "class EmbeddingPair(nn.Module):\n",
        "    def __init__(self, confing):\n",
        "        super(EmbeddingPair, self).__init__()\n",
        "        self.embedding = nn.Embedding.from_pretrained(\n",
        "            embeddings=config['embedding_mat'], \n",
        "            freeze=config['is_embedding_freeze']\n",
        "            )\n",
        "\n",
        "    def forward(self, pair_x):\n",
        "        query, doc = pair_x\n",
        "        query_embedding = self.embedding(query)\n",
        "        doc_embedding = self.embedding(doc)\n",
        "        return query_embedding, doc_embedding"
      ],
      "execution_count": 16,
      "outputs": []
    },
    {
      "cell_type": "markdown",
      "metadata": {
        "id": "8sop1gcNxOQW"
      },
      "source": [
        "### BiLSTM"
      ]
    },
    {
      "cell_type": "code",
      "metadata": {
        "id": "FKH2qtLSijPA"
      },
      "source": [
        "class BiLSTM(nn.Module):\n",
        "    def __init__(self, config, layer_name):\n",
        "        super(BiLSTM, self).__init__()\n",
        "\n",
        "        # Input Encoding 与 Composition Layer 的输入维度不同\n",
        "        if layer_name == 'encoding':\n",
        "            input_size = config['input_size']\n",
        "        elif layer_name == 'composition':\n",
        "            input_size = config['hidden_size']\n",
        "        \n",
        "        # stack rnn 层数\n",
        "        self.layers = config['stack_rnn_layers']\n",
        "        \n",
        "        # 两层堆叠的 RNN 层，前一层的 output 是后一层的 input\n",
        "        self.stack_rnn = nn.ModuleList()\n",
        "        \n",
        "        for i in range(config['stack_rnn_layers']):\n",
        "            rnn_input_size = input_size if i == 0 else 2 * config['hidden_size']\n",
        "\n",
        "            self.stack_rnn.append(\n",
        "                config['base_rnn'](\n",
        "                    input_size=rnn_input_size,\n",
        "                    hidden_size=config['hidden_size'],\n",
        "                    num_layers=config['rnn_layer'],\n",
        "                    bidirectional=True\n",
        "                    ))\n",
        "\n",
        "    def forward(self, pair_x):\n",
        "        query, doc = pair_x\n",
        "\n",
        "        # (batch, seq, embedding_dim) - tensor.transpose -> (seq, batch，input_size)\n",
        "        # LSTM 的输入需要维度 (seq, batch，input_size)\n",
        "        # 初始值当作最开始的输出值\n",
        "        query = query.transpose(1,0)\n",
        "        doc = doc.transpose(1,0)\n",
        "\n",
        "        # 每一层 stackrnn 计算\n",
        "        for i in range(len(self.stack_rnn)):\n",
        "            query, _ = self.stack_rnn[i](query)  # Outputs: output, (h_n, c_n)\n",
        "            doc, _ = self.stack_rnn[i](doc)  # Outputs: output, (h_n, c_n)\n",
        "\n",
        "        # 维度转换 (seq, batch, hidden_dim) -> (batch, seq, hidden_dim) 输出\n",
        "        query = query.permute(1, 0, 2)\n",
        "        doc = doc.permute(1, 0, 2)\n",
        "        \n",
        "        return query, doc"
      ],
      "execution_count": 17,
      "outputs": []
    },
    {
      "cell_type": "markdown",
      "metadata": {
        "id": "yhd48d_RbFcB"
      },
      "source": [
        "### EnhanceInformation"
      ]
    },
    {
      "cell_type": "code",
      "metadata": {
        "id": "zdkcfcZWgcga"
      },
      "source": [
        "class EnhanceInformation(nn.Module):\n",
        "    def __init__(self):\n",
        "        super(EnhanceInformation, self).__init__()\n",
        "\n",
        "    def forward(self, pair_x):\n",
        "        \n",
        "        # (batch, seq, hidden_dim)\n",
        "        query, doc = pair_x\n",
        "\n",
        "        # 求出对应相似度矩阵 e -> (batch, seq, seq)\n",
        "        e = torch.bmm(query, doc.transpose(1, 2))  # Equation (11) \n",
        "\n",
        "        # 求出对应 query 和 doc 的 attention weight -> (batch, seq, seq)\n",
        "        attention_query_doc = F.softmax(e, dim=2)  # Equation (12) \n",
        "        attention_doc_query = F.softmax(e, dim=1)  # Equation (13)\n",
        "\n",
        "        # 求 attention 加权求和后的矩阵 -> (batch, seq, hidden_dim)\n",
        "        query_attention = torch.bmm(attention_query_doc, doc)\n",
        "        doc_attention = torch.bmm(attention_doc_query, query)\n",
        "\n",
        "        # Enhancement of local inference information -> (batch, seq, 4 * hidden_dim)\n",
        "        m_query = torch.cat((query, query_attention, query-query_attention, query*query_attention), dim=-1)  # Equation (14)\n",
        "        m_doc = torch.cat((doc, doc_attention, doc-doc_attention, doc*doc_attention), dim=-1) # Equation (15)\n",
        "\n",
        "        return m_query, m_doc"
      ],
      "execution_count": 18,
      "outputs": []
    },
    {
      "cell_type": "markdown",
      "metadata": {
        "id": "LZ_zAhNDFAu1"
      },
      "source": [
        "### FeedForward"
      ]
    },
    {
      "cell_type": "code",
      "metadata": {
        "id": "sCVY5W4AAD-7"
      },
      "source": [
        "class ForwardPair(nn.Module):\n",
        "    def __init__(self, config):\n",
        "        super(ForwardPair, self).__init__()\n",
        "        self.linear = nn.Linear(config['hidden_size']*2*4, config['hidden_size'])\n",
        "        self.relu = nn.ReLU()\n",
        "\n",
        "    def forward(self, pair_x):\n",
        "        query, doc = pair_x\n",
        "        query = self.relu(self.linear(query))\n",
        "        doc = self.relu(self.linear(doc))\n",
        "        return query, doc"
      ],
      "execution_count": 19,
      "outputs": []
    },
    {
      "cell_type": "markdown",
      "metadata": {
        "id": "4boHf-yrFF4m"
      },
      "source": [
        "### Pooling"
      ]
    },
    {
      "cell_type": "code",
      "metadata": {
        "id": "pQO8bFR4FIVt"
      },
      "source": [
        "class Pooling(nn.Module):\n",
        "    def __init__(self):\n",
        "        super(Pooling, self).__init__()\n",
        "\n",
        "    def forward(self, pair_x):\n",
        "        query, doc = pair_x\n",
        "\n",
        "        # Equation (18) (batch, seq, hidden_dim) -> (batch, hidden_dim) \n",
        "        query_ave = query.sum(dim=1) / query.shape[1]\n",
        "        query_max, _ = query.max(dim=1)\n",
        "\n",
        "        # Equation (19) (batch, seq, hidden_dim) -> (batch, hidden_dim) \n",
        "        doc_ave = doc.sum(dim=1) / doc.shape[1]\n",
        "        doc_max, _ = doc.max(dim=1)\n",
        "\n",
        "        # 合并成一个(batch, hidden_dim) -> (batch, 4 * hidden_dim) \n",
        "        v = torch.cat((query_ave, query_max, doc_ave, doc_max), dim=-1)\n",
        "        \n",
        "        return v"
      ],
      "execution_count": 20,
      "outputs": []
    },
    {
      "cell_type": "markdown",
      "metadata": {
        "id": "y-MIhUdLLRJQ"
      },
      "source": [
        "### Classification"
      ]
    },
    {
      "cell_type": "code",
      "metadata": {
        "id": "fm4VVUnPLTnn"
      },
      "source": [
        "class Classification(nn.Module):\n",
        "    def __init__(self, config):\n",
        "        super(Classification, self).__init__()\n",
        "        self.mlp = nn.Linear(config['hidden_size']*2*4, config['mlp_dim'])\n",
        "        self.tanh = nn.Tanh()\n",
        "        self.out = nn.Linear(config['mlp_dim'], config['num_label'])\n",
        "\n",
        "    def forward(self, x):\n",
        "        x = self.mlp(x)\n",
        "        x = self.tanh(x)\n",
        "        x = self.out(x)\n",
        "        return x"
      ],
      "execution_count": 21,
      "outputs": []
    },
    {
      "cell_type": "markdown",
      "metadata": {
        "id": "etlpoiZ2vsxI"
      },
      "source": [
        "### ESIM Model"
      ]
    },
    {
      "cell_type": "code",
      "metadata": {
        "id": "Hf4rhYM_xLKI"
      },
      "source": [
        "class ESIM(nn.Module):\n",
        "    def __init__(self, config):\n",
        "        super(ESIM, self).__init__()\n",
        "        self.do = nn.Sequential(\n",
        "            EmbeddingPair(config),\n",
        "            BiLSTM(config, 'encoding'),\n",
        "            EnhanceInformation(),\n",
        "            ForwardPair(config),\n",
        "            BiLSTM(config, 'composition'),\n",
        "            Pooling(),\n",
        "            Classification(config)\n",
        "            )\n",
        "        \n",
        "    def forward(self, pair_x):\n",
        "        return self.do(pair_x)"
      ],
      "execution_count": 56,
      "outputs": []
    },
    {
      "cell_type": "markdown",
      "metadata": {
        "id": "En4a7gXFLP2R"
      },
      "source": [
        "## Train Model"
      ]
    },
    {
      "cell_type": "code",
      "metadata": {
        "id": "GMjaXGktM1lj"
      },
      "source": [
        "class TrainModel(pl.LightningModule):\n",
        "    def __init__(self, network):\n",
        "        super(TrainModel, self).__init__()\n",
        "        self.backbone = network\n",
        "        self.loss = nn.CrossEntropyLoss()\n",
        "        self.lr = 1e-6\n",
        "\n",
        "    def training_step(self, batch, batch_idx):\n",
        "        x, y = batch\n",
        "        output = self.backbone(x)\n",
        "        loss = self.loss(output, y)\n",
        "        self.log('Training Loss', loss)\n",
        "        return loss\n",
        "\n",
        "    def validation_step(self, batch, batch_idx):\n",
        "        x, y = batch\n",
        "        output = self.backbone(x)\n",
        "        loss = self.loss(output, y)\n",
        "        self.log('Validation Loss', loss)\n",
        "        pre = F.softmax(output, dim=-1).argmax(dim=-1)\n",
        "        acc = accuracy(pre, y)\n",
        "        self.log('Validation Accuracy', acc)\n",
        "        return loss\n",
        "\n",
        "    def configure_optimizers(self):\n",
        "        # optimizer = torch.optim.Adam(self.parameters(), lr=self.lr)\n",
        "        optimizer = torch.optim.Adam(self.parameters())\n",
        "        return optimizer\n",
        "\n",
        "    def forward(self, x):\n",
        "        predict = self.backbone(x)\n",
        "        predict = F.softmax(predict, dim=-1).argmax(dim=-1)\n",
        "        return predict"
      ],
      "execution_count": 60,
      "outputs": []
    },
    {
      "cell_type": "code",
      "metadata": {
        "id": "ZNCy0RZSOOKr"
      },
      "source": [
        "%load_ext tensorboard"
      ],
      "execution_count": 24,
      "outputs": []
    },
    {
      "cell_type": "code",
      "metadata": {
        "colab": {
          "base_uri": "https://localhost:8080/"
        },
        "id": "C6SDWh0z8bMX",
        "outputId": "7e871293-d1bd-410e-f311-a2edde836917"
      },
      "source": [
        "# !rm -rf /content/logs\n",
        "# !ls"
      ],
      "execution_count": 71,
      "outputs": [
        {
          "output_type": "stream",
          "text": [
            "drive  sample_data\n"
          ],
          "name": "stdout"
        }
      ]
    },
    {
      "cell_type": "markdown",
      "metadata": {
        "id": "rT4FDIR7OHtV"
      },
      "source": [
        "## Trainning"
      ]
    },
    {
      "cell_type": "code",
      "metadata": {
        "colab": {
          "base_uri": "https://localhost:8080/",
          "height": 400,
          "referenced_widgets": [
            "a66824f842ec43a58e09320387a770bd",
            "03de1f84768f4dadaaf2fc5070c2c599",
            "cad0348d0ccb480fbade328952082a19",
            "bf1eb96eae6c4f37a1b8e5c504ff96de",
            "91d6aa04ef55472da147cd9230a0a656",
            "d6c954bd173f4865a9cafe58bc690116",
            "b7555ed86e464685ac73d9c24e2999f5",
            "97be1c8595514ddab7a36a8aa1257cda",
            "2af118dfa4544e568a8f69cd2414ba46",
            "882c8c241dd8438ca835eaec9edddee7",
            "880b70e3b8844faf9851eda2c239ee69",
            "19c812fb928e4b129ae59649dbde74dc",
            "ada40770008d4020958be810e57f2299",
            "de0c5d4597ab4ae393d629463b7ce9e0",
            "fff38b76dc4843f9a201edf1f4844a39",
            "c551804a6ce3472c864bfe70aee540fc",
            "cd7e314443d843b0b6a6f99f0529dad9",
            "a899b7acff2c47368910bf33fb9afe43",
            "e9b09ceef2d442dc83b4bc3ed5b9da13",
            "73820415d1724b4b917eafd0c43ccb0d",
            "0bd7adf8c996451483e9074b85e5b1b9",
            "55b1195afa474076841d5223fbeda777",
            "546fca17c7dd4261ab70b49319e58e47",
            "c9b7102f8067458eb0640a202cac39b4",
            "7f7e7093f79e47359b538e80a613ae82",
            "950769777d8f462c944fdd9c94530dbe",
            "f81c3a5d607a4853bea292362723e658",
            "fe0abaf17f6446919dc4649c5cd07964",
            "fade2705b9474c958d7d319502354ac1",
            "0297c85dad1544148fd88ab503f9699e",
            "d33fedc88cee456ea19b3b1ed1f3f010",
            "430dacad5bbc4160b946dc27194d1b10",
            "71f000008b264f388f52a765cf043bbe",
            "26d85f99d9004ab4bca4d3adc9777136",
            "da8d5e4e39c14b908dfa01752ab4da92",
            "978dc8b847f3413192e672b71a0913fa",
            "6493367813944974b5583ee4dd192072",
            "444d6ea6dac846f880bd4b7cc80c0617",
            "1cbcc7e93fb6476aa16a2e2c7d4242cc",
            "ddfb3e1ae0e2437d9620b4fe30c24959"
          ]
        },
        "id": "ArXPuxcLONb5",
        "outputId": "41d6a6c0-c744-4377-edcf-7b7ef244859f"
      },
      "source": [
        "train_set = MyDataSet(df_train['query'], df_train['doc'], df_train['label'])\n",
        "dev_set = MyDataSet(df_dev['query'], df_dev['doc'], df_dev['label'])\n",
        "test_set = MyDataSet(df_test['query'], df_test['doc'])\n",
        "\n",
        "# 加载 DataLoader\n",
        "train_loader = DataLoader(train_set, batch_size=128, shuffle=True, num_workers=2)\n",
        "dev_loader = DataLoader(dev_set, batch_size=128, shuffle=True, num_workers=2)\n",
        "test_loader = DataLoader(test_set, batch_size=128, shuffle=True, num_workers=2)\n",
        "\n",
        "\n",
        "tb_logger = pl_loggers.TensorBoardLogger('logs/', 'xx', '2')\n",
        "\n",
        "esim = ESIM(config)\n",
        "model = TrainModel(esim)\n",
        "trainer = pl.Trainer(max_epochs=3, logger=tb_logger, gpus=1)\n",
        "trainer.fit(model, train_loader, dev_loader)"
      ],
      "execution_count": 72,
      "outputs": [
        {
          "output_type": "stream",
          "text": [
            "GPU available: True, used: True\n",
            "TPU available: False, using: 0 TPU cores\n",
            "IPU available: False, using: 0 IPUs\n",
            "LOCAL_RANK: 0 - CUDA_VISIBLE_DEVICES: [0]\n",
            "\n",
            "  | Name     | Type             | Params\n",
            "----------------------------------------------\n",
            "0 | backbone | ESIM             | 58.7 M\n",
            "1 | loss     | CrossEntropyLoss | 0     \n",
            "----------------------------------------------\n",
            "130 K     Trainable params\n",
            "58.6 M    Non-trainable params\n",
            "58.7 M    Total params\n",
            "234.767   Total estimated model params size (MB)\n"
          ],
          "name": "stderr"
        },
        {
          "output_type": "display_data",
          "data": {
            "application/vnd.jupyter.widget-view+json": {
              "model_id": "a66824f842ec43a58e09320387a770bd",
              "version_minor": 0,
              "version_major": 2
            },
            "text/plain": [
              "HBox(children=(FloatProgress(value=1.0, bar_style='info', description='Validation sanity check', layout=Layout…"
            ]
          },
          "metadata": {
            "tags": []
          }
        },
        {
          "output_type": "stream",
          "text": [
            "/usr/local/lib/python3.7/dist-packages/pytorch_lightning/trainer/data_loading.py:373: UserWarning: Your val_dataloader has `shuffle=True`, it is best practice to turn this off for val/test/predict dataloaders.\n",
            "  f\"Your {mode}_dataloader has `shuffle=True`, it is best practice to turn\"\n"
          ],
          "name": "stderr"
        },
        {
          "output_type": "stream",
          "text": [
            "\r"
          ],
          "name": "stdout"
        },
        {
          "output_type": "display_data",
          "data": {
            "application/vnd.jupyter.widget-view+json": {
              "model_id": "2af118dfa4544e568a8f69cd2414ba46",
              "version_minor": 0,
              "version_major": 2
            },
            "text/plain": [
              "HBox(children=(FloatProgress(value=1.0, bar_style='info', description='Training', layout=Layout(flex='2'), max…"
            ]
          },
          "metadata": {
            "tags": []
          }
        },
        {
          "output_type": "display_data",
          "data": {
            "application/vnd.jupyter.widget-view+json": {
              "model_id": "cd7e314443d843b0b6a6f99f0529dad9",
              "version_minor": 0,
              "version_major": 2
            },
            "text/plain": [
              "HBox(children=(FloatProgress(value=1.0, bar_style='info', description='Validating', layout=Layout(flex='2'), m…"
            ]
          },
          "metadata": {
            "tags": []
          }
        },
        {
          "output_type": "display_data",
          "data": {
            "application/vnd.jupyter.widget-view+json": {
              "model_id": "7f7e7093f79e47359b538e80a613ae82",
              "version_minor": 0,
              "version_major": 2
            },
            "text/plain": [
              "HBox(children=(FloatProgress(value=1.0, bar_style='info', description='Validating', layout=Layout(flex='2'), m…"
            ]
          },
          "metadata": {
            "tags": []
          }
        },
        {
          "output_type": "display_data",
          "data": {
            "application/vnd.jupyter.widget-view+json": {
              "model_id": "71f000008b264f388f52a765cf043bbe",
              "version_minor": 0,
              "version_major": 2
            },
            "text/plain": [
              "HBox(children=(FloatProgress(value=1.0, bar_style='info', description='Validating', layout=Layout(flex='2'), m…"
            ]
          },
          "metadata": {
            "tags": []
          }
        },
        {
          "output_type": "stream",
          "text": [
            "\n"
          ],
          "name": "stdout"
        }
      ]
    },
    {
      "cell_type": "code",
      "metadata": {
        "id": "xWVGtcgEO1W2"
      },
      "source": [
        "# %tensorboard --logdir logs # colab 打开"
      ],
      "execution_count": 74,
      "outputs": []
    },
    {
      "cell_type": "code",
      "metadata": {
        "id": "jyOeUsk4EdRw"
      },
      "source": [
        ""
      ],
      "execution_count": null,
      "outputs": []
    }
  ]
}