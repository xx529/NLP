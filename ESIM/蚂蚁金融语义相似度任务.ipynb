{
  "nbformat": 4,
  "nbformat_minor": 0,
  "metadata": {
    "colab": {
      "name": "蚂蚁金融语义相似度任务",
      "provenance": [],
      "toc_visible": true,
      "include_colab_link": true
    },
    "kernelspec": {
      "name": "python3",
      "display_name": "Python 3"
    },
    "language_info": {
      "name": "python"
    }
  },
  "cells": [
    {
      "cell_type": "markdown",
      "metadata": {
        "id": "view-in-github",
        "colab_type": "text"
      },
      "source": [
        "<a href=\"https://colab.research.google.com/github/xx529/NLP/blob/main/ESIM/%E8%9A%82%E8%9A%81%E9%87%91%E8%9E%8D%E8%AF%AD%E4%B9%89%E7%9B%B8%E4%BC%BC%E5%BA%A6%E4%BB%BB%E5%8A%A1.ipynb\" target=\"_parent\"><img src=\"https://colab.research.google.com/assets/colab-badge.svg\" alt=\"Open In Colab\"/></a>"
      ]
    },
    {
      "cell_type": "code",
      "metadata": {
        "id": "AiBUNkGoLZA8",
        "colab": {
          "base_uri": "https://localhost:8080/"
        },
        "outputId": "cc98ba08-e85d-4ef8-d0ec-e8dbf7b13a8e"
      },
      "source": [
        "from google.colab import drive\n",
        "drive.mount('/content/drive')"
      ],
      "execution_count": 8,
      "outputs": [
        {
          "output_type": "stream",
          "text": [
            "Drive already mounted at /content/drive; to attempt to forcibly remount, call drive.mount(\"/content/drive\", force_remount=True).\n"
          ],
          "name": "stdout"
        }
      ]
    },
    {
      "cell_type": "code",
      "metadata": {
        "id": "h-oHPxiMJs3d"
      },
      "source": [
        "import pandas as pd\n",
        "from tqdm import tqdm\n",
        "import json\n",
        "import bz2\n",
        "import numpy as np\n",
        "import jieba\n",
        "import torch.nn as nn\n",
        "import random\n",
        "from torch.utils.data import TensorDataset, DataLoader, Dataset\n",
        "import torch"
      ],
      "execution_count": 9,
      "outputs": []
    },
    {
      "cell_type": "code",
      "metadata": {
        "id": "TZK-WkcPE18K"
      },
      "source": [
        "seed = 529\n",
        "random.seed(seed)\n",
        "np.random.seed(seed)\n",
        "torch.manual_seed(seed)\n",
        "torch.cuda.manual_seed_all(seed)"
      ],
      "execution_count": 10,
      "outputs": []
    },
    {
      "cell_type": "markdown",
      "metadata": {
        "id": "H5vwzITANxLx"
      },
      "source": [
        "## Loading"
      ]
    },
    {
      "cell_type": "code",
      "metadata": {
        "id": "ept9rQVsLsAC",
        "colab": {
          "base_uri": "https://localhost:8080/",
          "height": 419
        },
        "outputId": "55d10b79-c41e-42e3-9895-0ae3977f773e"
      },
      "source": [
        "with open('/content/drive/MyDrive/Colab Notebooks Project/NLP/ESIM/train.json') as f:\n",
        "    train_raw = f.readlines()\n",
        "df_train = pd.DataFrame([json.loads(train_raw[x]) for x in range(len(train_raw))])\n",
        "df_train['label'] = df_train['label'].astype(int)\n",
        "df_train"
      ],
      "execution_count": 11,
      "outputs": [
        {
          "output_type": "execute_result",
          "data": {
            "text/html": [
              "<div>\n",
              "<style scoped>\n",
              "    .dataframe tbody tr th:only-of-type {\n",
              "        vertical-align: middle;\n",
              "    }\n",
              "\n",
              "    .dataframe tbody tr th {\n",
              "        vertical-align: top;\n",
              "    }\n",
              "\n",
              "    .dataframe thead th {\n",
              "        text-align: right;\n",
              "    }\n",
              "</style>\n",
              "<table border=\"1\" class=\"dataframe\">\n",
              "  <thead>\n",
              "    <tr style=\"text-align: right;\">\n",
              "      <th></th>\n",
              "      <th>sentence1</th>\n",
              "      <th>sentence2</th>\n",
              "      <th>label</th>\n",
              "    </tr>\n",
              "  </thead>\n",
              "  <tbody>\n",
              "    <tr>\n",
              "      <th>0</th>\n",
              "      <td>蚂蚁借呗等额还款可以换成先息后本吗</td>\n",
              "      <td>借呗有先息到期还本吗</td>\n",
              "      <td>0</td>\n",
              "    </tr>\n",
              "    <tr>\n",
              "      <th>1</th>\n",
              "      <td>蚂蚁花呗说我违约一次</td>\n",
              "      <td>蚂蚁花呗违约行为是什么</td>\n",
              "      <td>0</td>\n",
              "    </tr>\n",
              "    <tr>\n",
              "      <th>2</th>\n",
              "      <td>帮我看一下本月花呗账单有没有结清</td>\n",
              "      <td>下月花呗账单</td>\n",
              "      <td>0</td>\n",
              "    </tr>\n",
              "    <tr>\n",
              "      <th>3</th>\n",
              "      <td>蚂蚁借呗多长时间综合评估一次</td>\n",
              "      <td>借呗得评估多久</td>\n",
              "      <td>0</td>\n",
              "    </tr>\n",
              "    <tr>\n",
              "      <th>4</th>\n",
              "      <td>我的花呗账单是***，还款怎么是***</td>\n",
              "      <td>我的花呗，月结出来说让我还***元，我自己算了一下详细名单我应该还***元</td>\n",
              "      <td>1</td>\n",
              "    </tr>\n",
              "    <tr>\n",
              "      <th>...</th>\n",
              "      <td>...</td>\n",
              "      <td>...</td>\n",
              "      <td>...</td>\n",
              "    </tr>\n",
              "    <tr>\n",
              "      <th>34329</th>\n",
              "      <td>借呗还款日是</td>\n",
              "      <td>借呗还款日计算方法</td>\n",
              "      <td>0</td>\n",
              "    </tr>\n",
              "    <tr>\n",
              "      <th>34330</th>\n",
              "      <td>支付宝怎么关闭花呗自动付款功能</td>\n",
              "      <td>如何关闭余额支付功能</td>\n",
              "      <td>0</td>\n",
              "    </tr>\n",
              "    <tr>\n",
              "      <th>34331</th>\n",
              "      <td>为什么我借呗利息越来越高了</td>\n",
              "      <td>借呗分期利率怎么计算的</td>\n",
              "      <td>0</td>\n",
              "    </tr>\n",
              "    <tr>\n",
              "      <th>34332</th>\n",
              "      <td>二维码开通花呗信用卡付款</td>\n",
              "      <td>怎么样开通花呗信用卡支付码</td>\n",
              "      <td>0</td>\n",
              "    </tr>\n",
              "    <tr>\n",
              "      <th>34333</th>\n",
              "      <td>借呗申请成功为什么没有额度</td>\n",
              "      <td>为什么我借呗没有额度了</td>\n",
              "      <td>0</td>\n",
              "    </tr>\n",
              "  </tbody>\n",
              "</table>\n",
              "<p>34334 rows × 3 columns</p>\n",
              "</div>"
            ],
            "text/plain": [
              "                 sentence1                              sentence2  label\n",
              "0        蚂蚁借呗等额还款可以换成先息后本吗                             借呗有先息到期还本吗      0\n",
              "1               蚂蚁花呗说我违约一次                            蚂蚁花呗违约行为是什么      0\n",
              "2         帮我看一下本月花呗账单有没有结清                                 下月花呗账单      0\n",
              "3           蚂蚁借呗多长时间综合评估一次                                借呗得评估多久      0\n",
              "4      我的花呗账单是***，还款怎么是***  我的花呗，月结出来说让我还***元，我自己算了一下详细名单我应该还***元      1\n",
              "...                    ...                                    ...    ...\n",
              "34329               借呗还款日是                              借呗还款日计算方法      0\n",
              "34330      支付宝怎么关闭花呗自动付款功能                             如何关闭余额支付功能      0\n",
              "34331        为什么我借呗利息越来越高了                            借呗分期利率怎么计算的      0\n",
              "34332         二维码开通花呗信用卡付款                          怎么样开通花呗信用卡支付码      0\n",
              "34333        借呗申请成功为什么没有额度                            为什么我借呗没有额度了      0\n",
              "\n",
              "[34334 rows x 3 columns]"
            ]
          },
          "metadata": {
            "tags": []
          },
          "execution_count": 11
        }
      ]
    },
    {
      "cell_type": "code",
      "metadata": {
        "id": "8jT4DMAfL-pv",
        "colab": {
          "base_uri": "https://localhost:8080/",
          "height": 419
        },
        "outputId": "7f11e70c-12d7-47a2-fb81-2acb618ba0e6"
      },
      "source": [
        "with open('/content/drive/MyDrive/Colab Notebooks Project/NLP/ESIM/dev.json') as f:\n",
        "    dev_raw = f.readlines()\n",
        "df_dev = pd.DataFrame([json.loads(dev_raw[x]) for x in range(len(dev_raw))])\n",
        "df_dev['label'] = df_dev['label'].astype(int)\n",
        "df_dev"
      ],
      "execution_count": 12,
      "outputs": [
        {
          "output_type": "execute_result",
          "data": {
            "text/html": [
              "<div>\n",
              "<style scoped>\n",
              "    .dataframe tbody tr th:only-of-type {\n",
              "        vertical-align: middle;\n",
              "    }\n",
              "\n",
              "    .dataframe tbody tr th {\n",
              "        vertical-align: top;\n",
              "    }\n",
              "\n",
              "    .dataframe thead th {\n",
              "        text-align: right;\n",
              "    }\n",
              "</style>\n",
              "<table border=\"1\" class=\"dataframe\">\n",
              "  <thead>\n",
              "    <tr style=\"text-align: right;\">\n",
              "      <th></th>\n",
              "      <th>sentence1</th>\n",
              "      <th>sentence2</th>\n",
              "      <th>label</th>\n",
              "    </tr>\n",
              "  </thead>\n",
              "  <tbody>\n",
              "    <tr>\n",
              "      <th>0</th>\n",
              "      <td>双十一花呗提额在哪</td>\n",
              "      <td>里可以提花呗额度</td>\n",
              "      <td>0</td>\n",
              "    </tr>\n",
              "    <tr>\n",
              "      <th>1</th>\n",
              "      <td>花呗支持高铁票支付吗</td>\n",
              "      <td>为什么友付宝不支持花呗付款</td>\n",
              "      <td>0</td>\n",
              "    </tr>\n",
              "    <tr>\n",
              "      <th>2</th>\n",
              "      <td>我的蚂蚁花呗支付金额怎么会有限制</td>\n",
              "      <td>我到支付宝实体店消费用花呗支付受金额限制</td>\n",
              "      <td>1</td>\n",
              "    </tr>\n",
              "    <tr>\n",
              "      <th>3</th>\n",
              "      <td>为什么有花呗额度不能分期付款</td>\n",
              "      <td>花呗分期额度不足</td>\n",
              "      <td>0</td>\n",
              "    </tr>\n",
              "    <tr>\n",
              "      <th>4</th>\n",
              "      <td>赠品不能设置用花呗付款</td>\n",
              "      <td>怎么不能花呗分期付款</td>\n",
              "      <td>0</td>\n",
              "    </tr>\n",
              "    <tr>\n",
              "      <th>...</th>\n",
              "      <td>...</td>\n",
              "      <td>...</td>\n",
              "      <td>...</td>\n",
              "    </tr>\n",
              "    <tr>\n",
              "      <th>4311</th>\n",
              "      <td>使用的借呗之后，可以出国吗，因为我的工作在国外，我需要在国外还款</td>\n",
              "      <td>借呗这个月分期还款了，还了的钱还可以再次取出用吗</td>\n",
              "      <td>0</td>\n",
              "    </tr>\n",
              "    <tr>\n",
              "      <th>4312</th>\n",
              "      <td>还要多久能开通花呗</td>\n",
              "      <td>花呗要多久才会重新开通</td>\n",
              "      <td>0</td>\n",
              "    </tr>\n",
              "    <tr>\n",
              "      <th>4313</th>\n",
              "      <td>怎样设置花呗访问手机通讯录</td>\n",
              "      <td>花呗读取不了手机通讯录权限</td>\n",
              "      <td>0</td>\n",
              "    </tr>\n",
              "    <tr>\n",
              "      <th>4314</th>\n",
              "      <td>花呗的学历填错了，可不可以改</td>\n",
              "      <td>花呗学历填错了怎样修改</td>\n",
              "      <td>0</td>\n",
              "    </tr>\n",
              "    <tr>\n",
              "      <th>4315</th>\n",
              "      <td>我的淘宝绑不了花呗</td>\n",
              "      <td>怎么花呗绑不了淘宝</td>\n",
              "      <td>1</td>\n",
              "    </tr>\n",
              "  </tbody>\n",
              "</table>\n",
              "<p>4316 rows × 3 columns</p>\n",
              "</div>"
            ],
            "text/plain": [
              "                             sentence1                 sentence2  label\n",
              "0                            双十一花呗提额在哪                  里可以提花呗额度      0\n",
              "1                           花呗支持高铁票支付吗             为什么友付宝不支持花呗付款      0\n",
              "2                     我的蚂蚁花呗支付金额怎么会有限制      我到支付宝实体店消费用花呗支付受金额限制      1\n",
              "3                       为什么有花呗额度不能分期付款                  花呗分期额度不足      0\n",
              "4                          赠品不能设置用花呗付款                怎么不能花呗分期付款      0\n",
              "...                                ...                       ...    ...\n",
              "4311  使用的借呗之后，可以出国吗，因为我的工作在国外，我需要在国外还款  借呗这个月分期还款了，还了的钱还可以再次取出用吗      0\n",
              "4312                         还要多久能开通花呗               花呗要多久才会重新开通      0\n",
              "4313                     怎样设置花呗访问手机通讯录             花呗读取不了手机通讯录权限      0\n",
              "4314                    花呗的学历填错了，可不可以改               花呗学历填错了怎样修改      0\n",
              "4315                         我的淘宝绑不了花呗                 怎么花呗绑不了淘宝      1\n",
              "\n",
              "[4316 rows x 3 columns]"
            ]
          },
          "metadata": {
            "tags": []
          },
          "execution_count": 12
        }
      ]
    },
    {
      "cell_type": "code",
      "metadata": {
        "id": "VUfCfyuzMAOr",
        "colab": {
          "base_uri": "https://localhost:8080/",
          "height": 419
        },
        "outputId": "354b6b08-0f0c-40a7-fd3d-492403b6aee1"
      },
      "source": [
        "with open('/content/drive/MyDrive/Colab Notebooks Project/NLP/ESIM/test.json') as f:\n",
        "    test_raw = f.readlines()\n",
        "df_test = pd.DataFrame([json.loads(test_raw[x]) for x in range(len(test_raw))])\n",
        "df_test"
      ],
      "execution_count": 13,
      "outputs": [
        {
          "output_type": "execute_result",
          "data": {
            "text/html": [
              "<div>\n",
              "<style scoped>\n",
              "    .dataframe tbody tr th:only-of-type {\n",
              "        vertical-align: middle;\n",
              "    }\n",
              "\n",
              "    .dataframe tbody tr th {\n",
              "        vertical-align: top;\n",
              "    }\n",
              "\n",
              "    .dataframe thead th {\n",
              "        text-align: right;\n",
              "    }\n",
              "</style>\n",
              "<table border=\"1\" class=\"dataframe\">\n",
              "  <thead>\n",
              "    <tr style=\"text-align: right;\">\n",
              "      <th></th>\n",
              "      <th>id</th>\n",
              "      <th>sentence1</th>\n",
              "      <th>sentence2</th>\n",
              "    </tr>\n",
              "  </thead>\n",
              "  <tbody>\n",
              "    <tr>\n",
              "      <th>0</th>\n",
              "      <td>0</td>\n",
              "      <td>借呗什么时候会取消</td>\n",
              "      <td>蚂蚁借呗什么时候可以恢复***个月</td>\n",
              "    </tr>\n",
              "    <tr>\n",
              "      <th>1</th>\n",
              "      <td>1</td>\n",
              "      <td>网商贷怎么转变成借呗</td>\n",
              "      <td>如何将网商贷切换为借呗</td>\n",
              "    </tr>\n",
              "    <tr>\n",
              "      <th>2</th>\n",
              "      <td>2</td>\n",
              "      <td>我的借呗为啥开通不了</td>\n",
              "      <td>我怎么没法开通借呗</td>\n",
              "    </tr>\n",
              "    <tr>\n",
              "      <th>3</th>\n",
              "      <td>3</td>\n",
              "      <td>蚂蚁借呗额度怎么不显示了</td>\n",
              "      <td>蚂蚁借呗额度不显示了</td>\n",
              "    </tr>\n",
              "    <tr>\n",
              "      <th>4</th>\n",
              "      <td>4</td>\n",
              "      <td>我的借呗没用给关闭了</td>\n",
              "      <td>把我的借呗关了</td>\n",
              "    </tr>\n",
              "    <tr>\n",
              "      <th>...</th>\n",
              "      <td>...</td>\n",
              "      <td>...</td>\n",
              "      <td>...</td>\n",
              "    </tr>\n",
              "    <tr>\n",
              "      <th>3856</th>\n",
              "      <td>3856</td>\n",
              "      <td>花呗怎么不能再美团使用了</td>\n",
              "      <td>美团 滴滴用不了花呗</td>\n",
              "    </tr>\n",
              "    <tr>\n",
              "      <th>3857</th>\n",
              "      <td>3857</td>\n",
              "      <td>花呗的货币是真实的吗</td>\n",
              "      <td>花呗是自己设定的吗</td>\n",
              "    </tr>\n",
              "    <tr>\n",
              "      <th>3858</th>\n",
              "      <td>3858</td>\n",
              "      <td>花呗分期后为什么不可以提前还款</td>\n",
              "      <td>花呗还可以负数么</td>\n",
              "    </tr>\n",
              "    <tr>\n",
              "      <th>3859</th>\n",
              "      <td>3859</td>\n",
              "      <td>是用户用花呗支付。我们要收取多少比例的费用</td>\n",
              "      <td>我店铺怎么用不了花呗的</td>\n",
              "    </tr>\n",
              "    <tr>\n",
              "      <th>3860</th>\n",
              "      <td>3860</td>\n",
              "      <td>支付宝的花呗可以查，淘宝里面的差不了，一直说我支付宝存在风险</td>\n",
              "      <td>花呗 支付宝账号存在风险</td>\n",
              "    </tr>\n",
              "  </tbody>\n",
              "</table>\n",
              "<p>3861 rows × 3 columns</p>\n",
              "</div>"
            ],
            "text/plain": [
              "        id                       sentence1          sentence2\n",
              "0        0                       借呗什么时候会取消  蚂蚁借呗什么时候可以恢复***个月\n",
              "1        1                      网商贷怎么转变成借呗        如何将网商贷切换为借呗\n",
              "2        2                      我的借呗为啥开通不了          我怎么没法开通借呗\n",
              "3        3                    蚂蚁借呗额度怎么不显示了         蚂蚁借呗额度不显示了\n",
              "4        4                      我的借呗没用给关闭了            把我的借呗关了\n",
              "...    ...                             ...                ...\n",
              "3856  3856                    花呗怎么不能再美团使用了         美团 滴滴用不了花呗\n",
              "3857  3857                      花呗的货币是真实的吗          花呗是自己设定的吗\n",
              "3858  3858                 花呗分期后为什么不可以提前还款           花呗还可以负数么\n",
              "3859  3859           是用户用花呗支付。我们要收取多少比例的费用        我店铺怎么用不了花呗的\n",
              "3860  3860  支付宝的花呗可以查，淘宝里面的差不了，一直说我支付宝存在风险       花呗 支付宝账号存在风险\n",
              "\n",
              "[3861 rows x 3 columns]"
            ]
          },
          "metadata": {
            "tags": []
          },
          "execution_count": 13
        }
      ]
    },
    {
      "cell_type": "code",
      "metadata": {
        "id": "HufMztAUN4Qj"
      },
      "source": [
        "with bz2.open('/content/drive/MyDrive/Colab Notebooks Project/NLP/TouTiao_text/sgns.weibo.word.bz2') as f:\n",
        "    embedding_raw = f.readlines()"
      ],
      "execution_count": 14,
      "outputs": []
    },
    {
      "cell_type": "code",
      "metadata": {
        "id": "qG5DaCf3OGvL"
      },
      "source": [
        "info, *emb = embedding_raw\n",
        "num, embedding_dim = map(int, info.decode('utf8').split())\n",
        "\n",
        "word_to_idx, idx_to_word = {'<unk>': 0}, {0: '<unk>'}\n",
        "embedding_mat = np.zeros((num + 1, embedding_dim))\n",
        "\n",
        "for idx, i in enumerate(emb):\n",
        "    word, *embedding = i.decode('utf8').split()\n",
        "    word_to_idx[word] = idx + 1\n",
        "    idx_to_word[idx + 1] = word\n",
        "    embedding_mat[idx] = list(map(float, embedding))"
      ],
      "execution_count": 15,
      "outputs": []
    },
    {
      "cell_type": "markdown",
      "metadata": {
        "id": "3U3fysngPUpV"
      },
      "source": [
        "## process context"
      ]
    },
    {
      "cell_type": "code",
      "metadata": {
        "id": "aL4FyuirPv8r",
        "colab": {
          "base_uri": "https://localhost:8080/"
        },
        "outputId": "83002bba-733b-4fa0-8bfc-4a120f120ff1"
      },
      "source": [
        "def transform_to_idx(x):\n",
        "    idx_list = [word_to_idx[i] if i in word_to_idx else 0 for i in jieba.lcut(x)]\n",
        "    length = len(idx_list)\n",
        "    if length >= 30:\n",
        "        return np.array(idx_list[:30])\n",
        "    else:\n",
        "        return np.array(idx_list + [0]*(30-length))\n",
        "\n",
        "for df in [df_train, df_dev, df_test]:\n",
        "    df['query'] = df['sentence1'].apply(transform_to_idx)\n",
        "    df['doc'] = df['sentence2'].apply(transform_to_idx)"
      ],
      "execution_count": 16,
      "outputs": [
        {
          "output_type": "stream",
          "text": [
            "Building prefix dict from the default dictionary ...\n",
            "Loading model from cache /tmp/jieba.cache\n",
            "Loading model cost 0.971 seconds.\n",
            "Prefix dict has been built successfully.\n"
          ],
          "name": "stderr"
        }
      ]
    },
    {
      "cell_type": "markdown",
      "metadata": {
        "id": "LwzPkUW9b50M"
      },
      "source": [
        "## dataset"
      ]
    },
    {
      "cell_type": "code",
      "metadata": {
        "id": "8WBlvD0Jeo68"
      },
      "source": [
        "class MyDataSet(Dataset):\n",
        "    def __init__(self, query, doc, y=None):\n",
        "        super().__init__()\n",
        "        self.x = [(torch.LongTensor(q), torch.LongTensor(d)) for q, d in zip(query, doc)]\n",
        "        self.y = torch.LongTensor(y) if y is not None else [0] * len(query) \n",
        "\n",
        "    def __getitem__(self, idx):\n",
        "        return self.x[idx], self.y[idx]\n",
        "\n",
        "    def __len__(self):\n",
        "        return len(self.x)\n",
        "\n",
        "train_set = MyDataSet(df_train['query'], df_train['doc'], df_train['label'])\n",
        "dev_set = MyDataSet(df_dev['query'], df_dev['doc'], df_dev['label'])\n",
        "test_set = MyDataSet(df_test['query'], df_test['doc'])\n",
        "\n",
        "# 加载 DataLoader\n",
        "train_loader = DataLoader(train_set, batch_size=128, shuffle=True, num_workers=2)\n",
        "dev_loader = DataLoader(dev_set, batch_size=128, shuffle=True, num_workers=2)\n",
        "test_loader = DataLoader(test_set, batch_size=128, shuffle=True, num_workers=2)"
      ],
      "execution_count": 17,
      "outputs": []
    },
    {
      "cell_type": "markdown",
      "metadata": {
        "id": "PAXZ9sZEgp-o"
      },
      "source": [
        "## ESIM"
      ]
    },
    {
      "cell_type": "code",
      "metadata": {
        "id": "Crdth91Tj4Nc"
      },
      "source": [
        "config = {\n",
        "    'embedding_mat': torch.Tensor(embedding_mat),  # 词向量矩阵\n",
        "    'is_embedding_freeze': True,  # 词向量是否进行固定\n",
        "    'base_rnn': nn.GRU,  # BiLSTM 使用的 rnn 类型\n",
        "    'stack_rnn_layers': 2,  # BiLSTM stack 的层数\n",
        "    'input_size': embedding_dim,  # BiLSTM 初始输入的特征维度\n",
        "    'hidden_size': 32,  # BiLSTM 隐藏层的特征维度\n",
        "    'rnn_layer': 1  # 每个 BiLSTM 里的层数\n",
        "}"
      ],
      "execution_count": 18,
      "outputs": []
    },
    {
      "cell_type": "markdown",
      "metadata": {
        "id": "8sop1gcNxOQW"
      },
      "source": [
        "### Input Encoding"
      ]
    },
    {
      "cell_type": "code",
      "metadata": {
        "id": "FKH2qtLSijPA"
      },
      "source": [
        "class InputEncoder(nn.Module):\n",
        "    def __init__(self, config):\n",
        "        super(InputEncoder, self).__init__()\n",
        "        \n",
        "        # stack rnn 层数\n",
        "        self.layers = config['stack_rnn_layers']\n",
        "        \n",
        "        # 预训练词向量\n",
        "        self.embedding = nn.Embedding.from_pretrained(\n",
        "            embeddings=config['embedding_mat'], \n",
        "            freeze=config['is_embedding_freeze']\n",
        "            )\n",
        "        \n",
        "        # 两层堆叠的 RNN 层，前一层的 output 是后一层的 input\n",
        "        self.stack_rnn = nn.ModuleList()\n",
        "        \n",
        "        for i in range(config['stack_rnn_layers']):\n",
        "            rnn_input_size = config['input_size'] if i == 0 else 2 * config['hidden_size']\n",
        "\n",
        "            self.stack_rnn.append(\n",
        "                config['base_rnn'](\n",
        "                    input_size=rnn_input_size,\n",
        "                    hidden_size=config['hidden_size'],\n",
        "                    num_layers=config['rnn_layer'],\n",
        "                    bidirectional=True\n",
        "                    )\n",
        "                )\n",
        "\n",
        "    def forward(self, pair_x):\n",
        "        query, doc = pair_x\n",
        "\n",
        "        # (batch, seq) - embedding -> (batch, seq, embedding_dim) - transpose -> (seq, batch，input_size)\n",
        "        # LSTM 的输入需要维度 (seq, batch，input_size)\n",
        "        # 初始值当作最开始的输出值\n",
        "        query = self.embedding(query).transpose(1,0)\n",
        "        doc = self.embedding(doc).transpose(1,0)\n",
        "\n",
        "        # 每一层 stackrnn 计算\n",
        "        for i in range(len(self.stack_rnn)):\n",
        "            query, _ = self.stack_rnn[i](query)  # Outputs: output, (h_n, c_n)\n",
        "            doc, _ = self.stack_rnn[i](doc)  # Outputs: output, (h_n, c_n)\n",
        "\n",
        "        return query, doc"
      ],
      "execution_count": 19,
      "outputs": []
    },
    {
      "cell_type": "code",
      "metadata": {
        "id": "gU5__ogDGZix"
      },
      "source": [
        "for x, y in train_loader:\n",
        "    temp_x = x\n",
        "    break"
      ],
      "execution_count": 20,
      "outputs": []
    },
    {
      "cell_type": "code",
      "metadata": {
        "id": "zTx1MtXd9X4A"
      },
      "source": [
        "model = InputEncoder(config)\n",
        "res = model(temp_x)"
      ],
      "execution_count": 21,
      "outputs": []
    },
    {
      "cell_type": "code",
      "metadata": {
        "colab": {
          "base_uri": "https://localhost:8080/"
        },
        "id": "Sa17McsWDzzl",
        "outputId": "92d47650-951c-4227-882e-238ac169f2b5"
      },
      "source": [
        "res[0]\n",
        "# temp_x"
      ],
      "execution_count": 22,
      "outputs": [
        {
          "output_type": "execute_result",
          "data": {
            "text/plain": [
              "tensor([[[-0.0367, -0.0881,  0.0480,  ...,  0.4109, -0.2363,  0.2303],\n",
              "         [ 0.0610, -0.0823,  0.0749,  ...,  0.3054, -0.0548,  0.3829],\n",
              "         [ 0.0477, -0.1109,  0.0140,  ...,  0.4023, -0.1518,  0.2731],\n",
              "         ...,\n",
              "         [ 0.3310,  0.0743,  0.0396,  ..., -0.1268,  0.1050,  0.3486],\n",
              "         [ 0.1289, -0.0859,  0.0745,  ...,  0.4290, -0.0419,  0.2955],\n",
              "         [ 0.0739,  0.0482,  0.0257,  ...,  0.1887,  0.1385,  0.1444]],\n",
              "\n",
              "        [[-0.0102, -0.0892,  0.0495,  ...,  0.3295, -0.3082,  0.2372],\n",
              "         [ 0.1014, -0.1312,  0.0078,  ...,  0.2057, -0.0387,  0.4396],\n",
              "         [ 0.0070, -0.1813, -0.1038,  ...,  0.2537,  0.0727,  0.2929],\n",
              "         ...,\n",
              "         [ 0.4824, -0.0560, -0.0813,  ..., -0.0658, -0.0261,  0.2994],\n",
              "         [ 0.1704, -0.0424, -0.0183,  ...,  0.5331, -0.0319,  0.2839],\n",
              "         [ 0.0290,  0.0941, -0.0133,  ...,  0.2436,  0.0883,  0.1499]],\n",
              "\n",
              "        [[ 0.0233, -0.1791,  0.0413,  ...,  0.3563, -0.2640,  0.2673],\n",
              "         [ 0.1181, -0.1396,  0.0946,  ...,  0.2272,  0.0132,  0.3313],\n",
              "         [ 0.0620, -0.1354, -0.0958,  ...,  0.2004,  0.0796,  0.1927],\n",
              "         ...,\n",
              "         [ 0.4413, -0.0687, -0.2434,  ...,  0.0568, -0.1090,  0.2356],\n",
              "         [ 0.1521, -0.1453, -0.1162,  ...,  0.5469, -0.0628,  0.2433],\n",
              "         [ 0.0479,  0.0195, -0.0464,  ...,  0.3571,  0.2115,  0.1416]],\n",
              "\n",
              "        ...,\n",
              "\n",
              "        [[ 0.0467,  0.0755, -0.2069,  ...,  0.2451, -0.0429,  0.0932],\n",
              "         [ 0.0469,  0.0754, -0.2067,  ...,  0.2451, -0.0429,  0.0932],\n",
              "         [ 0.0467,  0.0754, -0.2066,  ...,  0.2451, -0.0428,  0.0932],\n",
              "         ...,\n",
              "         [ 0.0467,  0.0755, -0.2068,  ...,  0.2451, -0.0429,  0.0932],\n",
              "         [ 0.0458,  0.0755, -0.2074,  ...,  0.2451, -0.0429,  0.0933],\n",
              "         [ 0.0468,  0.0755, -0.2069,  ...,  0.2451, -0.0429,  0.0932]],\n",
              "\n",
              "        [[ 0.0734,  0.0836, -0.2004,  ...,  0.1817, -0.0353,  0.0735],\n",
              "         [ 0.0735,  0.0835, -0.2003,  ...,  0.1817, -0.0353,  0.0735],\n",
              "         [ 0.0734,  0.0835, -0.2002,  ...,  0.1817, -0.0353,  0.0735],\n",
              "         ...,\n",
              "         [ 0.0734,  0.0836, -0.2004,  ...,  0.1817, -0.0353,  0.0735],\n",
              "         [ 0.0727,  0.0836, -0.2008,  ...,  0.1817, -0.0353,  0.0735],\n",
              "         [ 0.0734,  0.0836, -0.2004,  ...,  0.1817, -0.0353,  0.0735]],\n",
              "\n",
              "        [[ 0.1048,  0.0915, -0.2027,  ...,  0.0940, -0.0134,  0.0436],\n",
              "         [ 0.1049,  0.0915, -0.2026,  ...,  0.0940, -0.0134,  0.0436],\n",
              "         [ 0.1048,  0.0914, -0.2026,  ...,  0.0941, -0.0134,  0.0436],\n",
              "         ...,\n",
              "         [ 0.1048,  0.0915, -0.2027,  ...,  0.0940, -0.0134,  0.0436],\n",
              "         [ 0.1043,  0.0915, -0.2030,  ...,  0.0940, -0.0134,  0.0436],\n",
              "         [ 0.1048,  0.0915, -0.2027,  ...,  0.0941, -0.0134,  0.0436]]],\n",
              "       grad_fn=<CatBackward>)"
            ]
          },
          "metadata": {
            "tags": []
          },
          "execution_count": 22
        }
      ]
    },
    {
      "cell_type": "markdown",
      "metadata": {
        "id": "etlpoiZ2vsxI"
      },
      "source": [
        "### Model"
      ]
    },
    {
      "cell_type": "code",
      "metadata": {
        "id": "Hf4rhYM_xLKI"
      },
      "source": [
        "class ESIM(nn.Module):\n",
        "    def __init__(self, config):\n",
        "        super(ESIM, self).__init__()\n",
        "        self.input_encoder = InputEncoder(config)\n",
        "\n",
        "    def forward(self, pair_x):\n",
        "        x = self.input_encoder(pair_x)\n",
        "\n",
        "        return x"
      ],
      "execution_count": 23,
      "outputs": []
    },
    {
      "cell_type": "code",
      "metadata": {
        "id": "D6Zn5wFrLjDr"
      },
      "source": [
        "esim_model = ESIM(config)\n",
        "\n",
        "for pair_x, y in train_loader:\n",
        "    output = esim_model(pair_x)\n",
        "    break"
      ],
      "execution_count": 24,
      "outputs": []
    },
    {
      "cell_type": "code",
      "metadata": {
        "id": "sm_-j7Y-Lvcp",
        "outputId": "8f63fa57-0a75-4d06-f6dc-dc528c7ae717",
        "colab": {
          "base_uri": "https://localhost:8080/"
        }
      },
      "source": [
        "len(output)"
      ],
      "execution_count": 25,
      "outputs": [
        {
          "output_type": "execute_result",
          "data": {
            "text/plain": [
              "2"
            ]
          },
          "metadata": {
            "tags": []
          },
          "execution_count": 25
        }
      ]
    },
    {
      "cell_type": "code",
      "metadata": {
        "id": "mqLFANZeLxb2"
      },
      "source": [
        ""
      ],
      "execution_count": null,
      "outputs": []
    }
  ]
}