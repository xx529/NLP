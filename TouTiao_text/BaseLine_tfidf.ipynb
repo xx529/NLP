{
  "nbformat": 4,
  "nbformat_minor": 0,
  "metadata": {
    "colab": {
      "name": "欢迎使用 Colaboratory",
      "provenance": [],
      "collapsed_sections": [],
      "toc_visible": true,
      "include_colab_link": true
    },
    "kernelspec": {
      "display_name": "Python 3",
      "name": "python3"
    }
  },
  "cells": [
    {
      "cell_type": "markdown",
      "metadata": {
        "id": "view-in-github",
        "colab_type": "text"
      },
      "source": [
        "<a href=\"https://colab.research.google.com/github/xx529/NLP/blob/main/TouTiao_text/BaseLine_tfidf.ipynb\" target=\"_parent\"><img src=\"https://colab.research.google.com/assets/colab-badge.svg\" alt=\"Open In Colab\"/></a>"
      ]
    },
    {
      "cell_type": "markdown",
      "metadata": {
        "id": "_3RkKsk8uicd"
      },
      "source": [
        "# Task\n",
        "1. 根据句子内容做分类任务\n",
        "2. baseline 采用 tfidf 模型"
      ]
    },
    {
      "cell_type": "code",
      "metadata": {
        "id": "oKjvq6_3XrP5"
      },
      "source": [
        "import numpy as np\n",
        "import pandas as pd\n",
        "import matplotlib.pyplot as plt\n",
        "import seaborn as sns\n",
        "import networkx as nx\n",
        "import jieba\n",
        "from collections import defaultdict"
      ],
      "execution_count": 1,
      "outputs": []
    },
    {
      "cell_type": "code",
      "metadata": {
        "colab": {
          "base_uri": "https://localhost:8080/"
        },
        "id": "mG-bv8p3uXE6",
        "outputId": "525e5075-1d01-4759-91b5-504313f19536"
      },
      "source": [
        "from google.colab import drive\n",
        "drive.mount('/content/drive')"
      ],
      "execution_count": 2,
      "outputs": [
        {
          "output_type": "stream",
          "text": [
            "Drive already mounted at /content/drive; to attempt to forcibly remount, call drive.mount(\"/content/drive\", force_remount=True).\n"
          ],
          "name": "stdout"
        }
      ]
    },
    {
      "cell_type": "markdown",
      "metadata": {
        "id": "67ALW4hzutAT"
      },
      "source": [
        "# Data Exploring"
      ]
    },
    {
      "cell_type": "code",
      "metadata": {
        "colab": {
          "base_uri": "https://localhost:8080/"
        },
        "id": "Rjzg4xtJuERY",
        "outputId": "365c19a5-570b-4c6a-b1bf-dbe092e7d4d4"
      },
      "source": [
        "df_train = pd.read_csv('/content/drive/MyDrive/Colab Notebooks Project/NLP/TouTiao_text/train.csv')\n",
        "df_train.info()"
      ],
      "execution_count": 39,
      "outputs": [
        {
          "output_type": "stream",
          "text": [
            "<class 'pandas.core.frame.DataFrame'>\n",
            "RangeIndex: 53360 entries, 0 to 53359\n",
            "Data columns (total 4 columns):\n",
            " #   Column      Non-Null Count  Dtype \n",
            "---  ------      --------------  ----- \n",
            " 0   id          53360 non-null  int64 \n",
            " 1   label       53360 non-null  int64 \n",
            " 2   label_desc  53360 non-null  object\n",
            " 3   sentence    53360 non-null  object\n",
            "dtypes: int64(2), object(2)\n",
            "memory usage: 1.6+ MB\n"
          ],
          "name": "stdout"
        }
      ]
    },
    {
      "cell_type": "code",
      "metadata": {
        "id": "8JPDe4DjXsAZ",
        "colab": {
          "base_uri": "https://localhost:8080/",
          "height": 202
        },
        "outputId": "66ab1be3-b120-4320-ff77-194720de2fe7"
      },
      "source": [
        "df_train.head()"
      ],
      "execution_count": 40,
      "outputs": [
        {
          "output_type": "execute_result",
          "data": {
            "text/html": [
              "<div>\n",
              "<style scoped>\n",
              "    .dataframe tbody tr th:only-of-type {\n",
              "        vertical-align: middle;\n",
              "    }\n",
              "\n",
              "    .dataframe tbody tr th {\n",
              "        vertical-align: top;\n",
              "    }\n",
              "\n",
              "    .dataframe thead th {\n",
              "        text-align: right;\n",
              "    }\n",
              "</style>\n",
              "<table border=\"1\" class=\"dataframe\">\n",
              "  <thead>\n",
              "    <tr style=\"text-align: right;\">\n",
              "      <th></th>\n",
              "      <th>id</th>\n",
              "      <th>label</th>\n",
              "      <th>label_desc</th>\n",
              "      <th>sentence</th>\n",
              "    </tr>\n",
              "  </thead>\n",
              "  <tbody>\n",
              "    <tr>\n",
              "      <th>0</th>\n",
              "      <td>0</td>\n",
              "      <td>108</td>\n",
              "      <td>news_edu</td>\n",
              "      <td>上课时学生手机响个不停，老师一怒之下把手机摔了，家长拿发票让老师赔，大家怎么看待这种事？</td>\n",
              "    </tr>\n",
              "    <tr>\n",
              "      <th>1</th>\n",
              "      <td>1</td>\n",
              "      <td>104</td>\n",
              "      <td>news_finance</td>\n",
              "      <td>商赢环球股份有限公司关于延期回复上海证券交易所对公司2017年年度报告的事后审核问询函的公告</td>\n",
              "    </tr>\n",
              "    <tr>\n",
              "      <th>2</th>\n",
              "      <td>2</td>\n",
              "      <td>106</td>\n",
              "      <td>news_house</td>\n",
              "      <td>通过中介公司买了二手房，首付都付了，现在卖家不想卖了。怎么处理？</td>\n",
              "    </tr>\n",
              "    <tr>\n",
              "      <th>3</th>\n",
              "      <td>3</td>\n",
              "      <td>112</td>\n",
              "      <td>news_travel</td>\n",
              "      <td>2018年去俄罗斯看世界杯得花多少钱？</td>\n",
              "    </tr>\n",
              "    <tr>\n",
              "      <th>4</th>\n",
              "      <td>4</td>\n",
              "      <td>109</td>\n",
              "      <td>news_tech</td>\n",
              "      <td>剃须刀的个性革新，雷明登天猫定制版新品首发</td>\n",
              "    </tr>\n",
              "  </tbody>\n",
              "</table>\n",
              "</div>"
            ],
            "text/plain": [
              "   id  label    label_desc                                        sentence\n",
              "0   0    108      news_edu    上课时学生手机响个不停，老师一怒之下把手机摔了，家长拿发票让老师赔，大家怎么看待这种事？\n",
              "1   1    104  news_finance  商赢环球股份有限公司关于延期回复上海证券交易所对公司2017年年度报告的事后审核问询函的公告\n",
              "2   2    106    news_house                通过中介公司买了二手房，首付都付了，现在卖家不想卖了。怎么处理？\n",
              "3   3    112   news_travel                             2018年去俄罗斯看世界杯得花多少钱？\n",
              "4   4    109     news_tech                           剃须刀的个性革新，雷明登天猫定制版新品首发"
            ]
          },
          "metadata": {
            "tags": []
          },
          "execution_count": 40
        }
      ]
    },
    {
      "cell_type": "code",
      "metadata": {
        "colab": {
          "base_uri": "https://localhost:8080/"
        },
        "id": "uxfqwf3cug7D",
        "outputId": "d866c5a6-9bd2-44b8-d0df-66bf6c8ba9f9"
      },
      "source": [
        "df_train['label'].value_counts() / len(df_train) * 100"
      ],
      "execution_count": 41,
      "outputs": [
        {
          "output_type": "execute_result",
          "data": {
            "text/plain": [
              "109    11.160045\n",
              "104     9.745127\n",
              "102     9.325337\n",
              "113     9.091079\n",
              "107     7.717391\n",
              "101     7.648051\n",
              "103     7.479385\n",
              "110     6.806597\n",
              "108     6.441154\n",
              "116     6.353073\n",
              "112     6.311844\n",
              "115     5.408546\n",
              "106     3.948651\n",
              "100     2.082084\n",
              "114     0.481634\n",
              "Name: label, dtype: float64"
            ]
          },
          "metadata": {
            "tags": []
          },
          "execution_count": 41
        }
      ]
    },
    {
      "cell_type": "code",
      "metadata": {
        "colab": {
          "base_uri": "https://localhost:8080/"
        },
        "id": "rjK6rAZ3u4me",
        "outputId": "72235763-da84-4fa7-b00c-1a3c36c37b0d"
      },
      "source": [
        "df_train['sentence_cut'] = df_train['sentence'].apply(jieba.lcut)\n",
        "df_train['sentence_cut']"
      ],
      "execution_count": 42,
      "outputs": [
        {
          "output_type": "execute_result",
          "data": {
            "text/plain": [
              "0        [上课时, 学生, 手机, 响个, 不停, ，, 老师, 一怒之下, 把, 手机, 摔, 了...\n",
              "1        [商赢, 环球, 股份, 有限公司, 关于, 延期, 回复, 上海证券交易所, 对, 公司,...\n",
              "2        [通过, 中介, 公司, 买, 了, 二手房, ，, 首付, 都, 付, 了, ，, 现在,...\n",
              "3                  [2018, 年, 去, 俄罗斯, 看, 世界杯, 得花, 多少, 钱, ？]\n",
              "4              [剃须刀, 的, 个性, 革新, ，, 雷明登, 天猫, 定制, 版, 新品, 首发]\n",
              "                               ...                        \n",
              "53355    [5, 月, 11, 日中超, 北京国安, 2, -, 2, 富力, ，, 国安, 球迷, ...\n",
              "53356                     [云南, 美食, 故事, ：, 蒙自, 过桥米线, 的, 传说]\n",
              "53357    [端州, ｜, 莫让, 网事, 随, “, 疯, ”, ！, 检察官, 老师, 和, 你, ...\n",
              "53358    [国产, 最, 霸气, 的, 东风, 越野车, ，, 150, 万, 还, 买不到, ，, ...\n",
              "53359                  [极限, 竞速, 地平线, 3, ，, 原创, 娱乐, 游戏, 视频]\n",
              "Name: sentence_cut, Length: 53360, dtype: object"
            ]
          },
          "metadata": {
            "tags": []
          },
          "execution_count": 42
        }
      ]
    },
    {
      "cell_type": "code",
      "metadata": {
        "colab": {
          "base_uri": "https://localhost:8080/",
          "height": 282
        },
        "id": "2RIBnRmYvEAC",
        "outputId": "ac561b37-ea2d-41d6-97ed-5bbcdee493cf"
      },
      "source": [
        "df_train['sentence_cut_len'] = df_train['sentence_cut'].apply(len)\n",
        "df_train['sentence_cut_len'].hist(bins=100)"
      ],
      "execution_count": 43,
      "outputs": [
        {
          "output_type": "execute_result",
          "data": {
            "text/plain": [
              "<matplotlib.axes._subplots.AxesSubplot at 0x7f9773cc4510>"
            ]
          },
          "metadata": {
            "tags": []
          },
          "execution_count": 43
        },
        {
          "output_type": "display_data",
          "data": {
            "image/png": "[encoded data removed]",
            "text/plain": [
              "<Figure size 432x288 with 1 Axes>"
            ]
          },
          "metadata": {
            "tags": [],
            "needs_background": "light"
          }
        }
      ]
    },
    {
      "cell_type": "code",
      "metadata": {
        "colab": {
          "base_uri": "https://localhost:8080/"
        },
        "id": "rWmkzCJxvefR",
        "outputId": "9fce81fc-c34a-4244-d565-fd37b5b7a1be"
      },
      "source": [
        "print(df_train['sentence_cut_len'].min())\n",
        "print(df_train['sentence_cut_len'].max())\n",
        "print(df_train['sentence_cut_len'].std())\n",
        "print(df_train['sentence_cut_len'].mean())"
      ],
      "execution_count": 44,
      "outputs": [
        {
          "output_type": "stream",
          "text": [
            "1\n",
            "81\n",
            "4.5526757257246\n",
            "12.904891304347826\n"
          ],
          "name": "stdout"
        }
      ]
    },
    {
      "cell_type": "code",
      "metadata": {
        "colab": {
          "base_uri": "https://localhost:8080/"
        },
        "id": "Ehv-etajyHDG",
        "outputId": "4c44c182-81d8-4395-b970-17b210668504"
      },
      "source": [
        "(df_train['sentence_cut_len'] <= 20).sum() / len(df_train)"
      ],
      "execution_count": 45,
      "outputs": [
        {
          "output_type": "execute_result",
          "data": {
            "text/plain": [
              "0.960119940029985"
            ]
          },
          "metadata": {
            "tags": []
          },
          "execution_count": 45
        }
      ]
    },
    {
      "cell_type": "code",
      "metadata": {
        "id": "yOzFMQwOvltf"
      },
      "source": [
        "word_count_dict = defaultdict(int)\n",
        "\n",
        "for sentence in df_train['sentence_cut']:\n",
        "    for word in sentence:\n",
        "        word_count_dict[word] += 1\n",
        "\n",
        "word_count_dict = dict(list(sorted(word_count_dict.items(), key=lambda x: x[1], reverse=True)))\n",
        "word_count_sort = [word for word in word_count_dict]"
      ],
      "execution_count": 46,
      "outputs": []
    },
    {
      "cell_type": "markdown",
      "metadata": {
        "id": "77QdDNILwOYA"
      },
      "source": [
        "# Preprocessing\n",
        "\n",
        "1. truncate\n",
        "2. delete number"
      ]
    },
    {
      "cell_type": "code",
      "metadata": {
        "id": "Z8V_GKt3wXwd"
      },
      "source": [
        "TRUNCATE_LEN = 20\n",
        "\n",
        "\n",
        "def is_num(word):\n",
        "    try:\n",
        "        int(word)\n",
        "        return True\n",
        "    except:\n",
        "        return False\n",
        "\n",
        "df_train['sentence_clean'] = df_train['sentence_cut'].copy()\n",
        "\n",
        "df_train['sentence_clean'] = df_train['sentence_clean'].apply(\n",
        "    lambda sentence: [word for word in sentence if not is_num(word)])\n",
        "\n",
        "df_train['sentence_clean'] = df_train['sentence_clean'].apply(\n",
        "    lambda sentence: sentence[:TRUNCATE_LEN])\n",
        "\n",
        "\n",
        "df_train['sentence_clean'] = [' '.join(x) for x in df_train['sentence_clean']]"
      ],
      "execution_count": 47,
      "outputs": []
    },
    {
      "cell_type": "markdown",
      "metadata": {
        "id": "q_U0tHnjxQkg"
      },
      "source": [
        "# Tfidf Model"
      ]
    },
    {
      "cell_type": "code",
      "metadata": {
        "id": "0VzuvE5Vx1GU"
      },
      "source": [
        "from sklearn.model_selection import train_test_split\n",
        "from sklearn.feature_extraction.text import TfidfVectorizer\n",
        "from sklearn.metrics import accuracy_score"
      ],
      "execution_count": 48,
      "outputs": []
    },
    {
      "cell_type": "code",
      "metadata": {
        "colab": {
          "base_uri": "https://localhost:8080/"
        },
        "id": "4AkunbSdyBaQ",
        "outputId": "d8363cee-0484-41a8-d56d-c27e3aa5c1e8"
      },
      "source": [
        "MAX_FEATURES = 9000\n",
        "TOP_N_STOP = 100\n",
        "TAIL_N_STOP = 3000\n",
        "\n",
        "tfidf = TfidfVectorizer(\n",
        "    max_features=9000, \n",
        "    stop_words=word_count_sort[:TOP_N_STOP] + word_count_sort[-TAIL_N_STOP:])\n",
        "X = tfidf.fit_transform(df_train['sentence_clean'])\n",
        "X.shape"
      ],
      "execution_count": 49,
      "outputs": [
        {
          "output_type": "stream",
          "text": [
            "/usr/local/lib/python3.7/dist-packages/sklearn/feature_extraction/text.py:385: UserWarning:\n",
            "\n",
            "Your stop_words may be inconsistent with your preprocessing. Tokenizing the stop words generated tokens ['02', '100gift', '11', '12v', '13', '15', '17', '18', '19', '2018lpl', '23', '24', '35', '3524', '3q', '3rd', '3v3', '42', '44', '48', '51', '53', '5d4', '60', '63', '6366', '673', '68', '6ov', '80', '87', '88', '8945', '8f', '8l', '92', '96', '97', '99', 'aba', 'afs', 'anna', 'arena', 'arte', 'as', 'b21', 'b2e', 'bb', 'bella', 'boeing747', 'brp', 'call', 'ccrmanager', 'chuck', 'cidex', 'cioe', 'cmos', 'coast', 'comex', 'converse', 'cosplay', 'cybermiles', 'dag', 'daniel', 'day48', 'db11', 'demon', 'demoncrystals', 'din1451', 'disco', 'diss', 'dragon', 'dsp', 'dx7', 'elon', 'est', 'ex260', 'ex360', 'expma', 'f6', 'fed', 'ff7', 'gabe', 'gabrielle', 'gadot', 'gal', 'gamalon', 'gpd', 'gpu', 'gs3', 'gt500', 'gx', 'hello', 'helvetica', 'homepod', 'hpe', 'hpv', 'ia', 'iamd', 'im', 'ix35', 'jump', 'k1a1', 'kai', 'kbs2tv', 'lafesta', 'lord', 'mate', 'max', 'meet3', 'mendoza', 'mhk', 'motogp', 'mr', 'musk', 'na', 'nano', 'new', 'newell', 'njpw', 'noon', 'note', 'note8', 'novolex23', 'odr', 'orochi', 'owl', 'o型', 'p16', 'pj', 'pro7', 'produce', 'qfii', 'raid', 'roblox', 'roc', 'roe', 'rookie', 'running', 'sa80', 'shelby', 'slim', 'softail', 'spacex', 'square', 'stem', 'sunshine', 'telluria', 'tfboy', 'ticketmaster', 'top20', 'twitter', 'union', 'v2', 'vat', 'vba', 'vday', 'vermilion', 'vi', 'villa3', 'w2018', 'waddington', 'webcache', 'weyvv7', 'wifi', 'win', 'wintour', 'x80', 'xrapid', 'zero', 'zoo'] not in stop_words.\n",
            "\n"
          ],
          "name": "stderr"
        },
        {
          "output_type": "execute_result",
          "data": {
            "text/plain": [
              "(53360, 9000)"
            ]
          },
          "metadata": {
            "tags": []
          },
          "execution_count": 49
        }
      ]
    },
    {
      "cell_type": "code",
      "metadata": {
        "colab": {
          "base_uri": "https://localhost:8080/"
        },
        "id": "b8tV_ZOZyrzp",
        "outputId": "a18ff847-dad6-4bc0-bcac-5e1076cd896d"
      },
      "source": [
        "x_train, x_valid, y_train, y_valid = train_test_split(X, df_train['label'], test_size=0.2, random_state=529)\n",
        "print(x_train.shape)\n",
        "print(y_train.shape)\n",
        "print(x_valid.shape)\n",
        "print(y_valid.shape)"
      ],
      "execution_count": 50,
      "outputs": [
        {
          "output_type": "stream",
          "text": [
            "(42688, 9000)\n",
            "(42688,)\n",
            "(10672, 9000)\n",
            "(10672,)\n"
          ],
          "name": "stdout"
        }
      ]
    },
    {
      "cell_type": "code",
      "metadata": {
        "id": "hPz3n1n5nEis"
      },
      "source": [
        "from sklearn.ensemble import RandomForestClassifier\n",
        "from sklearn.tree import DecisionTreeClassifier"
      ],
      "execution_count": 51,
      "outputs": []
    },
    {
      "cell_type": "code",
      "metadata": {
        "colab": {
          "base_uri": "https://localhost:8080/"
        },
        "id": "ufB27sZnzysJ",
        "outputId": "10c08ebc-be6f-4a8e-98e9-3972afcaa00f"
      },
      "source": [
        "rf = RandomForestClassifier()\n",
        "rf.fit(x_train, y_train)\n",
        "y_pre = rf.predict(x_valid)\n",
        "accuracy_score(y_pre, y_valid)"
      ],
      "execution_count": 52,
      "outputs": [
        {
          "output_type": "execute_result",
          "data": {
            "text/plain": [
              "0.49868815592203897"
            ]
          },
          "metadata": {
            "tags": []
          },
          "execution_count": 52
        }
      ]
    },
    {
      "cell_type": "code",
      "metadata": {
        "id": "zjUv8ySf1FdP",
        "outputId": "ec748931-dd8d-42c4-c77d-6e4078fbff64",
        "colab": {
          "base_uri": "https://localhost:8080/"
        }
      },
      "source": [
        "rf.get_params"
      ],
      "execution_count": 56,
      "outputs": [
        {
          "output_type": "execute_result",
          "data": {
            "text/plain": [
              "<bound method BaseEstimator.get_params of RandomForestClassifier(bootstrap=True, ccp_alpha=0.0, class_weight=None,\n",
              "                       criterion='gini', max_depth=None, max_features='auto',\n",
              "                       max_leaf_nodes=None, max_samples=None,\n",
              "                       min_impurity_decrease=0.0, min_impurity_split=None,\n",
              "                       min_samples_leaf=1, min_samples_split=2,\n",
              "                       min_weight_fraction_leaf=0.0, n_estimators=100,\n",
              "                       n_jobs=None, oob_score=False, random_state=None,\n",
              "                       verbose=0, warm_start=False)>"
            ]
          },
          "metadata": {
            "tags": []
          },
          "execution_count": 56
        }
      ]
    },
    {
      "cell_type": "markdown",
      "metadata": {
        "id": "_VJm-RmynZd9"
      },
      "source": [
        "# Optimization"
      ]
    },
    {
      "cell_type": "code",
      "metadata": {
        "id": "Qs56lvTeokcZ",
        "outputId": "89b3cacf-613c-4461-dfec-f4c55e5fa716",
        "colab": {
          "base_uri": "https://localhost:8080/"
        }
      },
      "source": [
        "# !pip install optuna\n",
        "import optuna\n",
        "\n",
        "def objective(trial):\n",
        "\n",
        "    model = RandomForestClassifier(\n",
        "       n_estimators=trial.suggest_int('n_estimators', 80, 250),\n",
        "       criterion=trial.suggest_categorical('criterion', [\"gini\", 'entropy']),\n",
        "       max_features=trial.suggest_categorical('max_features', ['auto', 'sqrt', 'log2']),\n",
        "       min_samples_split=trial.suggest_int('min_samples_split', 2, 7),\n",
        "       min_samples_leaf=trial.suggest_int('min_samples_leaf', 2, 7),\n",
        "       min_weight_fraction_leaf=trial.suggest_uniform('min_weight_fraction_leaf', 0.0, 0.3),\n",
        "       warm_start=trial.suggest_categorical('warm_start', [True, False])\n",
        "    )\n",
        "\n",
        "    model.fit(x_train, y_train)\n",
        "    y_pre = model.predict(x_valid)\n",
        "\n",
        "    return accuracy_score(y_pre, y_valid)\n",
        "\n",
        "study = optuna.create_study(direction=\"maximize\")\n",
        "study.optimize(objective, n_trials=300)"
      ],
      "execution_count": 62,
      "outputs": [
        {
          "output_type": "stream",
          "text": [
            "\u001b[32m[I 2021-06-07 14:28:01,916]\u001b[0m A new study created in memory with name: no-name-59439205-0a8f-4e79-b8ec-8a64c9d98acd\u001b[0m\n",
            "\u001b[32m[I 2021-06-07 14:28:03,097]\u001b[0m Trial 0 finished with value: 0.11281859070464767 and parameters: {'n_estimators': 136, 'criterion': 'gini', 'max_features': 'log2', 'min_samples_split': 4, 'min_samples_leaf': 6, 'min_weight_fraction_leaf': 0.011590366004756625, 'warm_start': False}. Best is trial 0 with value: 0.11281859070464767.\u001b[0m\n",
            "\u001b[32m[I 2021-06-07 14:28:05,200]\u001b[0m Trial 1 finished with value: 0.11281859070464767 and parameters: {'n_estimators': 238, 'criterion': 'entropy', 'max_features': 'auto', 'min_samples_split': 2, 'min_samples_leaf': 7, 'min_weight_fraction_leaf': 0.017072068512548232, 'warm_start': False}. Best is trial 0 with value: 0.11281859070464767.\u001b[0m\n",
            "\u001b[32m[I 2021-06-07 14:28:07,090]\u001b[0m Trial 2 finished with value: 0.11281859070464767 and parameters: {'n_estimators': 219, 'criterion': 'entropy', 'max_features': 'auto', 'min_samples_split': 6, 'min_samples_leaf': 7, 'min_weight_fraction_leaf': 0.2416512363137232, 'warm_start': True}. Best is trial 0 with value: 0.11281859070464767.\u001b[0m\n",
            "\u001b[32m[I 2021-06-07 14:28:07,901]\u001b[0m Trial 3 finished with value: 0.11281859070464767 and parameters: {'n_estimators': 93, 'criterion': 'gini', 'max_features': 'auto', 'min_samples_split': 6, 'min_samples_leaf': 2, 'min_weight_fraction_leaf': 0.10424020136132922, 'warm_start': True}. Best is trial 0 with value: 0.11281859070464767.\u001b[0m\n",
            "\u001b[32m[I 2021-06-07 14:28:08,743]\u001b[0m Trial 4 finished with value: 0.11281859070464767 and parameters: {'n_estimators': 95, 'criterion': 'entropy', 'max_features': 'auto', 'min_samples_split': 5, 'min_samples_leaf': 4, 'min_weight_fraction_leaf': 0.08725481263632694, 'warm_start': True}. Best is trial 0 with value: 0.11281859070464767.\u001b[0m\n",
            "\u001b[32m[I 2021-06-07 14:28:10,249]\u001b[0m Trial 5 finished with value: 0.11281859070464767 and parameters: {'n_estimators': 179, 'criterion': 'gini', 'max_features': 'log2', 'min_samples_split': 6, 'min_samples_leaf': 2, 'min_weight_fraction_leaf': 0.26980790257544146, 'warm_start': True}. Best is trial 0 with value: 0.11281859070464767.\u001b[0m\n",
            "\u001b[32m[I 2021-06-07 14:28:10,978]\u001b[0m Trial 6 finished with value: 0.11281859070464767 and parameters: {'n_estimators': 85, 'criterion': 'gini', 'max_features': 'log2', 'min_samples_split': 6, 'min_samples_leaf': 3, 'min_weight_fraction_leaf': 0.14294130688830883, 'warm_start': True}. Best is trial 0 with value: 0.11281859070464767.\u001b[0m\n",
            "\u001b[32m[I 2021-06-07 14:28:11,714]\u001b[0m Trial 7 finished with value: 0.11281859070464767 and parameters: {'n_estimators': 84, 'criterion': 'gini', 'max_features': 'auto', 'min_samples_split': 7, 'min_samples_leaf': 5, 'min_weight_fraction_leaf': 0.00919158658868765, 'warm_start': False}. Best is trial 0 with value: 0.11281859070464767.\u001b[0m\n",
            "\u001b[32m[I 2021-06-07 14:28:13,199]\u001b[0m Trial 8 finished with value: 0.11281859070464767 and parameters: {'n_estimators': 172, 'criterion': 'gini', 'max_features': 'sqrt', 'min_samples_split': 6, 'min_samples_leaf': 2, 'min_weight_fraction_leaf': 0.08604507334737045, 'warm_start': False}. Best is trial 0 with value: 0.11281859070464767.\u001b[0m\n",
            "\u001b[32m[I 2021-06-07 14:28:14,079]\u001b[0m Trial 9 finished with value: 0.11281859070464767 and parameters: {'n_estimators': 101, 'criterion': 'gini', 'max_features': 'auto', 'min_samples_split': 3, 'min_samples_leaf': 2, 'min_weight_fraction_leaf': 0.24616990437948708, 'warm_start': True}. Best is trial 0 with value: 0.11281859070464767.\u001b[0m\n",
            "\u001b[32m[I 2021-06-07 14:28:15,232]\u001b[0m Trial 10 finished with value: 0.11281859070464767 and parameters: {'n_estimators': 134, 'criterion': 'gini', 'max_features': 'log2', 'min_samples_split': 3, 'min_samples_leaf': 6, 'min_weight_fraction_leaf': 0.1871931008364691, 'warm_start': False}. Best is trial 0 with value: 0.11281859070464767.\u001b[0m\n",
            "\u001b[32m[I 2021-06-07 14:28:29,411]\u001b[0m Trial 11 finished with value: 0.45314842578710646 and parameters: {'n_estimators': 222, 'criterion': 'entropy', 'max_features': 'log2', 'min_samples_split': 2, 'min_samples_leaf': 7, 'min_weight_fraction_leaf': 0.00014231632959640916, 'warm_start': False}. Best is trial 11 with value: 0.45314842578710646.\u001b[0m\n",
            "\u001b[32m[I 2021-06-07 14:28:30,649]\u001b[0m Trial 12 finished with value: 0.11281859070464767 and parameters: {'n_estimators': 145, 'criterion': 'entropy', 'max_features': 'log2', 'min_samples_split': 2, 'min_samples_leaf': 6, 'min_weight_fraction_leaf': 0.005758171609621887, 'warm_start': False}. Best is trial 11 with value: 0.45314842578710646.\u001b[0m\n",
            "\u001b[32m[I 2021-06-07 14:28:32,373]\u001b[0m Trial 13 finished with value: 0.11281859070464767 and parameters: {'n_estimators': 202, 'criterion': 'entropy', 'max_features': 'log2', 'min_samples_split': 4, 'min_samples_leaf': 6, 'min_weight_fraction_leaf': 0.04577448786943868, 'warm_start': False}. Best is trial 11 with value: 0.45314842578710646.\u001b[0m\n",
            "\u001b[32m[I 2021-06-07 14:28:33,499]\u001b[0m Trial 14 finished with value: 0.11281859070464767 and parameters: {'n_estimators': 129, 'criterion': 'entropy', 'max_features': 'sqrt', 'min_samples_split': 4, 'min_samples_leaf': 7, 'min_weight_fraction_leaf': 0.05022232683976417, 'warm_start': False}. Best is trial 11 with value: 0.45314842578710646.\u001b[0m\n",
            "\u001b[32m[I 2021-06-07 14:28:35,613]\u001b[0m Trial 15 finished with value: 0.11281859070464767 and parameters: {'n_estimators': 250, 'criterion': 'entropy', 'max_features': 'log2', 'min_samples_split': 3, 'min_samples_leaf': 5, 'min_weight_fraction_leaf': 0.043288522661452514, 'warm_start': False}. Best is trial 11 with value: 0.45314842578710646.\u001b[0m\n",
            "\u001b[32m[I 2021-06-07 14:28:37,334]\u001b[0m Trial 16 finished with value: 0.11281859070464767 and parameters: {'n_estimators': 197, 'criterion': 'entropy', 'max_features': 'log2', 'min_samples_split': 2, 'min_samples_leaf': 6, 'min_weight_fraction_leaf': 0.0018982751162792536, 'warm_start': False}. Best is trial 11 with value: 0.45314842578710646.\u001b[0m\n",
            "\u001b[32m[I 2021-06-07 14:28:38,647]\u001b[0m Trial 17 finished with value: 0.11281859070464767 and parameters: {'n_estimators': 155, 'criterion': 'gini', 'max_features': 'log2', 'min_samples_split': 4, 'min_samples_leaf': 7, 'min_weight_fraction_leaf': 0.13670767436023973, 'warm_start': False}. Best is trial 11 with value: 0.45314842578710646.\u001b[0m\n",
            "\u001b[32m[I 2021-06-07 14:28:39,692]\u001b[0m Trial 18 finished with value: 0.11281859070464767 and parameters: {'n_estimators': 119, 'criterion': 'entropy', 'max_features': 'sqrt', 'min_samples_split': 5, 'min_samples_leaf': 5, 'min_weight_fraction_leaf': 0.1983472299160628, 'warm_start': False}. Best is trial 11 with value: 0.45314842578710646.\u001b[0m\n",
            "\u001b[32m[I 2021-06-07 14:28:41,618]\u001b[0m Trial 19 finished with value: 0.11281859070464767 and parameters: {'n_estimators': 226, 'criterion': 'gini', 'max_features': 'log2', 'min_samples_split': 3, 'min_samples_leaf': 4, 'min_weight_fraction_leaf': 0.06474521298405889, 'warm_start': False}. Best is trial 11 with value: 0.45314842578710646.\u001b[0m\n",
            "\u001b[32m[I 2021-06-07 14:28:42,583]\u001b[0m Trial 20 finished with value: 0.11281859070464767 and parameters: {'n_estimators': 112, 'criterion': 'entropy', 'max_features': 'log2', 'min_samples_split': 2, 'min_samples_leaf': 6, 'min_weight_fraction_leaf': 0.11105560278016166, 'warm_start': False}. Best is trial 11 with value: 0.45314842578710646.\u001b[0m\n",
            "\u001b[32m[I 2021-06-07 14:28:43,626]\u001b[0m Trial 21 finished with value: 0.11281859070464767 and parameters: {'n_estimators': 119, 'criterion': 'entropy', 'max_features': 'sqrt', 'min_samples_split': 5, 'min_samples_leaf': 5, 'min_weight_fraction_leaf': 0.18286128782761937, 'warm_start': False}. Best is trial 11 with value: 0.45314842578710646.\u001b[0m\n",
            "\u001b[32m[I 2021-06-07 14:28:45,561]\u001b[0m Trial 22 finished with value: 0.11281859070464767 and parameters: {'n_estimators': 229, 'criterion': 'gini', 'max_features': 'log2', 'min_samples_split': 3, 'min_samples_leaf': 4, 'min_weight_fraction_leaf': 0.03160956892972014, 'warm_start': False}. Best is trial 11 with value: 0.45314842578710646.\u001b[0m\n",
            "\u001b[32m[I 2021-06-07 14:28:47,270]\u001b[0m Trial 23 finished with value: 0.11281859070464767 and parameters: {'n_estimators': 201, 'criterion': 'entropy', 'max_features': 'log2', 'min_samples_split': 2, 'min_samples_leaf': 3, 'min_weight_fraction_leaf': 0.1143753330702336, 'warm_start': False}. Best is trial 11 with value: 0.45314842578710646.\u001b[0m\n",
            "\u001b[32m[I 2021-06-07 14:28:48,267]\u001b[0m Trial 24 finished with value: 0.11281859070464767 and parameters: {'n_estimators': 114, 'criterion': 'entropy', 'max_features': 'sqrt', 'min_samples_split': 5, 'min_samples_leaf': 5, 'min_weight_fraction_leaf': 0.1788477525667203, 'warm_start': False}. Best is trial 11 with value: 0.45314842578710646.\u001b[0m\n",
            "\u001b[32m[I 2021-06-07 14:28:49,842]\u001b[0m Trial 25 finished with value: 0.11281859070464767 and parameters: {'n_estimators': 185, 'criterion': 'gini', 'max_features': 'log2', 'min_samples_split': 3, 'min_samples_leaf': 4, 'min_weight_fraction_leaf': 0.028845080227790032, 'warm_start': False}. Best is trial 11 with value: 0.45314842578710646.\u001b[0m\n",
            "\u001b[32m[I 2021-06-07 14:28:51,620]\u001b[0m Trial 26 finished with value: 0.11281859070464767 and parameters: {'n_estimators': 208, 'criterion': 'entropy', 'max_features': 'log2', 'min_samples_split': 2, 'min_samples_leaf': 3, 'min_weight_fraction_leaf': 0.06461585675160775, 'warm_start': False}. Best is trial 11 with value: 0.45314842578710646.\u001b[0m\n",
            "\u001b[32m[I 2021-06-07 14:28:53,019]\u001b[0m Trial 27 finished with value: 0.11281859070464767 and parameters: {'n_estimators': 161, 'criterion': 'entropy', 'max_features': 'sqrt', 'min_samples_split': 7, 'min_samples_leaf': 6, 'min_weight_fraction_leaf': 0.16458413821606283, 'warm_start': False}. Best is trial 11 with value: 0.45314842578710646.\u001b[0m\n",
            "\u001b[32m[I 2021-06-07 14:28:54,583]\u001b[0m Trial 28 finished with value: 0.11281859070464767 and parameters: {'n_estimators': 182, 'criterion': 'gini', 'max_features': 'log2', 'min_samples_split': 4, 'min_samples_leaf': 4, 'min_weight_fraction_leaf': 0.019537009493880757, 'warm_start': False}. Best is trial 11 with value: 0.45314842578710646.\u001b[0m\n",
            "\u001b[32m[I 2021-06-07 14:28:56,652]\u001b[0m Trial 29 finished with value: 0.11281859070464767 and parameters: {'n_estimators': 244, 'criterion': 'entropy', 'max_features': 'log2', 'min_samples_split': 2, 'min_samples_leaf': 3, 'min_weight_fraction_leaf': 0.08058552903141283, 'warm_start': False}. Best is trial 11 with value: 0.45314842578710646.\u001b[0m\n",
            "\u001b[32m[I 2021-06-07 14:28:58,043]\u001b[0m Trial 30 finished with value: 0.11281859070464767 and parameters: {'n_estimators': 158, 'criterion': 'entropy', 'max_features': 'sqrt', 'min_samples_split': 7, 'min_samples_leaf': 7, 'min_weight_fraction_leaf': 0.21436500991209445, 'warm_start': False}. Best is trial 11 with value: 0.45314842578710646.\u001b[0m\n",
            "\u001b[32m[I 2021-06-07 14:28:59,295]\u001b[0m Trial 31 finished with value: 0.11281859070464767 and parameters: {'n_estimators': 143, 'criterion': 'gini', 'max_features': 'sqrt', 'min_samples_split': 4, 'min_samples_leaf': 6, 'min_weight_fraction_leaf': 0.02010678854863096, 'warm_start': False}. Best is trial 11 with value: 0.45314842578710646.\u001b[0m\n",
            "\u001b[32m[I 2021-06-07 14:29:01,392]\u001b[0m Trial 32 finished with value: 0.11281859070464767 and parameters: {'n_estimators': 246, 'criterion': 'gini', 'max_features': 'log2', 'min_samples_split': 4, 'min_samples_leaf': 3, 'min_weight_fraction_leaf': 0.0041715725875649074, 'warm_start': False}. Best is trial 11 with value: 0.45314842578710646.\u001b[0m\n",
            "\u001b[32m[I 2021-06-07 14:29:03,450]\u001b[0m Trial 33 finished with value: 0.11281859070464767 and parameters: {'n_estimators': 238, 'criterion': 'entropy', 'max_features': 'sqrt', 'min_samples_split': 2, 'min_samples_leaf': 7, 'min_weight_fraction_leaf': 0.20545707144631548, 'warm_start': False}. Best is trial 11 with value: 0.45314842578710646.\u001b[0m\n",
            "\u001b[32m[I 2021-06-07 14:29:05,340]\u001b[0m Trial 34 finished with value: 0.11281859070464767 and parameters: {'n_estimators': 222, 'criterion': 'gini', 'max_features': 'log2', 'min_samples_split': 3, 'min_samples_leaf': 7, 'min_weight_fraction_leaf': 0.1202282893468339, 'warm_start': False}. Best is trial 11 with value: 0.45314842578710646.\u001b[0m\n",
            "\u001b[32m[I 2021-06-07 14:29:06,314]\u001b[0m Trial 35 finished with value: 0.11281859070464767 and parameters: {'n_estimators': 110, 'criterion': 'entropy', 'max_features': 'auto', 'min_samples_split': 5, 'min_samples_leaf': 6, 'min_weight_fraction_leaf': 0.2283226845068325, 'warm_start': False}. Best is trial 11 with value: 0.45314842578710646.\u001b[0m\n",
            "\u001b[32m[I 2021-06-07 14:29:07,427]\u001b[0m Trial 36 finished with value: 0.11281859070464767 and parameters: {'n_estimators': 129, 'criterion': 'entropy', 'max_features': 'log2', 'min_samples_split': 5, 'min_samples_leaf': 5, 'min_weight_fraction_leaf': 0.16100214687746592, 'warm_start': True}. Best is trial 11 with value: 0.45314842578710646.\u001b[0m\n",
            "\u001b[32m[I 2021-06-07 14:29:09,287]\u001b[0m Trial 37 finished with value: 0.11281859070464767 and parameters: {'n_estimators': 213, 'criterion': 'gini', 'max_features': 'sqrt', 'min_samples_split': 3, 'min_samples_leaf': 5, 'min_weight_fraction_leaf': 0.2570464723800401, 'warm_start': False}. Best is trial 11 with value: 0.45314842578710646.\u001b[0m\n",
            "\u001b[32m[I 2021-06-07 14:29:11,278]\u001b[0m Trial 38 finished with value: 0.11281859070464767 and parameters: {'n_estimators': 235, 'criterion': 'gini', 'max_features': 'log2', 'min_samples_split': 5, 'min_samples_leaf': 4, 'min_weight_fraction_leaf': 0.027546737001845505, 'warm_start': True}. Best is trial 11 with value: 0.45314842578710646.\u001b[0m\n",
            "\u001b[32m[I 2021-06-07 14:29:13,216]\u001b[0m Trial 39 finished with value: 0.11281859070464767 and parameters: {'n_estimators': 227, 'criterion': 'gini', 'max_features': 'log2', 'min_samples_split': 2, 'min_samples_leaf': 3, 'min_weight_fraction_leaf': 0.29665903335853216, 'warm_start': False}. Best is trial 11 with value: 0.45314842578710646.\u001b[0m\n",
            "\u001b[32m[I 2021-06-07 14:29:14,911]\u001b[0m Trial 40 finished with value: 0.11281859070464767 and parameters: {'n_estimators': 199, 'criterion': 'gini', 'max_features': 'log2', 'min_samples_split': 3, 'min_samples_leaf': 3, 'min_weight_fraction_leaf': 0.06011016952150956, 'warm_start': True}. Best is trial 11 with value: 0.45314842578710646.\u001b[0m\n",
            "\u001b[32m[I 2021-06-07 14:29:16,516]\u001b[0m Trial 41 finished with value: 0.11281859070464767 and parameters: {'n_estimators': 189, 'criterion': 'entropy', 'max_features': 'log2', 'min_samples_split': 2, 'min_samples_leaf': 4, 'min_weight_fraction_leaf': 0.0941124774228667, 'warm_start': False}. Best is trial 11 with value: 0.45314842578710646.\u001b[0m\n",
            "\u001b[32m[I 2021-06-07 14:29:17,983]\u001b[0m Trial 42 finished with value: 0.11281859070464767 and parameters: {'n_estimators': 171, 'criterion': 'entropy', 'max_features': 'auto', 'min_samples_split': 6, 'min_samples_leaf': 5, 'min_weight_fraction_leaf': 0.13743672967079879, 'warm_start': False}. Best is trial 11 with value: 0.45314842578710646.\u001b[0m\n",
            "\u001b[32m[I 2021-06-07 14:29:19,767]\u001b[0m Trial 43 finished with value: 0.11281859070464767 and parameters: {'n_estimators': 210, 'criterion': 'entropy', 'max_features': 'log2', 'min_samples_split': 4, 'min_samples_leaf': 2, 'min_weight_fraction_leaf': 0.07438060522323463, 'warm_start': False}. Best is trial 11 with value: 0.45314842578710646.\u001b[0m\n",
            "\u001b[32m[I 2021-06-07 14:29:21,371]\u001b[0m Trial 44 finished with value: 0.11281859070464767 and parameters: {'n_estimators': 187, 'criterion': 'entropy', 'max_features': 'log2', 'min_samples_split': 3, 'min_samples_leaf': 4, 'min_weight_fraction_leaf': 0.03500863774406726, 'warm_start': False}. Best is trial 11 with value: 0.45314842578710646.\u001b[0m\n",
            "\u001b[32m[I 2021-06-07 14:29:22,815]\u001b[0m Trial 45 finished with value: 0.11281859070464767 and parameters: {'n_estimators': 170, 'criterion': 'entropy', 'max_features': 'log2', 'min_samples_split': 2, 'min_samples_leaf': 7, 'min_weight_fraction_leaf': 0.15779315599361624, 'warm_start': False}. Best is trial 11 with value: 0.45314842578710646.\u001b[0m\n",
            "\u001b[32m[I 2021-06-07 14:29:24,428]\u001b[0m Trial 46 finished with value: 0.11281859070464767 and parameters: {'n_estimators': 188, 'criterion': 'gini', 'max_features': 'log2', 'min_samples_split': 3, 'min_samples_leaf': 4, 'min_weight_fraction_leaf': 0.02133096544631244, 'warm_start': False}. Best is trial 11 with value: 0.45314842578710646.\u001b[0m\n",
            "\u001b[32m[I 2021-06-07 14:29:26,270]\u001b[0m Trial 47 finished with value: 0.11281859070464767 and parameters: {'n_estimators': 217, 'criterion': 'entropy', 'max_features': 'log2', 'min_samples_split': 2, 'min_samples_leaf': 3, 'min_weight_fraction_leaf': 0.07642350893082872, 'warm_start': False}. Best is trial 11 with value: 0.45314842578710646.\u001b[0m\n",
            "\u001b[32m[I 2021-06-07 14:29:28,397]\u001b[0m Trial 48 finished with value: 0.11281859070464767 and parameters: {'n_estimators': 245, 'criterion': 'entropy', 'max_features': 'sqrt', 'min_samples_split': 7, 'min_samples_leaf': 2, 'min_weight_fraction_leaf': 0.09216131962623245, 'warm_start': False}. Best is trial 11 with value: 0.45314842578710646.\u001b[0m\n",
            "\u001b[32m[I 2021-06-07 14:29:29,754]\u001b[0m Trial 49 finished with value: 0.11281859070464767 and parameters: {'n_estimators': 156, 'criterion': 'entropy', 'max_features': 'sqrt', 'min_samples_split': 7, 'min_samples_leaf': 7, 'min_weight_fraction_leaf': 0.2805382664408286, 'warm_start': False}. Best is trial 11 with value: 0.45314842578710646.\u001b[0m\n",
            "\u001b[32m[I 2021-06-07 14:29:31,060]\u001b[0m Trial 50 finished with value: 0.11281859070464767 and parameters: {'n_estimators': 149, 'criterion': 'gini', 'max_features': 'auto', 'min_samples_split': 4, 'min_samples_leaf': 6, 'min_weight_fraction_leaf': 0.01148376444903665, 'warm_start': True}. Best is trial 11 with value: 0.45314842578710646.\u001b[0m\n",
            "\u001b[32m[I 2021-06-07 14:29:32,327]\u001b[0m Trial 51 finished with value: 0.11281859070464767 and parameters: {'n_estimators': 144, 'criterion': 'gini', 'max_features': 'sqrt', 'min_samples_split': 4, 'min_samples_leaf': 7, 'min_weight_fraction_leaf': 0.01752631108266069, 'warm_start': False}. Best is trial 11 with value: 0.45314842578710646.\u001b[0m\n",
            "\u001b[32m[I 2021-06-07 14:29:33,554]\u001b[0m Trial 52 finished with value: 0.11281859070464767 and parameters: {'n_estimators': 140, 'criterion': 'gini', 'max_features': 'sqrt', 'min_samples_split': 4, 'min_samples_leaf': 6, 'min_weight_fraction_leaf': 0.04796252698491686, 'warm_start': False}. Best is trial 11 with value: 0.45314842578710646.\u001b[0m\n",
            "\u001b[32m[I 2021-06-07 14:29:35,720]\u001b[0m Trial 53 finished with value: 0.11281859070464767 and parameters: {'n_estimators': 249, 'criterion': 'gini', 'max_features': 'sqrt', 'min_samples_split': 4, 'min_samples_leaf': 7, 'min_weight_fraction_leaf': 0.013419607971901093, 'warm_start': False}. Best is trial 11 with value: 0.45314842578710646.\u001b[0m\n",
            "\u001b[32m[I 2021-06-07 14:29:43,720]\u001b[0m Trial 54 finished with value: 0.3911169415292354 and parameters: {'n_estimators': 134, 'criterion': 'gini', 'max_features': 'sqrt', 'min_samples_split': 4, 'min_samples_leaf': 6, 'min_weight_fraction_leaf': 0.0008590758829287275, 'warm_start': False}. Best is trial 11 with value: 0.45314842578710646.\u001b[0m\n",
            "\u001b[32m[I 2021-06-07 14:29:45,825]\u001b[0m Trial 55 finished with value: 0.11281859070464767 and parameters: {'n_estimators': 240, 'criterion': 'gini', 'max_features': 'sqrt', 'min_samples_split': 6, 'min_samples_leaf': 7, 'min_weight_fraction_leaf': 0.2146262294441419, 'warm_start': False}. Best is trial 11 with value: 0.45314842578710646.\u001b[0m\n",
            "\u001b[32m[I 2021-06-07 14:29:50,696]\u001b[0m Trial 56 finished with value: 0.3509182908545727 and parameters: {'n_estimators': 151, 'criterion': 'gini', 'max_features': 'sqrt', 'min_samples_split': 4, 'min_samples_leaf': 7, 'min_weight_fraction_leaf': 0.0014067507116367133, 'warm_start': False}. Best is trial 11 with value: 0.45314842578710646.\u001b[0m\n",
            "\u001b[32m[I 2021-06-07 14:30:00,167]\u001b[0m Trial 57 finished with value: 0.4073275862068966 and parameters: {'n_estimators': 136, 'criterion': 'gini', 'max_features': 'sqrt', 'min_samples_split': 4, 'min_samples_leaf': 7, 'min_weight_fraction_leaf': 0.0007422093791715975, 'warm_start': False}. Best is trial 11 with value: 0.45314842578710646.\u001b[0m\n",
            "\u001b[32m[I 2021-06-07 14:30:11,318]\u001b[0m Trial 58 finished with value: 0.433095952023988 and parameters: {'n_estimators': 137, 'criterion': 'gini', 'max_features': 'sqrt', 'min_samples_split': 4, 'min_samples_leaf': 6, 'min_weight_fraction_leaf': 0.0006382800898158516, 'warm_start': False}. Best is trial 11 with value: 0.45314842578710646.\u001b[0m\n",
            "\u001b[32m[I 2021-06-07 14:30:16,590]\u001b[0m Trial 59 finished with value: 0.3606634182908546 and parameters: {'n_estimators': 135, 'criterion': 'gini', 'max_features': 'sqrt', 'min_samples_split': 4, 'min_samples_leaf': 6, 'min_weight_fraction_leaf': 0.001213477450469274, 'warm_start': False}. Best is trial 11 with value: 0.45314842578710646.\u001b[0m\n",
            "\u001b[32m[I 2021-06-07 14:30:18,161]\u001b[0m Trial 60 finished with value: 0.20970764617691154 and parameters: {'n_estimators': 131, 'criterion': 'gini', 'max_features': 'sqrt', 'min_samples_split': 4, 'min_samples_leaf': 6, 'min_weight_fraction_leaf': 0.0026816684814248387, 'warm_start': False}. Best is trial 11 with value: 0.45314842578710646.\u001b[0m\n",
            "\u001b[32m[I 2021-06-07 14:30:19,863]\u001b[0m Trial 61 finished with value: 0.2303223388305847 and parameters: {'n_estimators': 131, 'criterion': 'gini', 'max_features': 'sqrt', 'min_samples_split': 4, 'min_samples_leaf': 6, 'min_weight_fraction_leaf': 0.0025826812906127876, 'warm_start': False}. Best is trial 11 with value: 0.45314842578710646.\u001b[0m\n",
            "\u001b[32m[I 2021-06-07 14:30:35,703]\u001b[0m Trial 62 finished with value: 0.45624062968515744 and parameters: {'n_estimators': 123, 'criterion': 'gini', 'max_features': 'sqrt', 'min_samples_split': 4, 'min_samples_leaf': 6, 'min_weight_fraction_leaf': 0.0003407250610353253, 'warm_start': False}. Best is trial 62 with value: 0.45624062968515744.\u001b[0m\n",
            "\u001b[32m[I 2021-06-07 14:30:49,278]\u001b[0m Trial 63 finished with value: 0.446308095952024 and parameters: {'n_estimators': 125, 'criterion': 'gini', 'max_features': 'sqrt', 'min_samples_split': 4, 'min_samples_leaf': 6, 'min_weight_fraction_leaf': 0.00042795487736835454, 'warm_start': False}. Best is trial 62 with value: 0.45624062968515744.\u001b[0m\n",
            "\u001b[32m[I 2021-06-07 14:30:50,361]\u001b[0m Trial 64 finished with value: 0.11281859070464767 and parameters: {'n_estimators': 123, 'criterion': 'gini', 'max_features': 'sqrt', 'min_samples_split': 5, 'min_samples_leaf': 6, 'min_weight_fraction_leaf': 0.03695988891327386, 'warm_start': False}. Best is trial 62 with value: 0.45624062968515744.\u001b[0m\n",
            "\u001b[32m[I 2021-06-07 14:30:51,255]\u001b[0m Trial 65 finished with value: 0.11281859070464767 and parameters: {'n_estimators': 100, 'criterion': 'gini', 'max_features': 'sqrt', 'min_samples_split': 4, 'min_samples_leaf': 6, 'min_weight_fraction_leaf': 0.010529773492177418, 'warm_start': False}. Best is trial 62 with value: 0.45624062968515744.\u001b[0m\n",
            "\u001b[32m[I 2021-06-07 14:31:02,124]\u001b[0m Trial 66 finished with value: 0.43693778110944526 and parameters: {'n_estimators': 123, 'criterion': 'gini', 'max_features': 'sqrt', 'min_samples_split': 4, 'min_samples_leaf': 6, 'min_weight_fraction_leaf': 0.000563755698547951, 'warm_start': False}. Best is trial 62 with value: 0.45624062968515744.\u001b[0m\n",
            "\u001b[32m[I 2021-06-07 14:31:03,211]\u001b[0m Trial 67 finished with value: 0.11281859070464767 and parameters: {'n_estimators': 122, 'criterion': 'gini', 'max_features': 'sqrt', 'min_samples_split': 4, 'min_samples_leaf': 6, 'min_weight_fraction_leaf': 0.04093389372802975, 'warm_start': False}. Best is trial 62 with value: 0.45624062968515744.\u001b[0m\n",
            "\u001b[32m[I 2021-06-07 14:31:04,158]\u001b[0m Trial 68 finished with value: 0.11281859070464767 and parameters: {'n_estimators': 106, 'criterion': 'gini', 'max_features': 'sqrt', 'min_samples_split': 5, 'min_samples_leaf': 6, 'min_weight_fraction_leaf': 0.025973760658662103, 'warm_start': False}. Best is trial 62 with value: 0.45624062968515744.\u001b[0m\n",
            "\u001b[32m[I 2021-06-07 14:31:04,929]\u001b[0m Trial 69 finished with value: 0.11281859070464767 and parameters: {'n_estimators': 86, 'criterion': 'gini', 'max_features': 'sqrt', 'min_samples_split': 4, 'min_samples_leaf': 6, 'min_weight_fraction_leaf': 0.011719314435405189, 'warm_start': False}. Best is trial 62 with value: 0.45624062968515744.\u001b[0m\n",
            "\u001b[32m[I 2021-06-07 14:31:06,018]\u001b[0m Trial 70 finished with value: 0.11281859070464767 and parameters: {'n_estimators': 125, 'criterion': 'gini', 'max_features': 'sqrt', 'min_samples_split': 3, 'min_samples_leaf': 5, 'min_weight_fraction_leaf': 0.05660967647725228, 'warm_start': False}. Best is trial 62 with value: 0.45624062968515744.\u001b[0m\n",
            "\u001b[32m[I 2021-06-07 14:31:09,220]\u001b[0m Trial 71 finished with value: 0.30697151424287855 and parameters: {'n_estimators': 138, 'criterion': 'gini', 'max_features': 'sqrt', 'min_samples_split': 4, 'min_samples_leaf': 6, 'min_weight_fraction_leaf': 0.001743471827373091, 'warm_start': False}. Best is trial 62 with value: 0.45624062968515744.\u001b[0m\n",
            "\u001b[32m[I 2021-06-07 14:31:23,097]\u001b[0m Trial 72 finished with value: 0.4528673163418291 and parameters: {'n_estimators': 117, 'criterion': 'gini', 'max_features': 'sqrt', 'min_samples_split': 4, 'min_samples_leaf': 6, 'min_weight_fraction_leaf': 0.0003832212083507177, 'warm_start': False}. Best is trial 62 with value: 0.45624062968515744.\u001b[0m\n",
            "\u001b[32m[I 2021-06-07 14:31:24,129]\u001b[0m Trial 73 finished with value: 0.11281859070464767 and parameters: {'n_estimators': 116, 'criterion': 'gini', 'max_features': 'sqrt', 'min_samples_split': 5, 'min_samples_leaf': 7, 'min_weight_fraction_leaf': 0.02468071844103799, 'warm_start': False}. Best is trial 62 with value: 0.45624062968515744.\u001b[0m\n",
            "\u001b[32m[I 2021-06-07 14:31:35,762]\u001b[0m Trial 74 finished with value: 0.4477136431784108 and parameters: {'n_estimators': 106, 'criterion': 'gini', 'max_features': 'sqrt', 'min_samples_split': 4, 'min_samples_leaf': 6, 'min_weight_fraction_leaf': 0.00042172243469920493, 'warm_start': False}. Best is trial 62 with value: 0.45624062968515744.\u001b[0m\n",
            "\u001b[32m[I 2021-06-07 14:31:36,751]\u001b[0m Trial 75 finished with value: 0.11281859070464767 and parameters: {'n_estimators': 108, 'criterion': 'gini', 'max_features': 'sqrt', 'min_samples_split': 4, 'min_samples_leaf': 6, 'min_weight_fraction_leaf': 0.01484053594698365, 'warm_start': False}. Best is trial 62 with value: 0.45624062968515744.\u001b[0m\n",
            "\u001b[32m[I 2021-06-07 14:31:37,613]\u001b[0m Trial 76 finished with value: 0.11281859070464767 and parameters: {'n_estimators': 96, 'criterion': 'gini', 'max_features': 'sqrt', 'min_samples_split': 4, 'min_samples_leaf': 5, 'min_weight_fraction_leaf': 0.03373546096818424, 'warm_start': False}. Best is trial 62 with value: 0.45624062968515744.\u001b[0m\n",
            "\u001b[32m[I 2021-06-07 14:31:38,655]\u001b[0m Trial 77 finished with value: 0.11281859070464767 and parameters: {'n_estimators': 117, 'criterion': 'gini', 'max_features': 'sqrt', 'min_samples_split': 4, 'min_samples_leaf': 7, 'min_weight_fraction_leaf': 0.009031165598751063, 'warm_start': False}. Best is trial 62 with value: 0.45624062968515744.\u001b[0m\n",
            "\u001b[32m[I 2021-06-07 14:31:39,584]\u001b[0m Trial 78 finished with value: 0.11281859070464767 and parameters: {'n_estimators': 104, 'criterion': 'gini', 'max_features': 'sqrt', 'min_samples_split': 3, 'min_samples_leaf': 6, 'min_weight_fraction_leaf': 0.018371778531647273, 'warm_start': False}. Best is trial 62 with value: 0.45624062968515744.\u001b[0m\n",
            "\u001b[32m[I 2021-06-07 14:31:40,402]\u001b[0m Trial 79 finished with value: 0.11281859070464767 and parameters: {'n_estimators': 91, 'criterion': 'gini', 'max_features': 'sqrt', 'min_samples_split': 5, 'min_samples_leaf': 5, 'min_weight_fraction_leaf': 0.05290165194437135, 'warm_start': False}. Best is trial 62 with value: 0.45624062968515744.\u001b[0m\n",
            "\u001b[32m[I 2021-06-07 14:31:58,514]\u001b[0m Trial 80 finished with value: 0.4622376311844078 and parameters: {'n_estimators': 113, 'criterion': 'gini', 'max_features': 'sqrt', 'min_samples_split': 4, 'min_samples_leaf': 7, 'min_weight_fraction_leaf': 7.940838807249492e-05, 'warm_start': False}. Best is trial 80 with value: 0.4622376311844078.\u001b[0m\n",
            "\u001b[32m[I 2021-06-07 14:32:07,351]\u001b[0m Trial 81 finished with value: 0.40554722638680657 and parameters: {'n_estimators': 126, 'criterion': 'gini', 'max_features': 'sqrt', 'min_samples_split': 4, 'min_samples_leaf': 7, 'min_weight_fraction_leaf': 0.0007468666652395146, 'warm_start': False}. Best is trial 80 with value: 0.4622376311844078.\u001b[0m\n",
            "\u001b[32m[I 2021-06-07 14:32:08,437]\u001b[0m Trial 82 finished with value: 0.11281859070464767 and parameters: {'n_estimators': 121, 'criterion': 'gini', 'max_features': 'sqrt', 'min_samples_split': 4, 'min_samples_leaf': 7, 'min_weight_fraction_leaf': 0.008601852876814604, 'warm_start': False}. Best is trial 80 with value: 0.4622376311844078.\u001b[0m\n",
            "\u001b[32m[I 2021-06-07 14:32:09,437]\u001b[0m Trial 83 finished with value: 0.11281859070464767 and parameters: {'n_estimators': 112, 'criterion': 'gini', 'max_features': 'sqrt', 'min_samples_split': 4, 'min_samples_leaf': 6, 'min_weight_fraction_leaf': 0.02826457582812017, 'warm_start': False}. Best is trial 80 with value: 0.4622376311844078.\u001b[0m\n",
            "\u001b[32m[I 2021-06-07 14:32:10,355]\u001b[0m Trial 84 finished with value: 0.11281859070464767 and parameters: {'n_estimators': 102, 'criterion': 'gini', 'max_features': 'sqrt', 'min_samples_split': 4, 'min_samples_leaf': 7, 'min_weight_fraction_leaf': 0.017541675197268316, 'warm_start': False}. Best is trial 80 with value: 0.4622376311844078.\u001b[0m\n",
            "\u001b[32m[I 2021-06-07 14:32:11,371]\u001b[0m Trial 85 finished with value: 0.11450524737631185 and parameters: {'n_estimators': 113, 'criterion': 'gini', 'max_features': 'sqrt', 'min_samples_split': 4, 'min_samples_leaf': 7, 'min_weight_fraction_leaf': 0.006951049292714576, 'warm_start': False}. Best is trial 80 with value: 0.4622376311844078.\u001b[0m\n",
            "\u001b[32m[I 2021-06-07 14:32:12,482]\u001b[0m Trial 86 finished with value: 0.11281859070464767 and parameters: {'n_estimators': 126, 'criterion': 'gini', 'max_features': 'sqrt', 'min_samples_split': 3, 'min_samples_leaf': 6, 'min_weight_fraction_leaf': 0.023090269094915766, 'warm_start': False}. Best is trial 80 with value: 0.4622376311844078.\u001b[0m\n",
            "\u001b[32m[I 2021-06-07 14:32:13,350]\u001b[0m Trial 87 finished with value: 0.11281859070464767 and parameters: {'n_estimators': 98, 'criterion': 'gini', 'max_features': 'sqrt', 'min_samples_split': 5, 'min_samples_leaf': 7, 'min_weight_fraction_leaf': 0.04248849210591781, 'warm_start': True}. Best is trial 80 with value: 0.4622376311844078.\u001b[0m\n",
            "\u001b[32m[I 2021-06-07 14:32:14,398]\u001b[0m Trial 88 finished with value: 0.11281859070464767 and parameters: {'n_estimators': 118, 'criterion': 'gini', 'max_features': 'sqrt', 'min_samples_split': 3, 'min_samples_leaf': 6, 'min_weight_fraction_leaf': 0.03387097690638081, 'warm_start': False}. Best is trial 80 with value: 0.4622376311844078.\u001b[0m\n",
            "\u001b[32m[I 2021-06-07 14:32:26,785]\u001b[0m Trial 89 finished with value: 0.4373125937031484 and parameters: {'n_estimators': 140, 'criterion': 'gini', 'max_features': 'auto', 'min_samples_split': 4, 'min_samples_leaf': 6, 'min_weight_fraction_leaf': 0.0005634630737643215, 'warm_start': False}. Best is trial 80 with value: 0.4622376311844078.\u001b[0m\n",
            "\u001b[32m[I 2021-06-07 14:32:28,116]\u001b[0m Trial 90 finished with value: 0.11281859070464767 and parameters: {'n_estimators': 148, 'criterion': 'gini', 'max_features': 'auto', 'min_samples_split': 4, 'min_samples_leaf': 6, 'min_weight_fraction_leaf': 0.00747912380733547, 'warm_start': False}. Best is trial 80 with value: 0.4622376311844078.\u001b[0m\n",
            "\u001b[32m[I 2021-06-07 14:32:36,285]\u001b[0m Trial 91 finished with value: 0.38830584707646176 and parameters: {'n_estimators': 141, 'criterion': 'gini', 'max_features': 'auto', 'min_samples_split': 4, 'min_samples_leaf': 6, 'min_weight_fraction_leaf': 0.0009081375305391923, 'warm_start': False}. Best is trial 80 with value: 0.4622376311844078.\u001b[0m\n",
            "\u001b[32m[I 2021-06-07 14:32:37,482]\u001b[0m Trial 92 finished with value: 0.11281859070464767 and parameters: {'n_estimators': 134, 'criterion': 'gini', 'max_features': 'auto', 'min_samples_split': 4, 'min_samples_leaf': 6, 'min_weight_fraction_leaf': 0.015093605004020115, 'warm_start': False}. Best is trial 80 with value: 0.4622376311844078.\u001b[0m\n",
            "\u001b[32m[I 2021-06-07 14:33:00,088]\u001b[0m Trial 93 finished with value: 0.46898425787106446 and parameters: {'n_estimators': 128, 'criterion': 'gini', 'max_features': 'auto', 'min_samples_split': 4, 'min_samples_leaf': 6, 'min_weight_fraction_leaf': 3.6978801702414996e-05, 'warm_start': False}. Best is trial 93 with value: 0.46898425787106446.\u001b[0m\n",
            "\u001b[32m[I 2021-06-07 14:33:01,213]\u001b[0m Trial 94 finished with value: 0.11281859070464767 and parameters: {'n_estimators': 129, 'criterion': 'gini', 'max_features': 'auto', 'min_samples_split': 4, 'min_samples_leaf': 6, 'min_weight_fraction_leaf': 0.021552910507592206, 'warm_start': False}. Best is trial 93 with value: 0.46898425787106446.\u001b[0m\n",
            "\u001b[32m[I 2021-06-07 14:33:02,212]\u001b[0m Trial 95 finished with value: 0.11281859070464767 and parameters: {'n_estimators': 111, 'criterion': 'gini', 'max_features': 'auto', 'min_samples_split': 4, 'min_samples_leaf': 6, 'min_weight_fraction_leaf': 0.007662059940114655, 'warm_start': False}. Best is trial 93 with value: 0.46898425787106446.\u001b[0m\n",
            "\u001b[32m[I 2021-06-07 14:33:03,028]\u001b[0m Trial 96 finished with value: 0.11281859070464767 and parameters: {'n_estimators': 91, 'criterion': 'gini', 'max_features': 'auto', 'min_samples_split': 4, 'min_samples_leaf': 5, 'min_weight_fraction_leaf': 0.014019760016362152, 'warm_start': False}. Best is trial 93 with value: 0.46898425787106446.\u001b[0m\n",
            "\u001b[32m[I 2021-06-07 14:33:04,001]\u001b[0m Trial 97 finished with value: 0.11281859070464767 and parameters: {'n_estimators': 108, 'criterion': 'gini', 'max_features': 'auto', 'min_samples_split': 5, 'min_samples_leaf': 6, 'min_weight_fraction_leaf': 0.02791811855116449, 'warm_start': False}. Best is trial 93 with value: 0.46898425787106446.\u001b[0m\n",
            "\u001b[32m[I 2021-06-07 14:33:05,111]\u001b[0m Trial 98 finished with value: 0.11328710644677661 and parameters: {'n_estimators': 120, 'criterion': 'gini', 'max_features': 'auto', 'min_samples_split': 4, 'min_samples_leaf': 6, 'min_weight_fraction_leaf': 0.00673918701369186, 'warm_start': False}. Best is trial 93 with value: 0.46898425787106446.\u001b[0m\n",
            "\u001b[32m[I 2021-06-07 14:33:19,500]\u001b[0m Trial 99 finished with value: 0.4485569715142429 and parameters: {'n_estimators': 125, 'criterion': 'gini', 'max_features': 'auto', 'min_samples_split': 4, 'min_samples_leaf': 5, 'min_weight_fraction_leaf': 0.00040831134234209235, 'warm_start': False}. Best is trial 93 with value: 0.46898425787106446.\u001b[0m\n",
            "\u001b[32m[I 2021-06-07 14:33:20,527]\u001b[0m Trial 100 finished with value: 0.11281859070464767 and parameters: {'n_estimators': 114, 'criterion': 'gini', 'max_features': 'auto', 'min_samples_split': 3, 'min_samples_leaf': 5, 'min_weight_fraction_leaf': 0.017327923915457816, 'warm_start': False}. Best is trial 93 with value: 0.46898425787106446.\u001b[0m\n",
            "\u001b[32m[I 2021-06-07 14:33:30,914]\u001b[0m Trial 101 finished with value: 0.43384557721139433 and parameters: {'n_estimators': 126, 'criterion': 'gini', 'max_features': 'auto', 'min_samples_split': 4, 'min_samples_leaf': 6, 'min_weight_fraction_leaf': 0.0006255020868039202, 'warm_start': False}. Best is trial 93 with value: 0.46898425787106446.\u001b[0m\n",
            "\u001b[32m[I 2021-06-07 14:33:38,861]\u001b[0m Trial 102 finished with value: 0.3945839580209895 and parameters: {'n_estimators': 126, 'criterion': 'gini', 'max_features': 'auto', 'min_samples_split': 4, 'min_samples_leaf': 6, 'min_weight_fraction_leaf': 0.0008259463691036935, 'warm_start': False}. Best is trial 93 with value: 0.46898425787106446.\u001b[0m\n",
            "\u001b[32m[I 2021-06-07 14:34:02,009]\u001b[0m Trial 103 finished with value: 0.47301349325337333 and parameters: {'n_estimators': 116, 'criterion': 'gini', 'max_features': 'auto', 'min_samples_split': 4, 'min_samples_leaf': 5, 'min_weight_fraction_leaf': 0.0001083534852117109, 'warm_start': False}. Best is trial 103 with value: 0.47301349325337333.\u001b[0m\n",
            "\u001b[32m[I 2021-06-07 14:34:03,056]\u001b[0m Trial 104 finished with value: 0.11281859070464767 and parameters: {'n_estimators': 117, 'criterion': 'gini', 'max_features': 'auto', 'min_samples_split': 4, 'min_samples_leaf': 5, 'min_weight_fraction_leaf': 0.011237956160077514, 'warm_start': False}. Best is trial 103 with value: 0.47301349325337333.\u001b[0m\n",
            "\u001b[32m[I 2021-06-07 14:34:04,245]\u001b[0m Trial 105 finished with value: 0.11281859070464767 and parameters: {'n_estimators': 131, 'criterion': 'gini', 'max_features': 'auto', 'min_samples_split': 4, 'min_samples_leaf': 5, 'min_weight_fraction_leaf': 0.02167745856334692, 'warm_start': False}. Best is trial 103 with value: 0.47301349325337333.\u001b[0m\n",
            "\u001b[32m[I 2021-06-07 14:34:05,220]\u001b[0m Trial 106 finished with value: 0.11309970014992504 and parameters: {'n_estimators': 106, 'criterion': 'gini', 'max_features': 'auto', 'min_samples_split': 4, 'min_samples_leaf': 5, 'min_weight_fraction_leaf': 0.005712792930871707, 'warm_start': False}. Best is trial 103 with value: 0.47301349325337333.\u001b[0m\n",
            "\u001b[32m[I 2021-06-07 14:34:06,323]\u001b[0m Trial 107 finished with value: 0.11281859070464767 and parameters: {'n_estimators': 122, 'criterion': 'gini', 'max_features': 'auto', 'min_samples_split': 4, 'min_samples_leaf': 5, 'min_weight_fraction_leaf': 0.03058942936562133, 'warm_start': True}. Best is trial 103 with value: 0.47301349325337333.\u001b[0m\n",
            "\u001b[32m[I 2021-06-07 14:34:07,339]\u001b[0m Trial 108 finished with value: 0.11281859070464767 and parameters: {'n_estimators': 115, 'criterion': 'gini', 'max_features': 'auto', 'min_samples_split': 4, 'min_samples_leaf': 5, 'min_weight_fraction_leaf': 0.0385695596468647, 'warm_start': False}. Best is trial 103 with value: 0.47301349325337333.\u001b[0m\n",
            "\u001b[32m[I 2021-06-07 14:34:08,485]\u001b[0m Trial 109 finished with value: 0.11281859070464767 and parameters: {'n_estimators': 129, 'criterion': 'gini', 'max_features': 'auto', 'min_samples_split': 5, 'min_samples_leaf': 6, 'min_weight_fraction_leaf': 0.012795360194948455, 'warm_start': False}. Best is trial 103 with value: 0.47301349325337333.\u001b[0m\n",
            "\u001b[32m[I 2021-06-07 14:34:09,475]\u001b[0m Trial 110 finished with value: 0.11281859070464767 and parameters: {'n_estimators': 109, 'criterion': 'gini', 'max_features': 'auto', 'min_samples_split': 3, 'min_samples_leaf': 6, 'min_weight_fraction_leaf': 0.023508658645824437, 'warm_start': False}. Best is trial 103 with value: 0.47301349325337333.\u001b[0m\n",
            "\u001b[32m[I 2021-06-07 14:34:10,606]\u001b[0m Trial 111 finished with value: 0.119284107946027 and parameters: {'n_estimators': 124, 'criterion': 'gini', 'max_features': 'auto', 'min_samples_split': 4, 'min_samples_leaf': 6, 'min_weight_fraction_leaf': 0.005116334769514955, 'warm_start': False}. Best is trial 103 with value: 0.47301349325337333.\u001b[0m\n",
            "\u001b[32m[I 2021-06-07 14:34:25,896]\u001b[0m Trial 112 finished with value: 0.4566154422788606 and parameters: {'n_estimators': 119, 'criterion': 'gini', 'max_features': 'auto', 'min_samples_split': 4, 'min_samples_leaf': 6, 'min_weight_fraction_leaf': 0.0003453136263373505, 'warm_start': False}. Best is trial 103 with value: 0.47301349325337333.\u001b[0m\n",
            "\u001b[32m[I 2021-06-07 14:34:26,982]\u001b[0m Trial 113 finished with value: 0.11281859070464767 and parameters: {'n_estimators': 120, 'criterion': 'gini', 'max_features': 'auto', 'min_samples_split': 4, 'min_samples_leaf': 6, 'min_weight_fraction_leaf': 0.014633413647832518, 'warm_start': False}. Best is trial 103 with value: 0.47301349325337333.\u001b[0m\n",
            "\u001b[32m[I 2021-06-07 14:34:33,375]\u001b[0m Trial 114 finished with value: 0.3931784107946027 and parameters: {'n_estimators': 104, 'criterion': 'gini', 'max_features': 'auto', 'min_samples_split': 4, 'min_samples_leaf': 6, 'min_weight_fraction_leaf': 0.0008593381275644645, 'warm_start': False}. Best is trial 103 with value: 0.47301349325337333.\u001b[0m\n",
            "\u001b[32m[I 2021-06-07 14:34:34,421]\u001b[0m Trial 115 finished with value: 0.11281859070464767 and parameters: {'n_estimators': 119, 'criterion': 'gini', 'max_features': 'auto', 'min_samples_split': 4, 'min_samples_leaf': 6, 'min_weight_fraction_leaf': 0.007509088729753295, 'warm_start': False}. Best is trial 103 with value: 0.47301349325337333.\u001b[0m\n",
            "\u001b[32m[I 2021-06-07 14:34:35,841]\u001b[0m Trial 116 finished with value: 0.11281859070464767 and parameters: {'n_estimators': 163, 'criterion': 'gini', 'max_features': 'auto', 'min_samples_split': 4, 'min_samples_leaf': 6, 'min_weight_fraction_leaf': 0.019801675281044782, 'warm_start': False}. Best is trial 103 with value: 0.47301349325337333.\u001b[0m\n",
            "\u001b[32m[I 2021-06-07 14:35:01,923]\u001b[0m Trial 117 finished with value: 0.4732008995502249 and parameters: {'n_estimators': 132, 'criterion': 'gini', 'max_features': 'auto', 'min_samples_split': 4, 'min_samples_leaf': 5, 'min_weight_fraction_leaf': 5.094632997749962e-05, 'warm_start': False}. Best is trial 117 with value: 0.4732008995502249.\u001b[0m\n",
            "\u001b[32m[I 2021-06-07 14:35:28,163]\u001b[0m Trial 118 finished with value: 0.47395052473763116 and parameters: {'n_estimators': 140, 'criterion': 'gini', 'max_features': 'auto', 'min_samples_split': 4, 'min_samples_leaf': 5, 'min_weight_fraction_leaf': 0.00016855540983353007, 'warm_start': False}. Best is trial 118 with value: 0.47395052473763116.\u001b[0m\n",
            "\u001b[32m[I 2021-06-07 14:35:29,309]\u001b[0m Trial 119 finished with value: 0.11281859070464767 and parameters: {'n_estimators': 132, 'criterion': 'gini', 'max_features': 'auto', 'min_samples_split': 4, 'min_samples_leaf': 5, 'min_weight_fraction_leaf': 0.011641778968809946, 'warm_start': False}. Best is trial 118 with value: 0.47395052473763116.\u001b[0m\n",
            "\u001b[32m[I 2021-06-07 14:35:30,601]\u001b[0m Trial 120 finished with value: 0.11328710644677661 and parameters: {'n_estimators': 146, 'criterion': 'gini', 'max_features': 'auto', 'min_samples_split': 5, 'min_samples_leaf': 5, 'min_weight_fraction_leaf': 0.006167229240037211, 'warm_start': False}. Best is trial 118 with value: 0.47395052473763116.\u001b[0m\n",
            "\u001b[32m[I 2021-06-07 14:35:31,910]\u001b[0m Trial 121 finished with value: 0.11281859070464767 and parameters: {'n_estimators': 152, 'criterion': 'gini', 'max_features': 'auto', 'min_samples_split': 4, 'min_samples_leaf': 5, 'min_weight_fraction_leaf': 0.015303874370275286, 'warm_start': False}. Best is trial 118 with value: 0.47395052473763116.\u001b[0m\n",
            "\u001b[32m[I 2021-06-07 14:35:45,719]\u001b[0m Trial 122 finished with value: 0.4412481259370315 and parameters: {'n_estimators': 141, 'criterion': 'gini', 'max_features': 'auto', 'min_samples_split': 4, 'min_samples_leaf': 5, 'min_weight_fraction_leaf': 0.0005048718473544791, 'warm_start': False}. Best is trial 118 with value: 0.47395052473763116.\u001b[0m\n",
            "\u001b[32m[I 2021-06-07 14:35:53,514]\u001b[0m Trial 123 finished with value: 0.39186656671664166 and parameters: {'n_estimators': 129, 'criterion': 'gini', 'max_features': 'auto', 'min_samples_split': 4, 'min_samples_leaf': 5, 'min_weight_fraction_leaf': 0.0008817424886870845, 'warm_start': False}. Best is trial 118 with value: 0.47395052473763116.\u001b[0m\n",
            "\u001b[32m[I 2021-06-07 14:35:54,703]\u001b[0m Trial 124 finished with value: 0.11281859070464767 and parameters: {'n_estimators': 137, 'criterion': 'gini', 'max_features': 'auto', 'min_samples_split': 4, 'min_samples_leaf': 5, 'min_weight_fraction_leaf': 0.00921627769392348, 'warm_start': False}. Best is trial 118 with value: 0.47395052473763116.\u001b[0m\n",
            "\u001b[32m[I 2021-06-07 14:36:27,682]\u001b[0m Trial 125 finished with value: 0.48200899550224885 and parameters: {'n_estimators': 143, 'criterion': 'gini', 'max_features': 'auto', 'min_samples_split': 4, 'min_samples_leaf': 4, 'min_weight_fraction_leaf': 4.1701080786763075e-05, 'warm_start': False}. Best is trial 125 with value: 0.48200899550224885.\u001b[0m\n",
            "\u001b[32m[I 2021-06-07 14:36:28,673]\u001b[0m Trial 126 finished with value: 0.11281859070464767 and parameters: {'n_estimators': 113, 'criterion': 'gini', 'max_features': 'auto', 'min_samples_split': 4, 'min_samples_leaf': 4, 'min_weight_fraction_leaf': 0.025429092818419593, 'warm_start': False}. Best is trial 125 with value: 0.48200899550224885.\u001b[0m\n",
            "\u001b[32m[I 2021-06-07 14:36:29,681]\u001b[0m Trial 127 finished with value: 0.11281859070464767 and parameters: {'n_estimators': 116, 'criterion': 'gini', 'max_features': 'auto', 'min_samples_split': 3, 'min_samples_leaf': 4, 'min_weight_fraction_leaf': 0.017268244158400812, 'warm_start': False}. Best is trial 125 with value: 0.48200899550224885.\u001b[0m\n",
            "\u001b[32m[I 2021-06-07 14:36:54,683]\u001b[0m Trial 128 finished with value: 0.4417166416791604 and parameters: {'n_estimators': 133, 'criterion': 'entropy', 'max_features': 'auto', 'min_samples_split': 4, 'min_samples_leaf': 4, 'min_weight_fraction_leaf': 0.00036088791717097616, 'warm_start': False}. Best is trial 125 with value: 0.48200899550224885.\u001b[0m\n",
            "\u001b[32m[I 2021-06-07 14:36:56,217]\u001b[0m Trial 129 finished with value: 0.11281859070464767 and parameters: {'n_estimators': 177, 'criterion': 'gini', 'max_features': 'auto', 'min_samples_split': 4, 'min_samples_leaf': 4, 'min_weight_fraction_leaf': 0.007196151584694018, 'warm_start': False}. Best is trial 125 with value: 0.48200899550224885.\u001b[0m\n",
            "\u001b[32m[I 2021-06-07 14:36:57,340]\u001b[0m Trial 130 finished with value: 0.11281859070464767 and parameters: {'n_estimators': 128, 'criterion': 'gini', 'max_features': 'auto', 'min_samples_split': 4, 'min_samples_leaf': 5, 'min_weight_fraction_leaf': 0.01161424903761021, 'warm_start': False}. Best is trial 125 with value: 0.48200899550224885.\u001b[0m\n",
            "\u001b[32m[I 2021-06-07 14:36:58,574]\u001b[0m Trial 131 finished with value: 0.11394302848575712 and parameters: {'n_estimators': 134, 'criterion': 'entropy', 'max_features': 'auto', 'min_samples_split': 4, 'min_samples_leaf': 4, 'min_weight_fraction_leaf': 0.004957291384541002, 'warm_start': False}. Best is trial 125 with value: 0.48200899550224885.\u001b[0m\n",
            "\u001b[32m[I 2021-06-07 14:37:41,639]\u001b[0m Trial 132 finished with value: 0.45670914542728636 and parameters: {'n_estimators': 145, 'criterion': 'entropy', 'max_features': 'auto', 'min_samples_split': 4, 'min_samples_leaf': 4, 'min_weight_fraction_leaf': 0.00015720571004122747, 'warm_start': False}. Best is trial 125 with value: 0.48200899550224885.\u001b[0m\n",
            "\u001b[32m[I 2021-06-07 14:38:07,319]\u001b[0m Trial 133 finished with value: 0.4375 and parameters: {'n_estimators': 144, 'criterion': 'entropy', 'max_features': 'auto', 'min_samples_split': 4, 'min_samples_leaf': 4, 'min_weight_fraction_leaf': 0.0003966802352148881, 'warm_start': False}. Best is trial 125 with value: 0.48200899550224885.\u001b[0m\n",
            "\u001b[32m[I 2021-06-07 14:38:31,117]\u001b[0m Trial 134 finished with value: 0.440592203898051 and parameters: {'n_estimators': 123, 'criterion': 'entropy', 'max_features': 'auto', 'min_samples_split': 4, 'min_samples_leaf': 4, 'min_weight_fraction_leaf': 0.00033847301021151354, 'warm_start': False}. Best is trial 125 with value: 0.48200899550224885.\u001b[0m\n",
            "\u001b[32m[I 2021-06-07 14:38:32,465]\u001b[0m Trial 135 finished with value: 0.11281859070464767 and parameters: {'n_estimators': 156, 'criterion': 'entropy', 'max_features': 'auto', 'min_samples_split': 4, 'min_samples_leaf': 4, 'min_weight_fraction_leaf': 0.019391531910975836, 'warm_start': False}. Best is trial 125 with value: 0.48200899550224885.\u001b[0m\n",
            "\u001b[32m[I 2021-06-07 14:38:33,767]\u001b[0m Trial 136 finished with value: 0.11281859070464767 and parameters: {'n_estimators': 152, 'criterion': 'entropy', 'max_features': 'log2', 'min_samples_split': 4, 'min_samples_leaf': 5, 'min_weight_fraction_leaf': 0.009247978828438145, 'warm_start': False}. Best is trial 125 with value: 0.48200899550224885.\u001b[0m\n",
            "\u001b[32m[I 2021-06-07 14:38:34,967]\u001b[0m Trial 137 finished with value: 0.11281859070464767 and parameters: {'n_estimators': 137, 'criterion': 'gini', 'max_features': 'sqrt', 'min_samples_split': 4, 'min_samples_leaf': 4, 'min_weight_fraction_leaf': 0.03069890608047709, 'warm_start': False}. Best is trial 125 with value: 0.48200899550224885.\u001b[0m\n",
            "\u001b[32m[I 2021-06-07 14:38:35,938]\u001b[0m Trial 138 finished with value: 0.11281859070464767 and parameters: {'n_estimators': 110, 'criterion': 'gini', 'max_features': 'auto', 'min_samples_split': 6, 'min_samples_leaf': 5, 'min_weight_fraction_leaf': 0.013768370480326544, 'warm_start': False}. Best is trial 125 with value: 0.48200899550224885.\u001b[0m\n",
            "\u001b[32m[I 2021-06-07 14:38:55,161]\u001b[0m Trial 139 finished with value: 0.46448650674662667 and parameters: {'n_estimators': 120, 'criterion': 'gini', 'max_features': 'auto', 'min_samples_split': 4, 'min_samples_leaf': 7, 'min_weight_fraction_leaf': 0.00018032730095259535, 'warm_start': True}. Best is trial 125 with value: 0.48200899550224885.\u001b[0m\n",
            "\u001b[32m[I 2021-06-07 14:38:56,670]\u001b[0m Trial 140 finished with value: 0.11291229385307347 and parameters: {'n_estimators': 167, 'criterion': 'entropy', 'max_features': 'auto', 'min_samples_split': 4, 'min_samples_leaf': 7, 'min_weight_fraction_leaf': 0.005543767896416126, 'warm_start': True}. Best is trial 125 with value: 0.48200899550224885.\u001b[0m\n",
            "\u001b[32m[I 2021-06-07 14:39:03,475]\u001b[0m Trial 141 finished with value: 0.3896176911544228 and parameters: {'n_estimators': 118, 'criterion': 'gini', 'max_features': 'auto', 'min_samples_split': 4, 'min_samples_leaf': 7, 'min_weight_fraction_leaf': 0.0009041492629675397, 'warm_start': True}. Best is trial 125 with value: 0.48200899550224885.\u001b[0m\n",
            "\u001b[32m[I 2021-06-07 14:39:04,610]\u001b[0m Trial 142 finished with value: 0.11347451274362819 and parameters: {'n_estimators': 126, 'criterion': 'gini', 'max_features': 'auto', 'min_samples_split': 4, 'min_samples_leaf': 7, 'min_weight_fraction_leaf': 0.006490618205332746, 'warm_start': True}. Best is trial 125 with value: 0.48200899550224885.\u001b[0m\n",
            "\u001b[32m[I 2021-06-07 14:39:22,558]\u001b[0m Trial 143 finished with value: 0.46261244377811095 and parameters: {'n_estimators': 121, 'criterion': 'gini', 'max_features': 'auto', 'min_samples_split': 4, 'min_samples_leaf': 7, 'min_weight_fraction_leaf': 0.00027604249800190506, 'warm_start': True}. Best is trial 125 with value: 0.48200899550224885.\u001b[0m\n",
            "\u001b[32m[I 2021-06-07 14:39:23,570]\u001b[0m Trial 144 finished with value: 0.11281859070464767 and parameters: {'n_estimators': 115, 'criterion': 'gini', 'max_features': 'auto', 'min_samples_split': 4, 'min_samples_leaf': 7, 'min_weight_fraction_leaf': 0.012540132768974829, 'warm_start': True}. Best is trial 125 with value: 0.48200899550224885.\u001b[0m\n",
            "\u001b[32m[I 2021-06-07 14:39:42,529]\u001b[0m Trial 145 finished with value: 0.4627061469265367 and parameters: {'n_estimators': 119, 'criterion': 'gini', 'max_features': 'auto', 'min_samples_split': 4, 'min_samples_leaf': 7, 'min_weight_fraction_leaf': 0.0001408584015508844, 'warm_start': True}. Best is trial 125 with value: 0.48200899550224885.\u001b[0m\n",
            "\u001b[32m[I 2021-06-07 14:39:43,573]\u001b[0m Trial 146 finished with value: 0.11281859070464767 and parameters: {'n_estimators': 121, 'criterion': 'gini', 'max_features': 'auto', 'min_samples_split': 4, 'min_samples_leaf': 7, 'min_weight_fraction_leaf': 0.019574122433943915, 'warm_start': True}. Best is trial 125 with value: 0.48200899550224885.\u001b[0m\n",
            "\u001b[32m[I 2021-06-07 14:39:44,715]\u001b[0m Trial 147 finished with value: 0.11506746626686656 and parameters: {'n_estimators': 129, 'criterion': 'gini', 'max_features': 'auto', 'min_samples_split': 4, 'min_samples_leaf': 7, 'min_weight_fraction_leaf': 0.00584525325014464, 'warm_start': True}. Best is trial 125 with value: 0.48200899550224885.\u001b[0m\n",
            "\u001b[32m[I 2021-06-07 14:39:45,781]\u001b[0m Trial 148 finished with value: 0.11281859070464767 and parameters: {'n_estimators': 123, 'criterion': 'gini', 'max_features': 'auto', 'min_samples_split': 4, 'min_samples_leaf': 7, 'min_weight_fraction_leaf': 0.12233580781964444, 'warm_start': True}. Best is trial 125 with value: 0.48200899550224885.\u001b[0m\n",
            "\u001b[32m[I 2021-06-07 14:39:58,287]\u001b[0m Trial 149 finished with value: 0.444527736131934 and parameters: {'n_estimators': 120, 'criterion': 'gini', 'max_features': 'auto', 'min_samples_split': 4, 'min_samples_leaf': 7, 'min_weight_fraction_leaf': 0.0004605033918392728, 'warm_start': True}. Best is trial 125 with value: 0.48200899550224885.\u001b[0m\n",
            "\u001b[32m[I 2021-06-07 14:39:59,554]\u001b[0m Trial 150 finished with value: 0.11281859070464767 and parameters: {'n_estimators': 146, 'criterion': 'gini', 'max_features': 'auto', 'min_samples_split': 4, 'min_samples_leaf': 7, 'min_weight_fraction_leaf': 0.02398364149526369, 'warm_start': True}. Best is trial 125 with value: 0.48200899550224885.\u001b[0m\n",
            "\u001b[32m[I 2021-06-07 14:40:00,537]\u001b[0m Trial 151 finished with value: 0.11281859070464767 and parameters: {'n_estimators': 111, 'criterion': 'gini', 'max_features': 'auto', 'min_samples_split': 4, 'min_samples_leaf': 7, 'min_weight_fraction_leaf': 0.010668181586004645, 'warm_start': True}. Best is trial 125 with value: 0.48200899550224885.\u001b[0m\n",
            "\u001b[32m[I 2021-06-07 14:40:07,716]\u001b[0m Trial 152 finished with value: 0.39205397301349326 and parameters: {'n_estimators': 116, 'criterion': 'gini', 'max_features': 'auto', 'min_samples_split': 4, 'min_samples_leaf': 7, 'min_weight_fraction_leaf': 0.0008435579390464456, 'warm_start': True}. Best is trial 125 with value: 0.48200899550224885.\u001b[0m\n",
            "\u001b[32m[I 2021-06-07 14:40:08,658]\u001b[0m Trial 153 finished with value: 0.11281859070464767 and parameters: {'n_estimators': 106, 'criterion': 'gini', 'max_features': 'auto', 'min_samples_split': 4, 'min_samples_leaf': 7, 'min_weight_fraction_leaf': 0.015485329820966315, 'warm_start': True}. Best is trial 125 with value: 0.48200899550224885.\u001b[0m\n",
            "\u001b[32m[I 2021-06-07 14:40:09,699]\u001b[0m Trial 154 finished with value: 0.11384932533733133 and parameters: {'n_estimators': 113, 'criterion': 'gini', 'max_features': 'auto', 'min_samples_split': 4, 'min_samples_leaf': 7, 'min_weight_fraction_leaf': 0.0062584989438839176, 'warm_start': True}. Best is trial 125 with value: 0.48200899550224885.\u001b[0m\n",
            "\u001b[32m[I 2021-06-07 14:40:25,835]\u001b[0m Trial 155 finished with value: 0.46261244377811095 and parameters: {'n_estimators': 103, 'criterion': 'gini', 'max_features': 'auto', 'min_samples_split': 4, 'min_samples_leaf': 7, 'min_weight_fraction_leaf': 0.0001189223346479322, 'warm_start': True}. Best is trial 125 with value: 0.48200899550224885.\u001b[0m\n",
            "\u001b[32m[I 2021-06-07 14:40:46,586]\u001b[0m Trial 156 finished with value: 0.46308095952023987 and parameters: {'n_estimators': 132, 'criterion': 'gini', 'max_features': 'auto', 'min_samples_split': 4, 'min_samples_leaf': 7, 'min_weight_fraction_leaf': 4.4958587772792296e-05, 'warm_start': True}. Best is trial 125 with value: 0.48200899550224885.\u001b[0m\n",
            "\u001b[32m[I 2021-06-07 14:40:47,789]\u001b[0m Trial 157 finished with value: 0.11281859070464767 and parameters: {'n_estimators': 137, 'criterion': 'gini', 'max_features': 'auto', 'min_samples_split': 4, 'min_samples_leaf': 7, 'min_weight_fraction_leaf': 0.010789648369615329, 'warm_start': True}. Best is trial 125 with value: 0.48200899550224885.\u001b[0m\n",
            "\u001b[32m[I 2021-06-07 14:41:01,891]\u001b[0m Trial 158 finished with value: 0.44302848575712145 and parameters: {'n_estimators': 142, 'criterion': 'gini', 'max_features': 'auto', 'min_samples_split': 4, 'min_samples_leaf': 7, 'min_weight_fraction_leaf': 0.00047860995264680374, 'warm_start': True}. Best is trial 125 with value: 0.48200899550224885.\u001b[0m\n",
            "\u001b[32m[I 2021-06-07 14:41:02,767]\u001b[0m Trial 159 finished with value: 0.11281859070464767 and parameters: {'n_estimators': 100, 'criterion': 'gini', 'max_features': 'auto', 'min_samples_split': 4, 'min_samples_leaf': 7, 'min_weight_fraction_leaf': 0.01833049858115636, 'warm_start': True}. Best is trial 125 with value: 0.48200899550224885.\u001b[0m\n",
            "\u001b[32m[I 2021-06-07 14:41:03,951]\u001b[0m Trial 160 finished with value: 0.11684782608695653 and parameters: {'n_estimators': 132, 'criterion': 'entropy', 'max_features': 'auto', 'min_samples_split': 4, 'min_samples_leaf': 7, 'min_weight_fraction_leaf': 0.0061081745972991035, 'warm_start': True}. Best is trial 125 with value: 0.48200899550224885.\u001b[0m\n",
            "\u001b[32m[I 2021-06-07 14:41:14,271]\u001b[0m Trial 161 finished with value: 0.43431409295352325 and parameters: {'n_estimators': 127, 'criterion': 'gini', 'max_features': 'auto', 'min_samples_split': 4, 'min_samples_leaf': 7, 'min_weight_fraction_leaf': 0.0006182223184572069, 'warm_start': True}. Best is trial 125 with value: 0.48200899550224885.\u001b[0m\n",
            "\u001b[32m[I 2021-06-07 14:41:15,334]\u001b[0m Trial 162 finished with value: 0.11328710644677661 and parameters: {'n_estimators': 119, 'criterion': 'gini', 'max_features': 'auto', 'min_samples_split': 4, 'min_samples_leaf': 7, 'min_weight_fraction_leaf': 0.006103044145787504, 'warm_start': True}. Best is trial 125 with value: 0.48200899550224885.\u001b[0m\n",
            "\u001b[32m[I 2021-06-07 14:41:29,915]\u001b[0m Trial 163 finished with value: 0.4516491754122939 and parameters: {'n_estimators': 123, 'criterion': 'gini', 'max_features': 'auto', 'min_samples_split': 4, 'min_samples_leaf': 7, 'min_weight_fraction_leaf': 0.0003963998773773537, 'warm_start': True}. Best is trial 125 with value: 0.48200899550224885.\u001b[0m\n",
            "\u001b[32m[I 2021-06-07 14:41:49,015]\u001b[0m Trial 164 finished with value: 0.46401799100449775 and parameters: {'n_estimators': 122, 'criterion': 'gini', 'max_features': 'auto', 'min_samples_split': 4, 'min_samples_leaf': 7, 'min_weight_fraction_leaf': 5.959559514707022e-05, 'warm_start': True}. Best is trial 125 with value: 0.48200899550224885.\u001b[0m\n",
            "\u001b[32m[I 2021-06-07 14:41:50,170]\u001b[0m Trial 165 finished with value: 0.11281859070464767 and parameters: {'n_estimators': 131, 'criterion': 'gini', 'max_features': 'auto', 'min_samples_split': 4, 'min_samples_leaf': 7, 'min_weight_fraction_leaf': 0.011995394766670706, 'warm_start': True}. Best is trial 125 with value: 0.48200899550224885.\u001b[0m\n",
            "\u001b[32m[I 2021-06-07 14:41:51,215]\u001b[0m Trial 166 finished with value: 0.11281859070464767 and parameters: {'n_estimators': 120, 'criterion': 'gini', 'max_features': 'log2', 'min_samples_split': 4, 'min_samples_leaf': 7, 'min_weight_fraction_leaf': 0.006722929534500996, 'warm_start': True}. Best is trial 125 with value: 0.48200899550224885.\u001b[0m\n",
            "\u001b[32m[I 2021-06-07 14:41:52,187]\u001b[0m Trial 167 finished with value: 0.11281859070464767 and parameters: {'n_estimators': 110, 'criterion': 'gini', 'max_features': 'auto', 'min_samples_split': 4, 'min_samples_leaf': 7, 'min_weight_fraction_leaf': 0.01533921305398714, 'warm_start': True}. Best is trial 125 with value: 0.48200899550224885.\u001b[0m\n",
            "\u001b[32m[I 2021-06-07 14:42:10,518]\u001b[0m Trial 168 finished with value: 0.4631746626686657 and parameters: {'n_estimators': 117, 'criterion': 'gini', 'max_features': 'auto', 'min_samples_split': 4, 'min_samples_leaf': 7, 'min_weight_fraction_leaf': 5.7914051002543905e-05, 'warm_start': True}. Best is trial 125 with value: 0.48200899550224885.\u001b[0m\n",
            "\u001b[32m[I 2021-06-07 14:42:32,212]\u001b[0m Trial 169 finished with value: 0.4492128935532234 and parameters: {'n_estimators': 193, 'criterion': 'gini', 'max_features': 'auto', 'min_samples_split': 4, 'min_samples_leaf': 7, 'min_weight_fraction_leaf': 0.00040263418483809575, 'warm_start': True}. Best is trial 125 with value: 0.48200899550224885.\u001b[0m\n",
            "\u001b[32m[I 2021-06-07 14:42:46,189]\u001b[0m Trial 170 finished with value: 0.45605322338830584 and parameters: {'n_estimators': 114, 'criterion': 'gini', 'max_features': 'auto', 'min_samples_split': 4, 'min_samples_leaf': 7, 'min_weight_fraction_leaf': 0.0003701064266543601, 'warm_start': True}. Best is trial 125 with value: 0.48200899550224885.\u001b[0m\n",
            "\u001b[32m[I 2021-06-07 14:42:47,204]\u001b[0m Trial 171 finished with value: 0.11281859070464767 and parameters: {'n_estimators': 114, 'criterion': 'gini', 'max_features': 'auto', 'min_samples_split': 4, 'min_samples_leaf': 7, 'min_weight_fraction_leaf': 0.17099768771028354, 'warm_start': True}. Best is trial 125 with value: 0.48200899550224885.\u001b[0m\n",
            "\u001b[32m[I 2021-06-07 14:43:08,858]\u001b[0m Trial 172 finished with value: 0.46242503748125935 and parameters: {'n_estimators': 139, 'criterion': 'gini', 'max_features': 'auto', 'min_samples_split': 4, 'min_samples_leaf': 7, 'min_weight_fraction_leaf': 7.954657756127122e-05, 'warm_start': True}. Best is trial 125 with value: 0.48200899550224885.\u001b[0m\n",
            "\u001b[32m[I 2021-06-07 14:43:09,991]\u001b[0m Trial 173 finished with value: 0.11281859070464767 and parameters: {'n_estimators': 128, 'criterion': 'gini', 'max_features': 'auto', 'min_samples_split': 4, 'min_samples_leaf': 7, 'min_weight_fraction_leaf': 0.010069255323256462, 'warm_start': True}. Best is trial 125 with value: 0.48200899550224885.\u001b[0m\n",
            "\u001b[32m[I 2021-06-07 14:43:19,294]\u001b[0m Trial 174 finished with value: 0.40151799100449775 and parameters: {'n_estimators': 139, 'criterion': 'gini', 'max_features': 'auto', 'min_samples_split': 4, 'min_samples_leaf': 7, 'min_weight_fraction_leaf': 0.0007948094699861, 'warm_start': True}. Best is trial 125 with value: 0.48200899550224885.\u001b[0m\n",
            "\u001b[32m[I 2021-06-07 14:43:39,742]\u001b[0m Trial 175 finished with value: 0.46523613193403296 and parameters: {'n_estimators': 133, 'criterion': 'gini', 'max_features': 'auto', 'min_samples_split': 4, 'min_samples_leaf': 7, 'min_weight_fraction_leaf': 0.0002296805715742799, 'warm_start': True}. Best is trial 125 with value: 0.48200899550224885.\u001b[0m\n",
            "\u001b[32m[I 2021-06-07 14:43:40,952]\u001b[0m Trial 176 finished with value: 0.11441154422788606 and parameters: {'n_estimators': 135, 'criterion': 'gini', 'max_features': 'auto', 'min_samples_split': 4, 'min_samples_leaf': 7, 'min_weight_fraction_leaf': 0.006587673572105087, 'warm_start': True}. Best is trial 125 with value: 0.48200899550224885.\u001b[0m\n",
            "\u001b[32m[I 2021-06-07 14:43:42,212]\u001b[0m Trial 177 finished with value: 0.11281859070464767 and parameters: {'n_estimators': 143, 'criterion': 'gini', 'max_features': 'auto', 'min_samples_split': 4, 'min_samples_leaf': 7, 'min_weight_fraction_leaf': 0.013684572324763753, 'warm_start': True}. Best is trial 125 with value: 0.48200899550224885.\u001b[0m\n",
            "\u001b[32m[I 2021-06-07 14:44:02,592]\u001b[0m Trial 178 finished with value: 0.46045727136431785 and parameters: {'n_estimators': 132, 'criterion': 'gini', 'max_features': 'auto', 'min_samples_split': 4, 'min_samples_leaf': 7, 'min_weight_fraction_leaf': 0.00021811653738531973, 'warm_start': True}. Best is trial 125 with value: 0.48200899550224885.\u001b[0m\n",
            "\u001b[32m[I 2021-06-07 14:44:26,061]\u001b[0m Trial 179 finished with value: 0.4627061469265367 and parameters: {'n_estimators': 149, 'criterion': 'gini', 'max_features': 'auto', 'min_samples_split': 4, 'min_samples_leaf': 7, 'min_weight_fraction_leaf': 7.314585467045963e-05, 'warm_start': True}. Best is trial 125 with value: 0.48200899550224885.\u001b[0m\n",
            "\u001b[32m[I 2021-06-07 14:44:27,392]\u001b[0m Trial 180 finished with value: 0.11281859070464767 and parameters: {'n_estimators': 149, 'criterion': 'gini', 'max_features': 'auto', 'min_samples_split': 4, 'min_samples_leaf': 7, 'min_weight_fraction_leaf': 0.006640242402211047, 'warm_start': True}. Best is trial 125 with value: 0.48200899550224885.\u001b[0m\n",
            "\u001b[32m[I 2021-06-07 14:44:45,395]\u001b[0m Trial 181 finished with value: 0.4527736131934033 and parameters: {'n_estimators': 146, 'criterion': 'gini', 'max_features': 'auto', 'min_samples_split': 4, 'min_samples_leaf': 7, 'min_weight_fraction_leaf': 0.0003634732865776657, 'warm_start': True}. Best is trial 125 with value: 0.48200899550224885.\u001b[0m\n",
            "\u001b[32m[I 2021-06-07 14:44:46,632]\u001b[0m Trial 182 finished with value: 0.11581709145427287 and parameters: {'n_estimators': 139, 'criterion': 'gini', 'max_features': 'auto', 'min_samples_split': 4, 'min_samples_leaf': 7, 'min_weight_fraction_leaf': 0.005318822531323613, 'warm_start': True}. Best is trial 125 with value: 0.48200899550224885.\u001b[0m\n",
            "\u001b[32m[I 2021-06-07 14:45:02,976]\u001b[0m Trial 183 finished with value: 0.45511619190404795 and parameters: {'n_estimators': 134, 'criterion': 'gini', 'max_features': 'auto', 'min_samples_split': 4, 'min_samples_leaf': 7, 'min_weight_fraction_leaf': 0.0003580516752805542, 'warm_start': True}. Best is trial 125 with value: 0.48200899550224885.\u001b[0m\n",
            "\u001b[32m[I 2021-06-07 14:45:25,143]\u001b[0m Trial 184 finished with value: 0.46308095952023987 and parameters: {'n_estimators': 140, 'criterion': 'gini', 'max_features': 'auto', 'min_samples_split': 4, 'min_samples_leaf': 7, 'min_weight_fraction_leaf': 0.00019941258721283646, 'warm_start': True}. Best is trial 125 with value: 0.48200899550224885.\u001b[0m\n",
            "\u001b[32m[I 2021-06-07 14:45:26,371]\u001b[0m Trial 185 finished with value: 0.11281859070464767 and parameters: {'n_estimators': 139, 'criterion': 'gini', 'max_features': 'auto', 'min_samples_split': 4, 'min_samples_leaf': 7, 'min_weight_fraction_leaf': 0.011033853165937715, 'warm_start': True}. Best is trial 125 with value: 0.48200899550224885.\u001b[0m\n",
            "\u001b[32m[I 2021-06-07 14:45:27,611]\u001b[0m Trial 186 finished with value: 0.11281859070464767 and parameters: {'n_estimators': 142, 'criterion': 'gini', 'max_features': 'auto', 'min_samples_split': 4, 'min_samples_leaf': 7, 'min_weight_fraction_leaf': 0.018535154592723268, 'warm_start': True}. Best is trial 125 with value: 0.48200899550224885.\u001b[0m\n",
            "\u001b[32m[I 2021-06-07 14:45:47,653]\u001b[0m Trial 187 finished with value: 0.4584895052473763 and parameters: {'n_estimators': 150, 'criterion': 'gini', 'max_features': 'auto', 'min_samples_split': 4, 'min_samples_leaf': 7, 'min_weight_fraction_leaf': 0.00031959845033158456, 'warm_start': True}. Best is trial 125 with value: 0.48200899550224885.\u001b[0m\n",
            "\u001b[32m[I 2021-06-07 14:45:49,049]\u001b[0m Trial 188 finished with value: 0.11281859070464767 and parameters: {'n_estimators': 155, 'criterion': 'gini', 'max_features': 'auto', 'min_samples_split': 4, 'min_samples_leaf': 7, 'min_weight_fraction_leaf': 0.00726742186773309, 'warm_start': True}. Best is trial 125 with value: 0.48200899550224885.\u001b[0m\n",
            "\u001b[32m[I 2021-06-07 14:45:50,379]\u001b[0m Trial 189 finished with value: 0.11281859070464767 and parameters: {'n_estimators': 151, 'criterion': 'gini', 'max_features': 'auto', 'min_samples_split': 4, 'min_samples_leaf': 7, 'min_weight_fraction_leaf': 0.013521090518302555, 'warm_start': True}. Best is trial 125 with value: 0.48200899550224885.\u001b[0m\n",
            "\u001b[32m[I 2021-06-07 14:46:08,627]\u001b[0m Trial 190 finished with value: 0.45680284857571213 and parameters: {'n_estimators': 136, 'criterion': 'gini', 'max_features': 'auto', 'min_samples_split': 4, 'min_samples_leaf': 7, 'min_weight_fraction_leaf': 0.0003232185647543834, 'warm_start': True}. Best is trial 125 with value: 0.48200899550224885.\u001b[0m\n",
            "\u001b[32m[I 2021-06-07 14:46:22,886]\u001b[0m Trial 191 finished with value: 0.444527736131934 and parameters: {'n_estimators': 136, 'criterion': 'gini', 'max_features': 'auto', 'min_samples_split': 4, 'min_samples_leaf': 7, 'min_weight_fraction_leaf': 0.0004683741590824801, 'warm_start': True}. Best is trial 125 with value: 0.48200899550224885.\u001b[0m\n",
            "\u001b[32m[I 2021-06-07 14:46:24,212]\u001b[0m Trial 192 finished with value: 0.11759745127436282 and parameters: {'n_estimators': 148, 'criterion': 'gini', 'max_features': 'auto', 'min_samples_split': 4, 'min_samples_leaf': 7, 'min_weight_fraction_leaf': 0.006171281767351491, 'warm_start': True}. Best is trial 125 with value: 0.48200899550224885.\u001b[0m\n",
            "\u001b[32m[I 2021-06-07 14:46:45,643]\u001b[0m Trial 193 finished with value: 0.4606446776611694 and parameters: {'n_estimators': 133, 'criterion': 'gini', 'max_features': 'auto', 'min_samples_split': 4, 'min_samples_leaf': 7, 'min_weight_fraction_leaf': 4.0677907744480505e-05, 'warm_start': True}. Best is trial 125 with value: 0.48200899550224885.\u001b[0m\n",
            "\u001b[32m[I 2021-06-07 14:47:06,234]\u001b[0m Trial 194 finished with value: 0.4627061469265367 and parameters: {'n_estimators': 131, 'criterion': 'gini', 'max_features': 'auto', 'min_samples_split': 4, 'min_samples_leaf': 7, 'min_weight_fraction_leaf': 5.509473582044854e-05, 'warm_start': True}. Best is trial 125 with value: 0.48200899550224885.\u001b[0m\n",
            "\u001b[32m[I 2021-06-07 14:47:07,405]\u001b[0m Trial 195 finished with value: 0.11281859070464767 and parameters: {'n_estimators': 131, 'criterion': 'gini', 'max_features': 'auto', 'min_samples_split': 4, 'min_samples_leaf': 7, 'min_weight_fraction_leaf': 0.009501141489414555, 'warm_start': True}. Best is trial 125 with value: 0.48200899550224885.\u001b[0m\n",
            "\u001b[32m[I 2021-06-07 14:47:08,615]\u001b[0m Trial 196 finished with value: 0.1147863568215892 and parameters: {'n_estimators': 131, 'criterion': 'gini', 'max_features': 'auto', 'min_samples_split': 4, 'min_samples_leaf': 7, 'min_weight_fraction_leaf': 0.004900786978582371, 'warm_start': True}. Best is trial 125 with value: 0.48200899550224885.\u001b[0m\n",
            "\u001b[32m[I 2021-06-07 14:47:25,274]\u001b[0m Trial 197 finished with value: 0.45839580209895053 and parameters: {'n_estimators': 128, 'criterion': 'gini', 'max_features': 'auto', 'min_samples_split': 4, 'min_samples_leaf': 7, 'min_weight_fraction_leaf': 0.0003311155164970126, 'warm_start': True}. Best is trial 125 with value: 0.48200899550224885.\u001b[0m\n",
            "\u001b[32m[I 2021-06-07 14:47:26,448]\u001b[0m Trial 198 finished with value: 0.11281859070464767 and parameters: {'n_estimators': 133, 'criterion': 'gini', 'max_features': 'auto', 'min_samples_split': 4, 'min_samples_leaf': 7, 'min_weight_fraction_leaf': 0.011640719468313718, 'warm_start': True}. Best is trial 125 with value: 0.48200899550224885.\u001b[0m\n",
            "\u001b[32m[I 2021-06-07 14:47:27,686]\u001b[0m Trial 199 finished with value: 0.11281859070464767 and parameters: {'n_estimators': 139, 'criterion': 'gini', 'max_features': 'auto', 'min_samples_split': 4, 'min_samples_leaf': 7, 'min_weight_fraction_leaf': 0.02284312018118093, 'warm_start': True}. Best is trial 125 with value: 0.48200899550224885.\u001b[0m\n",
            "\u001b[32m[I 2021-06-07 14:47:28,810]\u001b[0m Trial 200 finished with value: 0.11328710644677661 and parameters: {'n_estimators': 124, 'criterion': 'gini', 'max_features': 'auto', 'min_samples_split': 4, 'min_samples_leaf': 7, 'min_weight_fraction_leaf': 0.005807550500159921, 'warm_start': True}. Best is trial 125 with value: 0.48200899550224885.\u001b[0m\n",
            "\u001b[32m[I 2021-06-07 14:47:30,080]\u001b[0m Trial 201 finished with value: 0.11422413793103449 and parameters: {'n_estimators': 141, 'criterion': 'gini', 'max_features': 'auto', 'min_samples_split': 4, 'min_samples_leaf': 7, 'min_weight_fraction_leaf': 0.00543829443617642, 'warm_start': True}. Best is trial 125 with value: 0.48200899550224885.\u001b[0m\n",
            "\u001b[32m[I 2021-06-07 14:47:38,929]\u001b[0m Trial 202 finished with value: 0.3867128935532234 and parameters: {'n_estimators': 160, 'criterion': 'gini', 'max_features': 'auto', 'min_samples_split': 4, 'min_samples_leaf': 7, 'min_weight_fraction_leaf': 0.0009332238162960907, 'warm_start': True}. Best is trial 125 with value: 0.48200899550224885.\u001b[0m\n",
            "\u001b[32m[I 2021-06-07 14:47:40,116]\u001b[0m Trial 203 finished with value: 0.11281859070464767 and parameters: {'n_estimators': 135, 'criterion': 'gini', 'max_features': 'auto', 'min_samples_split': 4, 'min_samples_leaf': 7, 'min_weight_fraction_leaf': 0.011317995710791045, 'warm_start': True}. Best is trial 125 with value: 0.48200899550224885.\u001b[0m\n",
            "\u001b[32m[I 2021-06-07 14:47:46,361]\u001b[0m Trial 204 finished with value: 0.378092203898051 and parameters: {'n_estimators': 127, 'criterion': 'gini', 'max_features': 'auto', 'min_samples_split': 4, 'min_samples_leaf': 7, 'min_weight_fraction_leaf': 0.001015574744621881, 'warm_start': True}. Best is trial 125 with value: 0.48200899550224885.\u001b[0m\n",
            "\u001b[32m[I 2021-06-07 14:47:47,527]\u001b[0m Trial 205 finished with value: 0.11281859070464767 and parameters: {'n_estimators': 130, 'criterion': 'gini', 'max_features': 'auto', 'min_samples_split': 4, 'min_samples_leaf': 7, 'min_weight_fraction_leaf': 0.016648255355135453, 'warm_start': True}. Best is trial 125 with value: 0.48200899550224885.\u001b[0m\n",
            "\u001b[32m[I 2021-06-07 14:47:48,797]\u001b[0m Trial 206 finished with value: 0.11281859070464767 and parameters: {'n_estimators': 144, 'criterion': 'gini', 'max_features': 'auto', 'min_samples_split': 4, 'min_samples_leaf': 7, 'min_weight_fraction_leaf': 0.1941945073086412, 'warm_start': True}. Best is trial 125 with value: 0.48200899550224885.\u001b[0m\n",
            "\u001b[32m[I 2021-06-07 14:48:09,831]\u001b[0m Trial 207 finished with value: 0.46308095952023987 and parameters: {'n_estimators': 134, 'criterion': 'gini', 'max_features': 'auto', 'min_samples_split': 4, 'min_samples_leaf': 7, 'min_weight_fraction_leaf': 0.00020750325680546274, 'warm_start': True}. Best is trial 125 with value: 0.48200899550224885.\u001b[0m\n",
            "\u001b[32m[I 2021-06-07 14:48:11,018]\u001b[0m Trial 208 finished with value: 0.11469265367316342 and parameters: {'n_estimators': 133, 'criterion': 'gini', 'max_features': 'auto', 'min_samples_split': 4, 'min_samples_leaf': 7, 'min_weight_fraction_leaf': 0.006112739850689857, 'warm_start': True}. Best is trial 125 with value: 0.48200899550224885.\u001b[0m\n",
            "\u001b[32m[I 2021-06-07 14:48:21,160]\u001b[0m Trial 209 finished with value: 0.4362818590704648 and parameters: {'n_estimators': 125, 'criterion': 'gini', 'max_features': 'auto', 'min_samples_split': 4, 'min_samples_leaf': 7, 'min_weight_fraction_leaf': 0.0006164370126432975, 'warm_start': True}. Best is trial 125 with value: 0.48200899550224885.\u001b[0m\n",
            "\u001b[32m[I 2021-06-07 14:48:22,361]\u001b[0m Trial 210 finished with value: 0.11281859070464767 and parameters: {'n_estimators': 136, 'criterion': 'gini', 'max_features': 'auto', 'min_samples_split': 4, 'min_samples_leaf': 7, 'min_weight_fraction_leaf': 0.148575407130892, 'warm_start': True}. Best is trial 125 with value: 0.48200899550224885.\u001b[0m\n",
            "\u001b[32m[I 2021-06-07 14:48:44,259]\u001b[0m Trial 211 finished with value: 0.46242503748125935 and parameters: {'n_estimators': 139, 'criterion': 'gini', 'max_features': 'auto', 'min_samples_split': 4, 'min_samples_leaf': 7, 'min_weight_fraction_leaf': 0.00013365628485543748, 'warm_start': True}. Best is trial 125 with value: 0.48200899550224885.\u001b[0m\n",
            "\u001b[32m[I 2021-06-07 14:49:03,035]\u001b[0m Trial 212 finished with value: 0.45905172413793105 and parameters: {'n_estimators': 139, 'criterion': 'gini', 'max_features': 'auto', 'min_samples_split': 4, 'min_samples_leaf': 7, 'min_weight_fraction_leaf': 0.0003243831091706777, 'warm_start': True}. Best is trial 125 with value: 0.48200899550224885.\u001b[0m\n",
            "\u001b[32m[I 2021-06-07 14:49:23,892]\u001b[0m Trial 213 finished with value: 0.4637368815592204 and parameters: {'n_estimators': 134, 'criterion': 'gini', 'max_features': 'auto', 'min_samples_split': 4, 'min_samples_leaf': 7, 'min_weight_fraction_leaf': 0.00016741003967032242, 'warm_start': True}. Best is trial 125 with value: 0.48200899550224885.\u001b[0m\n",
            "\u001b[32m[I 2021-06-07 14:49:25,158]\u001b[0m Trial 214 finished with value: 0.11281859070464767 and parameters: {'n_estimators': 142, 'criterion': 'gini', 'max_features': 'auto', 'min_samples_split': 4, 'min_samples_leaf': 7, 'min_weight_fraction_leaf': 0.009830836755660613, 'warm_start': True}. Best is trial 125 with value: 0.48200899550224885.\u001b[0m\n",
            "\u001b[32m[I 2021-06-07 14:49:46,685]\u001b[0m Trial 215 finished with value: 0.46383058470764615 and parameters: {'n_estimators': 137, 'criterion': 'gini', 'max_features': 'auto', 'min_samples_split': 4, 'min_samples_leaf': 7, 'min_weight_fraction_leaf': 0.00014717755117514425, 'warm_start': True}. Best is trial 125 with value: 0.48200899550224885.\u001b[0m\n",
            "\u001b[32m[I 2021-06-07 14:49:47,898]\u001b[0m Trial 216 finished with value: 0.11750374812593703 and parameters: {'n_estimators': 138, 'criterion': 'gini', 'max_features': 'auto', 'min_samples_split': 4, 'min_samples_leaf': 7, 'min_weight_fraction_leaf': 0.005825663868689197, 'warm_start': True}. Best is trial 125 with value: 0.48200899550224885.\u001b[0m\n",
            "\u001b[32m[I 2021-06-07 14:49:48,971]\u001b[0m Trial 217 finished with value: 0.11281859070464767 and parameters: {'n_estimators': 122, 'criterion': 'gini', 'max_features': 'auto', 'min_samples_split': 4, 'min_samples_leaf': 7, 'min_weight_fraction_leaf': 0.011843202731347239, 'warm_start': True}. Best is trial 125 with value: 0.48200899550224885.\u001b[0m\n",
            "\u001b[32m[I 2021-06-07 14:49:50,102]\u001b[0m Trial 218 finished with value: 0.11281859070464767 and parameters: {'n_estimators': 128, 'criterion': 'gini', 'max_features': 'auto', 'min_samples_split': 4, 'min_samples_leaf': 7, 'min_weight_fraction_leaf': 0.007973967896721395, 'warm_start': True}. Best is trial 125 with value: 0.48200899550224885.\u001b[0m\n",
            "\u001b[32m[I 2021-06-07 14:49:51,342]\u001b[0m Trial 219 finished with value: 0.12087706146926537 and parameters: {'n_estimators': 136, 'criterion': 'gini', 'max_features': 'auto', 'min_samples_split': 4, 'min_samples_leaf': 7, 'min_weight_fraction_leaf': 0.00491451098941682, 'warm_start': True}. Best is trial 125 with value: 0.48200899550224885.\u001b[0m\n",
            "\u001b[32m[I 2021-06-07 14:49:52,564]\u001b[0m Trial 220 finished with value: 0.11281859070464767 and parameters: {'n_estimators': 140, 'criterion': 'gini', 'max_features': 'auto', 'min_samples_split': 4, 'min_samples_leaf': 7, 'min_weight_fraction_leaf': 0.015920039605348206, 'warm_start': True}. Best is trial 125 with value: 0.48200899550224885.\u001b[0m\n",
            "\u001b[32m[I 2021-06-07 14:50:04,537]\u001b[0m Trial 221 finished with value: 0.4382496251874063 and parameters: {'n_estimators': 133, 'criterion': 'gini', 'max_features': 'auto', 'min_samples_split': 4, 'min_samples_leaf': 7, 'min_weight_fraction_leaf': 0.0005418018008235482, 'warm_start': True}. Best is trial 125 with value: 0.48200899550224885.\u001b[0m\n",
            "\u001b[32m[I 2021-06-07 14:50:24,945]\u001b[0m Trial 222 finished with value: 0.46383058470764615 and parameters: {'n_estimators': 130, 'criterion': 'gini', 'max_features': 'auto', 'min_samples_split': 4, 'min_samples_leaf': 7, 'min_weight_fraction_leaf': 5.174598993449633e-05, 'warm_start': True}. Best is trial 125 with value: 0.48200899550224885.\u001b[0m\n",
            "\u001b[32m[I 2021-06-07 14:50:26,132]\u001b[0m Trial 223 finished with value: 0.11787856071964017 and parameters: {'n_estimators': 130, 'criterion': 'gini', 'max_features': 'auto', 'min_samples_split': 4, 'min_samples_leaf': 7, 'min_weight_fraction_leaf': 0.005372935502692067, 'warm_start': True}. Best is trial 125 with value: 0.48200899550224885.\u001b[0m\n",
            "\u001b[32m[I 2021-06-07 14:50:33,973]\u001b[0m Trial 224 finished with value: 0.40292353823088456 and parameters: {'n_estimators': 118, 'criterion': 'gini', 'max_features': 'auto', 'min_samples_split': 4, 'min_samples_leaf': 7, 'min_weight_fraction_leaf': 0.000751205177016549, 'warm_start': True}. Best is trial 125 with value: 0.48200899550224885.\u001b[0m\n",
            "\u001b[32m[I 2021-06-07 14:50:49,928]\u001b[0m Trial 225 finished with value: 0.45436656671664166 and parameters: {'n_estimators': 125, 'criterion': 'gini', 'max_features': 'auto', 'min_samples_split': 4, 'min_samples_leaf': 7, 'min_weight_fraction_leaf': 0.00034928417486522294, 'warm_start': True}. Best is trial 125 with value: 0.48200899550224885.\u001b[0m\n",
            "\u001b[32m[I 2021-06-07 14:50:51,128]\u001b[0m Trial 226 finished with value: 0.11281859070464767 and parameters: {'n_estimators': 136, 'criterion': 'gini', 'max_features': 'auto', 'min_samples_split': 4, 'min_samples_leaf': 7, 'min_weight_fraction_leaf': 0.24899235773514228, 'warm_start': True}. Best is trial 125 with value: 0.48200899550224885.\u001b[0m\n",
            "\u001b[32m[I 2021-06-07 14:50:52,408]\u001b[0m Trial 227 finished with value: 0.11281859070464767 and parameters: {'n_estimators': 143, 'criterion': 'gini', 'max_features': 'auto', 'min_samples_split': 4, 'min_samples_leaf': 7, 'min_weight_fraction_leaf': 0.010146074874062551, 'warm_start': True}. Best is trial 125 with value: 0.48200899550224885.\u001b[0m\n",
            "\u001b[32m[I 2021-06-07 14:50:53,495]\u001b[0m Trial 228 finished with value: 0.11281859070464767 and parameters: {'n_estimators': 121, 'criterion': 'gini', 'max_features': 'auto', 'min_samples_split': 4, 'min_samples_leaf': 7, 'min_weight_fraction_leaf': 0.005349787600584722, 'warm_start': True}. Best is trial 125 with value: 0.48200899550224885.\u001b[0m\n",
            "\u001b[32m[I 2021-06-07 14:51:13,691]\u001b[0m Trial 229 finished with value: 0.4620502248875562 and parameters: {'n_estimators': 129, 'criterion': 'gini', 'max_features': 'auto', 'min_samples_split': 4, 'min_samples_leaf': 7, 'min_weight_fraction_leaf': 0.0001604734872058527, 'warm_start': True}. Best is trial 125 with value: 0.48200899550224885.\u001b[0m\n",
            "\u001b[32m[I 2021-06-07 14:51:14,921]\u001b[0m Trial 230 finished with value: 0.11759745127436282 and parameters: {'n_estimators': 139, 'criterion': 'gini', 'max_features': 'auto', 'min_samples_split': 4, 'min_samples_leaf': 7, 'min_weight_fraction_leaf': 0.005831327849742538, 'warm_start': True}. Best is trial 125 with value: 0.48200899550224885.\u001b[0m\n",
            "\u001b[32m[I 2021-06-07 14:51:26,106]\u001b[0m Trial 231 finished with value: 0.43637556221889057 and parameters: {'n_estimators': 129, 'criterion': 'gini', 'max_features': 'auto', 'min_samples_split': 4, 'min_samples_leaf': 7, 'min_weight_fraction_leaf': 0.000574438373541279, 'warm_start': True}. Best is trial 125 with value: 0.48200899550224885.\u001b[0m\n",
            "\u001b[32m[I 2021-06-07 14:51:36,806]\u001b[0m Trial 232 finished with value: 0.43347076461769113 and parameters: {'n_estimators': 127, 'criterion': 'gini', 'max_features': 'auto', 'min_samples_split': 4, 'min_samples_leaf': 7, 'min_weight_fraction_leaf': 0.0006025339422806033, 'warm_start': True}. Best is trial 125 with value: 0.48200899550224885.\u001b[0m\n",
            "\u001b[32m[I 2021-06-07 14:51:46,167]\u001b[0m Trial 233 finished with value: 0.4063905547226387 and parameters: {'n_estimators': 134, 'criterion': 'gini', 'max_features': 'auto', 'min_samples_split': 4, 'min_samples_leaf': 7, 'min_weight_fraction_leaf': 0.0007329621822780776, 'warm_start': True}. Best is trial 125 with value: 0.48200899550224885.\u001b[0m\n",
            "\u001b[32m[I 2021-06-07 14:51:47,334]\u001b[0m Trial 234 finished with value: 0.11281859070464767 and parameters: {'n_estimators': 132, 'criterion': 'gini', 'max_features': 'auto', 'min_samples_split': 4, 'min_samples_leaf': 7, 'min_weight_fraction_leaf': 0.010649638252033872, 'warm_start': True}. Best is trial 125 with value: 0.48200899550224885.\u001b[0m\n",
            "\u001b[32m[I 2021-06-07 14:52:07,043]\u001b[0m Trial 235 finished with value: 0.46383058470764615 and parameters: {'n_estimators': 123, 'criterion': 'gini', 'max_features': 'auto', 'min_samples_split': 4, 'min_samples_leaf': 7, 'min_weight_fraction_leaf': 0.0002073377074820849, 'warm_start': True}. Best is trial 125 with value: 0.48200899550224885.\u001b[0m\n",
            "\u001b[32m[I 2021-06-07 14:52:24,787]\u001b[0m Trial 236 finished with value: 0.46092578710644677 and parameters: {'n_estimators': 118, 'criterion': 'gini', 'max_features': 'auto', 'min_samples_split': 4, 'min_samples_leaf': 7, 'min_weight_fraction_leaf': 0.00023562977408207617, 'warm_start': True}. Best is trial 125 with value: 0.48200899550224885.\u001b[0m\n",
            "\u001b[32m[I 2021-06-07 14:52:25,867]\u001b[0m Trial 237 finished with value: 0.1140367316341829 and parameters: {'n_estimators': 121, 'criterion': 'gini', 'max_features': 'auto', 'min_samples_split': 4, 'min_samples_leaf': 7, 'min_weight_fraction_leaf': 0.006695457617982016, 'warm_start': True}. Best is trial 125 with value: 0.48200899550224885.\u001b[0m\n",
            "\u001b[32m[I 2021-06-07 14:52:48,657]\u001b[0m Trial 238 finished with value: 0.46336206896551724 and parameters: {'n_estimators': 145, 'criterion': 'gini', 'max_features': 'auto', 'min_samples_split': 4, 'min_samples_leaf': 7, 'min_weight_fraction_leaf': 1.3841994140780898e-05, 'warm_start': True}. Best is trial 125 with value: 0.48200899550224885.\u001b[0m\n",
            "\u001b[32m[I 2021-06-07 14:53:11,692]\u001b[0m Trial 239 finished with value: 0.4631746626686657 and parameters: {'n_estimators': 146, 'criterion': 'gini', 'max_features': 'auto', 'min_samples_split': 4, 'min_samples_leaf': 7, 'min_weight_fraction_leaf': 0.00015106311097223452, 'warm_start': True}. Best is trial 125 with value: 0.48200899550224885.\u001b[0m\n",
            "\u001b[32m[I 2021-06-07 14:53:34,550]\u001b[0m Trial 240 finished with value: 0.4642053973013493 and parameters: {'n_estimators': 145, 'criterion': 'gini', 'max_features': 'auto', 'min_samples_split': 4, 'min_samples_leaf': 7, 'min_weight_fraction_leaf': 3.9208287814143945e-05, 'warm_start': True}. Best is trial 125 with value: 0.48200899550224885.\u001b[0m\n",
            "\u001b[32m[I 2021-06-07 14:53:57,509]\u001b[0m Trial 241 finished with value: 0.4641116941529235 and parameters: {'n_estimators': 145, 'criterion': 'gini', 'max_features': 'auto', 'min_samples_split': 4, 'min_samples_leaf': 7, 'min_weight_fraction_leaf': 4.453279421603215e-05, 'warm_start': True}. Best is trial 125 with value: 0.48200899550224885.\u001b[0m\n",
            "\u001b[32m[I 2021-06-07 14:53:58,846]\u001b[0m Trial 242 finished with value: 0.11281859070464767 and parameters: {'n_estimators': 151, 'criterion': 'gini', 'max_features': 'auto', 'min_samples_split': 4, 'min_samples_leaf': 7, 'min_weight_fraction_leaf': 0.006379057717193189, 'warm_start': True}. Best is trial 125 with value: 0.48200899550224885.\u001b[0m\n",
            "\u001b[32m[I 2021-06-07 14:54:16,028]\u001b[0m Trial 243 finished with value: 0.4514617691154423 and parameters: {'n_estimators': 146, 'criterion': 'gini', 'max_features': 'auto', 'min_samples_split': 4, 'min_samples_leaf': 7, 'min_weight_fraction_leaf': 0.00038763628724538103, 'warm_start': True}. Best is trial 125 with value: 0.48200899550224885.\u001b[0m\n",
            "\u001b[32m[I 2021-06-07 14:54:17,314]\u001b[0m Trial 244 finished with value: 0.11281859070464767 and parameters: {'n_estimators': 146, 'criterion': 'gini', 'max_features': 'auto', 'min_samples_split': 4, 'min_samples_leaf': 7, 'min_weight_fraction_leaf': 0.010811675288268324, 'warm_start': True}. Best is trial 125 with value: 0.48200899550224885.\u001b[0m\n",
            "\u001b[32m[I 2021-06-07 14:54:18,620]\u001b[0m Trial 245 finished with value: 0.11441154422788606 and parameters: {'n_estimators': 147, 'criterion': 'gini', 'max_features': 'auto', 'min_samples_split': 4, 'min_samples_leaf': 7, 'min_weight_fraction_leaf': 0.005669431644544419, 'warm_start': True}. Best is trial 125 with value: 0.48200899550224885.\u001b[0m\n",
            "\u001b[32m[I 2021-06-07 14:54:39,424]\u001b[0m Trial 246 finished with value: 0.46186281859070466 and parameters: {'n_estimators': 143, 'criterion': 'gini', 'max_features': 'auto', 'min_samples_split': 4, 'min_samples_leaf': 7, 'min_weight_fraction_leaf': 0.00026775288875925966, 'warm_start': True}. Best is trial 125 with value: 0.48200899550224885.\u001b[0m\n",
            "\u001b[32m[I 2021-06-07 14:54:40,777]\u001b[0m Trial 247 finished with value: 0.11281859070464767 and parameters: {'n_estimators': 153, 'criterion': 'gini', 'max_features': 'auto', 'min_samples_split': 4, 'min_samples_leaf': 7, 'min_weight_fraction_leaf': 0.01387709505958125, 'warm_start': True}. Best is trial 125 with value: 0.48200899550224885.\u001b[0m\n",
            "\u001b[32m[I 2021-06-07 14:54:42,135]\u001b[0m Trial 248 finished with value: 0.1191904047976012 and parameters: {'n_estimators': 148, 'criterion': 'gini', 'max_features': 'auto', 'min_samples_split': 4, 'min_samples_leaf': 7, 'min_weight_fraction_leaf': 0.0053530490121481865, 'warm_start': True}. Best is trial 125 with value: 0.48200899550224885.\u001b[0m\n",
            "\u001b[32m[I 2021-06-07 14:55:00,381]\u001b[0m Trial 249 finished with value: 0.4605509745127436 and parameters: {'n_estimators': 125, 'criterion': 'gini', 'max_features': 'auto', 'min_samples_split': 4, 'min_samples_leaf': 7, 'min_weight_fraction_leaf': 0.00027321967234980257, 'warm_start': True}. Best is trial 125 with value: 0.48200899550224885.\u001b[0m\n",
            "\u001b[32m[I 2021-06-07 14:55:01,672]\u001b[0m Trial 250 finished with value: 0.11281859070464767 and parameters: {'n_estimators': 144, 'criterion': 'gini', 'max_features': 'auto', 'min_samples_split': 4, 'min_samples_leaf': 7, 'min_weight_fraction_leaf': 0.010069452884460683, 'warm_start': True}. Best is trial 125 with value: 0.48200899550224885.\u001b[0m\n",
            "\u001b[32m[I 2021-06-07 14:55:02,968]\u001b[0m Trial 251 finished with value: 0.11394302848575712 and parameters: {'n_estimators': 143, 'criterion': 'gini', 'max_features': 'auto', 'min_samples_split': 4, 'min_samples_leaf': 7, 'min_weight_fraction_leaf': 0.005827288636332716, 'warm_start': True}. Best is trial 125 with value: 0.48200899550224885.\u001b[0m\n",
            "\u001b[32m[I 2021-06-07 14:55:03,695]\u001b[0m Trial 252 finished with value: 0.11281859070464767 and parameters: {'n_estimators': 82, 'criterion': 'gini', 'max_features': 'auto', 'min_samples_split': 4, 'min_samples_leaf': 7, 'min_weight_fraction_leaf': 0.015282580516184403, 'warm_start': True}. Best is trial 125 with value: 0.48200899550224885.\u001b[0m\n",
            "\u001b[32m[I 2021-06-07 14:55:17,715]\u001b[0m Trial 253 finished with value: 0.463455772113943 and parameters: {'n_estimators': 88, 'criterion': 'gini', 'max_features': 'auto', 'min_samples_split': 4, 'min_samples_leaf': 7, 'min_weight_fraction_leaf': 3.85387366166574e-05, 'warm_start': True}. Best is trial 125 with value: 0.48200899550224885.\u001b[0m\n",
            "\u001b[32m[I 2021-06-07 14:55:18,935]\u001b[0m Trial 254 finished with value: 0.11525487256371814 and parameters: {'n_estimators': 136, 'criterion': 'gini', 'max_features': 'auto', 'min_samples_split': 4, 'min_samples_leaf': 7, 'min_weight_fraction_leaf': 0.005571216302355415, 'warm_start': True}. Best is trial 125 with value: 0.48200899550224885.\u001b[0m\n",
            "\u001b[32m[I 2021-06-07 14:55:36,438]\u001b[0m Trial 255 finished with value: 0.4737631184407796 and parameters: {'n_estimators': 88, 'criterion': 'gini', 'max_features': 'auto', 'min_samples_split': 4, 'min_samples_leaf': 5, 'min_weight_fraction_leaf': 0.0001215132043582697, 'warm_start': True}. Best is trial 125 with value: 0.48200899550224885.\u001b[0m\n",
            "\u001b[32m[I 2021-06-07 14:55:37,757]\u001b[0m Trial 256 finished with value: 0.11281859070464767 and parameters: {'n_estimators': 147, 'criterion': 'gini', 'max_features': 'auto', 'min_samples_split': 4, 'min_samples_leaf': 5, 'min_weight_fraction_leaf': 0.27859486585184345, 'warm_start': True}. Best is trial 125 with value: 0.48200899550224885.\u001b[0m\n",
            "\u001b[32m[I 2021-06-07 14:55:55,463]\u001b[0m Trial 257 finished with value: 0.47638680659670163 and parameters: {'n_estimators': 87, 'criterion': 'gini', 'max_features': 'auto', 'min_samples_split': 4, 'min_samples_leaf': 5, 'min_weight_fraction_leaf': 2.284490886723855e-05, 'warm_start': True}. Best is trial 125 with value: 0.48200899550224885.\u001b[0m\n",
            "\u001b[32m[I 2021-06-07 14:56:12,531]\u001b[0m Trial 258 finished with value: 0.47366941529235385 and parameters: {'n_estimators': 87, 'criterion': 'gini', 'max_features': 'auto', 'min_samples_split': 4, 'min_samples_leaf': 5, 'min_weight_fraction_leaf': 0.00015147705556346863, 'warm_start': True}. Best is trial 125 with value: 0.48200899550224885.\u001b[0m\n",
            "\u001b[32m[I 2021-06-07 14:56:13,361]\u001b[0m Trial 259 finished with value: 0.11281859070464767 and parameters: {'n_estimators': 91, 'criterion': 'gini', 'max_features': 'auto', 'min_samples_split': 4, 'min_samples_leaf': 5, 'min_weight_fraction_leaf': 0.010700291644290812, 'warm_start': True}. Best is trial 125 with value: 0.48200899550224885.\u001b[0m\n",
            "\u001b[32m[I 2021-06-07 14:56:30,473]\u001b[0m Trial 260 finished with value: 0.4747001499250375 and parameters: {'n_estimators': 85, 'criterion': 'gini', 'max_features': 'auto', 'min_samples_split': 4, 'min_samples_leaf': 5, 'min_weight_fraction_leaf': 0.00011556822766876183, 'warm_start': True}. Best is trial 125 with value: 0.48200899550224885.\u001b[0m\n",
            "\u001b[32m[I 2021-06-07 14:56:48,237]\u001b[0m Trial 261 finished with value: 0.4747001499250375 and parameters: {'n_estimators': 87, 'criterion': 'gini', 'max_features': 'auto', 'min_samples_split': 4, 'min_samples_leaf': 5, 'min_weight_fraction_leaf': 3.972805116159487e-05, 'warm_start': True}. Best is trial 125 with value: 0.48200899550224885.\u001b[0m\n",
            "\u001b[32m[I 2021-06-07 14:56:49,055]\u001b[0m Trial 262 finished with value: 0.11281859070464767 and parameters: {'n_estimators': 89, 'criterion': 'gini', 'max_features': 'auto', 'min_samples_split': 4, 'min_samples_leaf': 5, 'min_weight_fraction_leaf': 0.016031110647024616, 'warm_start': True}. Best is trial 125 with value: 0.48200899550224885.\u001b[0m\n",
            "\u001b[32m[I 2021-06-07 14:56:49,813]\u001b[0m Trial 263 finished with value: 0.11281859070464767 and parameters: {'n_estimators': 82, 'criterion': 'gini', 'max_features': 'auto', 'min_samples_split': 4, 'min_samples_leaf': 5, 'min_weight_fraction_leaf': 0.10427994387777123, 'warm_start': True}. Best is trial 125 with value: 0.48200899550224885.\u001b[0m\n",
            "\u001b[32m[I 2021-06-07 14:56:50,612]\u001b[0m Trial 264 finished with value: 0.11281859070464767 and parameters: {'n_estimators': 85, 'criterion': 'gini', 'max_features': 'auto', 'min_samples_split': 4, 'min_samples_leaf': 5, 'min_weight_fraction_leaf': 0.06983340604375451, 'warm_start': True}. Best is trial 125 with value: 0.48200899550224885.\u001b[0m\n",
            "\u001b[32m[I 2021-06-07 14:57:08,001]\u001b[0m Trial 265 finished with value: 0.47395052473763116 and parameters: {'n_estimators': 85, 'criterion': 'gini', 'max_features': 'auto', 'min_samples_split': 4, 'min_samples_leaf': 5, 'min_weight_fraction_leaf': 3.7816490514261884e-05, 'warm_start': True}. Best is trial 125 with value: 0.48200899550224885.\u001b[0m\n",
            "\u001b[32m[I 2021-06-07 14:57:08,778]\u001b[0m Trial 266 finished with value: 0.11281859070464767 and parameters: {'n_estimators': 85, 'criterion': 'gini', 'max_features': 'auto', 'min_samples_split': 4, 'min_samples_leaf': 5, 'min_weight_fraction_leaf': 0.22774133702090915, 'warm_start': True}. Best is trial 125 with value: 0.48200899550224885.\u001b[0m\n",
            "\u001b[32m[I 2021-06-07 14:57:09,667]\u001b[0m Trial 267 finished with value: 0.11281859070464767 and parameters: {'n_estimators': 94, 'criterion': 'gini', 'max_features': 'auto', 'min_samples_split': 4, 'min_samples_leaf': 5, 'min_weight_fraction_leaf': 0.006080262371115718, 'warm_start': True}. Best is trial 125 with value: 0.48200899550224885.\u001b[0m\n",
            "\u001b[32m[I 2021-06-07 14:57:25,148]\u001b[0m Trial 268 finished with value: 0.46804722638680657 and parameters: {'n_estimators': 90, 'criterion': 'gini', 'max_features': 'auto', 'min_samples_split': 4, 'min_samples_leaf': 5, 'min_weight_fraction_leaf': 0.00023045680037761876, 'warm_start': True}. Best is trial 125 with value: 0.48200899550224885.\u001b[0m\n",
            "\u001b[32m[I 2021-06-07 14:57:25,947]\u001b[0m Trial 269 finished with value: 0.11281859070464767 and parameters: {'n_estimators': 87, 'criterion': 'gini', 'max_features': 'auto', 'min_samples_split': 4, 'min_samples_leaf': 5, 'min_weight_fraction_leaf': 0.01023691071456178, 'warm_start': True}. Best is trial 125 with value: 0.48200899550224885.\u001b[0m\n",
            "\u001b[32m[I 2021-06-07 14:57:26,712]\u001b[0m Trial 270 finished with value: 0.12190779610194903 and parameters: {'n_estimators': 80, 'criterion': 'gini', 'max_features': 'auto', 'min_samples_split': 4, 'min_samples_leaf': 5, 'min_weight_fraction_leaf': 0.005901741325329516, 'warm_start': True}. Best is trial 125 with value: 0.48200899550224885.\u001b[0m\n",
            "\u001b[32m[I 2021-06-07 14:57:27,518]\u001b[0m Trial 271 finished with value: 0.11281859070464767 and parameters: {'n_estimators': 87, 'criterion': 'gini', 'max_features': 'auto', 'min_samples_split': 4, 'min_samples_leaf': 5, 'min_weight_fraction_leaf': 0.01816882209952881, 'warm_start': True}. Best is trial 125 with value: 0.48200899550224885.\u001b[0m\n",
            "\u001b[32m[I 2021-06-07 14:57:45,589]\u001b[0m Trial 272 finished with value: 0.4767616191904048 and parameters: {'n_estimators': 90, 'criterion': 'gini', 'max_features': 'auto', 'min_samples_split': 4, 'min_samples_leaf': 5, 'min_weight_fraction_leaf': 8.992897524772056e-05, 'warm_start': True}. Best is trial 125 with value: 0.48200899550224885.\u001b[0m\n",
            "\u001b[32m[I 2021-06-07 14:57:46,477]\u001b[0m Trial 273 finished with value: 0.11694152923538231 and parameters: {'n_estimators': 97, 'criterion': 'gini', 'max_features': 'auto', 'min_samples_split': 4, 'min_samples_leaf': 5, 'min_weight_fraction_leaf': 0.005857753151502897, 'warm_start': True}. Best is trial 125 with value: 0.48200899550224885.\u001b[0m\n",
            "\u001b[32m[I 2021-06-07 14:58:00,423]\u001b[0m Trial 274 finished with value: 0.46167541229385306 and parameters: {'n_estimators': 91, 'criterion': 'gini', 'max_features': 'auto', 'min_samples_split': 4, 'min_samples_leaf': 5, 'min_weight_fraction_leaf': 0.00026088818900157196, 'warm_start': True}. Best is trial 125 with value: 0.48200899550224885.\u001b[0m\n",
            "\u001b[32m[I 2021-06-07 14:58:01,146]\u001b[0m Trial 275 finished with value: 0.11281859070464767 and parameters: {'n_estimators': 80, 'criterion': 'gini', 'max_features': 'auto', 'min_samples_split': 4, 'min_samples_leaf': 5, 'min_weight_fraction_leaf': 0.011796728759745278, 'warm_start': True}. Best is trial 125 with value: 0.48200899550224885.\u001b[0m\n",
            "\u001b[32m[I 2021-06-07 14:58:13,287]\u001b[0m Trial 276 finished with value: 0.45699025487256373 and parameters: {'n_estimators': 88, 'criterion': 'gini', 'max_features': 'auto', 'min_samples_split': 4, 'min_samples_leaf': 5, 'min_weight_fraction_leaf': 0.0003180950695187367, 'warm_start': True}. Best is trial 125 with value: 0.48200899550224885.\u001b[0m\n",
            "\u001b[32m[I 2021-06-07 14:58:14,060]\u001b[0m Trial 277 finished with value: 0.11281859070464767 and parameters: {'n_estimators': 84, 'criterion': 'gini', 'max_features': 'auto', 'min_samples_split': 4, 'min_samples_leaf': 5, 'min_weight_fraction_leaf': 0.006229301473630214, 'warm_start': True}. Best is trial 125 with value: 0.48200899550224885.\u001b[0m\n",
            "\u001b[32m[I 2021-06-07 14:58:32,259]\u001b[0m Trial 278 finished with value: 0.474044227886057 and parameters: {'n_estimators': 91, 'criterion': 'gini', 'max_features': 'auto', 'min_samples_split': 4, 'min_samples_leaf': 5, 'min_weight_fraction_leaf': 4.174126342309156e-05, 'warm_start': True}. Best is trial 125 with value: 0.48200899550224885.\u001b[0m\n",
            "\u001b[32m[I 2021-06-07 14:58:33,058]\u001b[0m Trial 279 finished with value: 0.11281859070464767 and parameters: {'n_estimators': 88, 'criterion': 'gini', 'max_features': 'auto', 'min_samples_split': 4, 'min_samples_leaf': 5, 'min_weight_fraction_leaf': 0.01199363527454441, 'warm_start': True}. Best is trial 125 with value: 0.48200899550224885.\u001b[0m\n",
            "\u001b[32m[I 2021-06-07 14:58:51,779]\u001b[0m Trial 280 finished with value: 0.4732008995502249 and parameters: {'n_estimators': 94, 'criterion': 'gini', 'max_features': 'auto', 'min_samples_split': 4, 'min_samples_leaf': 5, 'min_weight_fraction_leaf': 2.6323158981405733e-05, 'warm_start': True}. Best is trial 125 with value: 0.48200899550224885.\u001b[0m\n",
            "\u001b[32m[I 2021-06-07 14:58:52,645]\u001b[0m Trial 281 finished with value: 0.1299662668665667 and parameters: {'n_estimators': 94, 'criterion': 'gini', 'max_features': 'auto', 'min_samples_split': 4, 'min_samples_leaf': 5, 'min_weight_fraction_leaf': 0.006078481257486911, 'warm_start': True}. Best is trial 125 with value: 0.48200899550224885.\u001b[0m\n",
            "\u001b[32m[I 2021-06-07 14:58:53,492]\u001b[0m Trial 282 finished with value: 0.11281859070464767 and parameters: {'n_estimators': 93, 'criterion': 'gini', 'max_features': 'auto', 'min_samples_split': 4, 'min_samples_leaf': 5, 'min_weight_fraction_leaf': 0.015203781039925248, 'warm_start': True}. Best is trial 125 with value: 0.48200899550224885.\u001b[0m\n",
            "\u001b[32m[I 2021-06-07 14:59:11,700]\u001b[0m Trial 283 finished with value: 0.4737631184407796 and parameters: {'n_estimators': 91, 'criterion': 'gini', 'max_features': 'auto', 'min_samples_split': 4, 'min_samples_leaf': 5, 'min_weight_fraction_leaf': 6.168069336740183e-05, 'warm_start': True}. Best is trial 125 with value: 0.48200899550224885.\u001b[0m\n",
            "\u001b[32m[I 2021-06-07 14:59:12,467]\u001b[0m Trial 284 finished with value: 0.11300599700149926 and parameters: {'n_estimators': 83, 'criterion': 'gini', 'max_features': 'auto', 'min_samples_split': 4, 'min_samples_leaf': 5, 'min_weight_fraction_leaf': 0.006412782400682562, 'warm_start': True}. Best is trial 125 with value: 0.48200899550224885.\u001b[0m\n",
            "\u001b[32m[I 2021-06-07 14:59:13,287]\u001b[0m Trial 285 finished with value: 0.11281859070464767 and parameters: {'n_estimators': 91, 'criterion': 'gini', 'max_features': 'auto', 'min_samples_split': 4, 'min_samples_leaf': 5, 'min_weight_fraction_leaf': 0.02113144172439741, 'warm_start': True}. Best is trial 125 with value: 0.48200899550224885.\u001b[0m\n",
            "\u001b[32m[I 2021-06-07 14:59:14,156]\u001b[0m Trial 286 finished with value: 0.11281859070464767 and parameters: {'n_estimators': 96, 'criterion': 'gini', 'max_features': 'auto', 'min_samples_split': 4, 'min_samples_leaf': 5, 'min_weight_fraction_leaf': 0.01032061170006215, 'warm_start': True}. Best is trial 125 with value: 0.48200899550224885.\u001b[0m\n",
            "\u001b[32m[I 2021-06-07 14:59:15,016]\u001b[0m Trial 287 finished with value: 0.11759745127436282 and parameters: {'n_estimators': 91, 'criterion': 'gini', 'max_features': 'auto', 'min_samples_split': 4, 'min_samples_leaf': 5, 'min_weight_fraction_leaf': 0.005140654058540534, 'warm_start': True}. Best is trial 125 with value: 0.48200899550224885.\u001b[0m\n",
            "\u001b[32m[I 2021-06-07 14:59:15,788]\u001b[0m Trial 288 finished with value: 0.1191904047976012 and parameters: {'n_estimators': 84, 'criterion': 'gini', 'max_features': 'auto', 'min_samples_split': 4, 'min_samples_leaf': 5, 'min_weight_fraction_leaf': 0.0056446460374333565, 'warm_start': True}. Best is trial 125 with value: 0.48200899550224885.\u001b[0m\n",
            "\u001b[32m[I 2021-06-07 14:59:16,636]\u001b[0m Trial 289 finished with value: 0.11281859070464767 and parameters: {'n_estimators': 95, 'criterion': 'gini', 'max_features': 'auto', 'min_samples_split': 4, 'min_samples_leaf': 5, 'min_weight_fraction_leaf': 0.011709897694208425, 'warm_start': True}. Best is trial 125 with value: 0.48200899550224885.\u001b[0m\n",
            "\u001b[32m[I 2021-06-07 14:59:36,349]\u001b[0m Trial 290 finished with value: 0.4729197901049475 and parameters: {'n_estimators': 99, 'criterion': 'gini', 'max_features': 'auto', 'min_samples_split': 4, 'min_samples_leaf': 5, 'min_weight_fraction_leaf': 2.7021622935740288e-06, 'warm_start': True}. Best is trial 125 with value: 0.48200899550224885.\u001b[0m\n",
            "\u001b[32m[I 2021-06-07 14:59:37,207]\u001b[0m Trial 291 finished with value: 0.11459895052473763 and parameters: {'n_estimators': 90, 'criterion': 'gini', 'max_features': 'auto', 'min_samples_split': 4, 'min_samples_leaf': 5, 'min_weight_fraction_leaf': 0.004986219137301944, 'warm_start': True}. Best is trial 125 with value: 0.48200899550224885.\u001b[0m\n",
            "\u001b[32m[I 2021-06-07 14:59:38,083]\u001b[0m Trial 292 finished with value: 0.11281859070464767 and parameters: {'n_estimators': 97, 'criterion': 'gini', 'max_features': 'auto', 'min_samples_split': 4, 'min_samples_leaf': 5, 'min_weight_fraction_leaf': 0.01815390575280062, 'warm_start': True}. Best is trial 125 with value: 0.48200899550224885.\u001b[0m\n",
            "\u001b[32m[I 2021-06-07 14:59:58,187]\u001b[0m Trial 293 finished with value: 0.474044227886057 and parameters: {'n_estimators': 100, 'criterion': 'gini', 'max_features': 'auto', 'min_samples_split': 4, 'min_samples_leaf': 5, 'min_weight_fraction_leaf': 8.26265490216075e-05, 'warm_start': True}. Best is trial 125 with value: 0.48200899550224885.\u001b[0m\n",
            "\u001b[32m[I 2021-06-07 15:00:05,695]\u001b[0m Trial 294 finished with value: 0.4073275862068966 and parameters: {'n_estimators': 101, 'criterion': 'gini', 'max_features': 'auto', 'min_samples_split': 4, 'min_samples_leaf': 5, 'min_weight_fraction_leaf': 0.0007115008472010556, 'warm_start': True}. Best is trial 125 with value: 0.48200899550224885.\u001b[0m\n",
            "\u001b[32m[I 2021-06-07 15:00:16,467]\u001b[0m Trial 295 finished with value: 0.4468703148425787 and parameters: {'n_estimators': 99, 'criterion': 'gini', 'max_features': 'auto', 'min_samples_split': 4, 'min_samples_leaf': 5, 'min_weight_fraction_leaf': 0.0004547767283589614, 'warm_start': True}. Best is trial 125 with value: 0.48200899550224885.\u001b[0m\n",
            "\u001b[32m[I 2021-06-07 15:00:17,206]\u001b[0m Trial 296 finished with value: 0.11281859070464767 and parameters: {'n_estimators': 80, 'criterion': 'gini', 'max_features': 'auto', 'min_samples_split': 4, 'min_samples_leaf': 5, 'min_weight_fraction_leaf': 0.010865760834517764, 'warm_start': True}. Best is trial 125 with value: 0.48200899550224885.\u001b[0m\n",
            "\u001b[32m[I 2021-06-07 15:00:35,793]\u001b[0m Trial 297 finished with value: 0.4737631184407796 and parameters: {'n_estimators': 92, 'criterion': 'gini', 'max_features': 'auto', 'min_samples_split': 4, 'min_samples_leaf': 5, 'min_weight_fraction_leaf': 4.7615315028419296e-05, 'warm_start': True}. Best is trial 125 with value: 0.48200899550224885.\u001b[0m\n",
            "\u001b[32m[I 2021-06-07 15:00:36,640]\u001b[0m Trial 298 finished with value: 0.11281859070464767 and parameters: {'n_estimators': 93, 'criterion': 'gini', 'max_features': 'auto', 'min_samples_split': 4, 'min_samples_leaf': 5, 'min_weight_fraction_leaf': 0.009231094869975807, 'warm_start': True}. Best is trial 125 with value: 0.48200899550224885.\u001b[0m\n",
            "\u001b[32m[I 2021-06-07 15:00:52,857]\u001b[0m Trial 299 finished with value: 0.4732946026986507 and parameters: {'n_estimators': 88, 'criterion': 'gini', 'max_features': 'auto', 'min_samples_split': 4, 'min_samples_leaf': 5, 'min_weight_fraction_leaf': 0.00020777987190337863, 'warm_start': True}. Best is trial 125 with value: 0.48200899550224885.\u001b[0m\n"
          ],
          "name": "stderr"
        }
      ]
    },
    {
      "cell_type": "code",
      "metadata": {
        "id": "Ha2zgqOUosvm",
        "outputId": "8e1c8294-3dde-45da-c4b5-1902a77782dc",
        "colab": {
          "base_uri": "https://localhost:8080/"
        }
      },
      "source": [
        "study.best_params"
      ],
      "execution_count": 63,
      "outputs": [
        {
          "output_type": "execute_result",
          "data": {
            "text/plain": [
              "{'criterion': 'gini',\n",
              " 'max_features': 'auto',\n",
              " 'min_samples_leaf': 4,\n",
              " 'min_samples_split': 4,\n",
              " 'min_weight_fraction_leaf': 4.1701080786763075e-05,\n",
              " 'n_estimators': 143,\n",
              " 'warm_start': False}"
            ]
          },
          "metadata": {
            "tags": []
          },
          "execution_count": 63
        }
      ]
    },
    {
      "cell_type": "code",
      "metadata": {
        "id": "1OiaNCX2uEsL",
        "outputId": "775f4b67-a479-4a99-f59d-429287e3e5e2",
        "colab": {
          "base_uri": "https://localhost:8080/"
        }
      },
      "source": [
        "study.best_trial.values"
      ],
      "execution_count": 64,
      "outputs": [
        {
          "output_type": "execute_result",
          "data": {
            "text/plain": [
              "[0.48200899550224885]"
            ]
          },
          "metadata": {
            "tags": []
          },
          "execution_count": 64
        }
      ]
    },
    {
      "cell_type": "code",
      "metadata": {
        "id": "usUVkNgkyT1n"
      },
      "source": [
        ""
      ],
      "execution_count": null,
      "outputs": []
    }
  ]
}