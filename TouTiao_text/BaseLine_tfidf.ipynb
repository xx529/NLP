{
  "nbformat": 4,
  "nbformat_minor": 0,
  "metadata": {
    "colab": {
      "name": "欢迎使用 Colaboratory",
      "provenance": [],
      "collapsed_sections": [],
      "toc_visible": true,
      "include_colab_link": true
    },
    "kernelspec": {
      "display_name": "Python 3",
      "name": "python3"
    }
  },
  "cells": [
    {
      "cell_type": "markdown",
      "metadata": {
        "id": "view-in-github",
        "colab_type": "text"
      },
      "source": [
        "<a href=\"https://colab.research.google.com/github/xx529/NLP/blob/main/TouTiao_text/BaseLine_tfidf.ipynb\" target=\"_parent\"><img src=\"https://colab.research.google.com/assets/colab-badge.svg\" alt=\"Open In Colab\"/></a>"
      ]
    },
    {
      "cell_type": "markdown",
      "metadata": {
        "id": "_3RkKsk8uicd"
      },
      "source": [
        "# Task\n",
        "1. 根据句子内容做分类任务\n",
        "2. baseline 采用 tfidf 模型"
      ]
    },
    {
      "cell_type": "code",
      "metadata": {
        "id": "oKjvq6_3XrP5"
      },
      "source": [
        "import numpy as np\n",
        "import pandas as pd\n",
        "import matplotlib.pyplot as plt\n",
        "import seaborn as sns\n",
        "import networkx as nx\n",
        "import jieba\n",
        "from collections import defaultdict"
      ],
      "execution_count": 124,
      "outputs": []
    },
    {
      "cell_type": "code",
      "metadata": {
        "colab": {
          "base_uri": "https://localhost:8080/"
        },
        "id": "mG-bv8p3uXE6",
        "outputId": "74ba86dd-7eb9-4b60-abd5-b6dd04b2e43e"
      },
      "source": [
        "from google.colab import drive\n",
        "drive.mount('/content/drive')"
      ],
      "execution_count": 125,
      "outputs": [
        {
          "output_type": "stream",
          "text": [
            "Drive already mounted at /content/drive; to attempt to forcibly remount, call drive.mount(\"/content/drive\", force_remount=True).\n"
          ],
          "name": "stdout"
        }
      ]
    },
    {
      "cell_type": "markdown",
      "metadata": {
        "id": "67ALW4hzutAT"
      },
      "source": [
        "# Data Exploring"
      ]
    },
    {
      "cell_type": "code",
      "metadata": {
        "colab": {
          "base_uri": "https://localhost:8080/"
        },
        "id": "Rjzg4xtJuERY",
        "outputId": "7f873827-dd3d-4921-8e2a-45fc187e2a1e"
      },
      "source": [
        "df_train = pd.read_csv('/content/drive/MyDrive/Colab Notebooks Project/NLP/TouTiao_text/train.csv')\n",
        "df_train.info()"
      ],
      "execution_count": 126,
      "outputs": [
        {
          "output_type": "stream",
          "text": [
            "<class 'pandas.core.frame.DataFrame'>\n",
            "RangeIndex: 53360 entries, 0 to 53359\n",
            "Data columns (total 4 columns):\n",
            " #   Column      Non-Null Count  Dtype \n",
            "---  ------      --------------  ----- \n",
            " 0   id          53360 non-null  int64 \n",
            " 1   label       53360 non-null  int64 \n",
            " 2   label_desc  53360 non-null  object\n",
            " 3   sentence    53360 non-null  object\n",
            "dtypes: int64(2), object(2)\n",
            "memory usage: 1.6+ MB\n"
          ],
          "name": "stdout"
        }
      ]
    },
    {
      "cell_type": "code",
      "metadata": {
        "id": "8JPDe4DjXsAZ",
        "colab": {
          "base_uri": "https://localhost:8080/",
          "height": 204
        },
        "outputId": "92df0674-3e9f-4c5d-a206-ff17b225954c"
      },
      "source": [
        "df_train.head()"
      ],
      "execution_count": 127,
      "outputs": [
        {
          "output_type": "execute_result",
          "data": {
            "text/html": [
              "<div>\n",
              "<style scoped>\n",
              "    .dataframe tbody tr th:only-of-type {\n",
              "        vertical-align: middle;\n",
              "    }\n",
              "\n",
              "    .dataframe tbody tr th {\n",
              "        vertical-align: top;\n",
              "    }\n",
              "\n",
              "    .dataframe thead th {\n",
              "        text-align: right;\n",
              "    }\n",
              "</style>\n",
              "<table border=\"1\" class=\"dataframe\">\n",
              "  <thead>\n",
              "    <tr style=\"text-align: right;\">\n",
              "      <th></th>\n",
              "      <th>id</th>\n",
              "      <th>label</th>\n",
              "      <th>label_desc</th>\n",
              "      <th>sentence</th>\n",
              "    </tr>\n",
              "  </thead>\n",
              "  <tbody>\n",
              "    <tr>\n",
              "      <th>0</th>\n",
              "      <td>0</td>\n",
              "      <td>108</td>\n",
              "      <td>news_edu</td>\n",
              "      <td>上课时学生手机响个不停，老师一怒之下把手机摔了，家长拿发票让老师赔，大家怎么看待这种事？</td>\n",
              "    </tr>\n",
              "    <tr>\n",
              "      <th>1</th>\n",
              "      <td>1</td>\n",
              "      <td>104</td>\n",
              "      <td>news_finance</td>\n",
              "      <td>商赢环球股份有限公司关于延期回复上海证券交易所对公司2017年年度报告的事后审核问询函的公告</td>\n",
              "    </tr>\n",
              "    <tr>\n",
              "      <th>2</th>\n",
              "      <td>2</td>\n",
              "      <td>106</td>\n",
              "      <td>news_house</td>\n",
              "      <td>通过中介公司买了二手房，首付都付了，现在卖家不想卖了。怎么处理？</td>\n",
              "    </tr>\n",
              "    <tr>\n",
              "      <th>3</th>\n",
              "      <td>3</td>\n",
              "      <td>112</td>\n",
              "      <td>news_travel</td>\n",
              "      <td>2018年去俄罗斯看世界杯得花多少钱？</td>\n",
              "    </tr>\n",
              "    <tr>\n",
              "      <th>4</th>\n",
              "      <td>4</td>\n",
              "      <td>109</td>\n",
              "      <td>news_tech</td>\n",
              "      <td>剃须刀的个性革新，雷明登天猫定制版新品首发</td>\n",
              "    </tr>\n",
              "  </tbody>\n",
              "</table>\n",
              "</div>"
            ],
            "text/plain": [
              "   id  label    label_desc                                        sentence\n",
              "0   0    108      news_edu    上课时学生手机响个不停，老师一怒之下把手机摔了，家长拿发票让老师赔，大家怎么看待这种事？\n",
              "1   1    104  news_finance  商赢环球股份有限公司关于延期回复上海证券交易所对公司2017年年度报告的事后审核问询函的公告\n",
              "2   2    106    news_house                通过中介公司买了二手房，首付都付了，现在卖家不想卖了。怎么处理？\n",
              "3   3    112   news_travel                             2018年去俄罗斯看世界杯得花多少钱？\n",
              "4   4    109     news_tech                           剃须刀的个性革新，雷明登天猫定制版新品首发"
            ]
          },
          "metadata": {
            "tags": []
          },
          "execution_count": 127
        }
      ]
    },
    {
      "cell_type": "code",
      "metadata": {
        "colab": {
          "base_uri": "https://localhost:8080/"
        },
        "id": "uxfqwf3cug7D",
        "outputId": "12f2726f-96a1-4bed-e2ff-ed02f87c78b5"
      },
      "source": [
        "df_train['label'].value_counts() / len(df_train) * 100"
      ],
      "execution_count": 128,
      "outputs": [
        {
          "output_type": "execute_result",
          "data": {
            "text/plain": [
              "109    11.160045\n",
              "104     9.745127\n",
              "102     9.325337\n",
              "113     9.091079\n",
              "107     7.717391\n",
              "101     7.648051\n",
              "103     7.479385\n",
              "110     6.806597\n",
              "108     6.441154\n",
              "116     6.353073\n",
              "112     6.311844\n",
              "115     5.408546\n",
              "106     3.948651\n",
              "100     2.082084\n",
              "114     0.481634\n",
              "Name: label, dtype: float64"
            ]
          },
          "metadata": {
            "tags": []
          },
          "execution_count": 128
        }
      ]
    },
    {
      "cell_type": "code",
      "metadata": {
        "colab": {
          "base_uri": "https://localhost:8080/"
        },
        "id": "rjK6rAZ3u4me",
        "outputId": "7582299e-dfa0-460c-bce5-dc9fb28a2287"
      },
      "source": [
        "df_train['sentence_cut'] = df_train['sentence'].apply(jieba.lcut)\n",
        "df_train['sentence_cut']"
      ],
      "execution_count": 129,
      "outputs": [
        {
          "output_type": "execute_result",
          "data": {
            "text/plain": [
              "0        [上课时, 学生, 手机, 响个, 不停, ，, 老师, 一怒之下, 把, 手机, 摔, 了...\n",
              "1        [商赢, 环球, 股份, 有限公司, 关于, 延期, 回复, 上海证券交易所, 对, 公司,...\n",
              "2        [通过, 中介, 公司, 买, 了, 二手房, ，, 首付, 都, 付, 了, ，, 现在,...\n",
              "3                  [2018, 年, 去, 俄罗斯, 看, 世界杯, 得花, 多少, 钱, ？]\n",
              "4              [剃须刀, 的, 个性, 革新, ，, 雷明登, 天猫, 定制, 版, 新品, 首发]\n",
              "                               ...                        \n",
              "53355    [5, 月, 11, 日中超, 北京国安, 2, -, 2, 富力, ，, 国安, 球迷, ...\n",
              "53356                     [云南, 美食, 故事, ：, 蒙自, 过桥米线, 的, 传说]\n",
              "53357    [端州, ｜, 莫让, 网事, 随, “, 疯, ”, ！, 检察官, 老师, 和, 你, ...\n",
              "53358    [国产, 最, 霸气, 的, 东风, 越野车, ，, 150, 万, 还, 买不到, ，, ...\n",
              "53359                  [极限, 竞速, 地平线, 3, ，, 原创, 娱乐, 游戏, 视频]\n",
              "Name: sentence_cut, Length: 53360, dtype: object"
            ]
          },
          "metadata": {
            "tags": []
          },
          "execution_count": 129
        }
      ]
    },
    {
      "cell_type": "code",
      "metadata": {
        "colab": {
          "base_uri": "https://localhost:8080/",
          "height": 282
        },
        "id": "2RIBnRmYvEAC",
        "outputId": "7100320e-5448-462c-c2c0-2388a2324dfa"
      },
      "source": [
        "df_train['sentence_cut_len'] = df_train['sentence_cut'].apply(len)\n",
        "df_train['sentence_cut_len'].hist(bins=100)"
      ],
      "execution_count": 130,
      "outputs": [
        {
          "output_type": "execute_result",
          "data": {
            "text/plain": [
              "<matplotlib.axes._subplots.AxesSubplot at 0x7efffdb4f510>"
            ]
          },
          "metadata": {
            "tags": []
          },
          "execution_count": 130
        },
        {
          "output_type": "display_data",
          "data": {
            "image/png": "[encoded data removed]",
            "text/plain": [
              "<Figure size 432x288 with 1 Axes>"
            ]
          },
          "metadata": {
            "tags": [],
            "needs_background": "light"
          }
        }
      ]
    },
    {
      "cell_type": "code",
      "metadata": {
        "colab": {
          "base_uri": "https://localhost:8080/"
        },
        "id": "rWmkzCJxvefR",
        "outputId": "ee0835f0-4491-4df5-9147-551fad6d2e09"
      },
      "source": [
        "print(df_train['sentence_cut_len'].min())\n",
        "print(df_train['sentence_cut_len'].max())\n",
        "print(df_train['sentence_cut_len'].std())\n",
        "print(df_train['sentence_cut_len'].mean())"
      ],
      "execution_count": 131,
      "outputs": [
        {
          "output_type": "stream",
          "text": [
            "1\n",
            "81\n",
            "4.5526757257246\n",
            "12.904891304347826\n"
          ],
          "name": "stdout"
        }
      ]
    },
    {
      "cell_type": "code",
      "metadata": {
        "colab": {
          "base_uri": "https://localhost:8080/"
        },
        "id": "Ehv-etajyHDG",
        "outputId": "97bff032-635b-41a8-c461-20d149791f5d"
      },
      "source": [
        "(df_train['sentence_cut_len'] <= 20).sum() / len(df_train)"
      ],
      "execution_count": 132,
      "outputs": [
        {
          "output_type": "execute_result",
          "data": {
            "text/plain": [
              "0.960119940029985"
            ]
          },
          "metadata": {
            "tags": []
          },
          "execution_count": 132
        }
      ]
    },
    {
      "cell_type": "code",
      "metadata": {
        "id": "yOzFMQwOvltf"
      },
      "source": [
        "word_count_dict = defaultdict(int)\n",
        "\n",
        "for sentence in df_train['sentence_cut']:\n",
        "    for word in sentence:\n",
        "        word_count_dict[word] += 1\n",
        "\n",
        "word_count_dict = dict(list(sorted(word_count_dict.items(), key=lambda x: x[1], reverse=True)))\n",
        "word_count_sort = [word for word in word_count_dict]"
      ],
      "execution_count": 133,
      "outputs": []
    },
    {
      "cell_type": "markdown",
      "metadata": {
        "id": "77QdDNILwOYA"
      },
      "source": [
        "# Preprocessing\n",
        "\n",
        "1. truncate\n",
        "2. delete number"
      ]
    },
    {
      "cell_type": "code",
      "metadata": {
        "id": "Z8V_GKt3wXwd"
      },
      "source": [
        "TRUNCATE_LEN = 20\n",
        "\n",
        "\n",
        "def is_num(word):\n",
        "    try:\n",
        "        int(word)\n",
        "        return True\n",
        "    except:\n",
        "        return False\n",
        "\n",
        "df_train['sentence_clean'] = df_train['sentence_cut'].copy()\n",
        "\n",
        "df_train['sentence_clean'] = df_train['sentence_clean'].apply(\n",
        "    lambda sentence: [word for word in sentence if not is_num(word)])\n",
        "\n",
        "df_train['sentence_clean'] = df_train['sentence_clean'].apply(\n",
        "    lambda sentence: sentence[:TRUNCATE_LEN])\n",
        "\n",
        "\n",
        "df_train['sentence_clean'] = [' '.join(x) for x in df_train['sentence_clean']]"
      ],
      "execution_count": 134,
      "outputs": []
    },
    {
      "cell_type": "markdown",
      "metadata": {
        "id": "q_U0tHnjxQkg"
      },
      "source": [
        "# Tfidf Model"
      ]
    },
    {
      "cell_type": "code",
      "metadata": {
        "id": "0VzuvE5Vx1GU"
      },
      "source": [
        "from sklearn.model_selection import train_test_split\n",
        "from sklearn.ensemble import RandomForestClassifier\n",
        "from sklearn.feature_extraction.text import TfidfVectorizer\n",
        "from sklearn.metrics import accuracy_score"
      ],
      "execution_count": 135,
      "outputs": []
    },
    {
      "cell_type": "code",
      "metadata": {
        "colab": {
          "base_uri": "https://localhost:8080/"
        },
        "id": "4AkunbSdyBaQ",
        "outputId": "325d5658-a5af-478a-96d0-1273429f7b2f"
      },
      "source": [
        "MAX_FEATURES = 9000\n",
        "TOP_N_STOP = 100\n",
        "TAIL_N_STOP = 3000\n",
        "\n",
        "tfidf = TfidfVectorizer(\n",
        "    max_features=9000, \n",
        "    stop_words=word_count_sort[:TOP_N_STOP] + word_count_sort[-TAIL_N_STOP:])\n",
        "X = tfidf.fit_transform(df_train['sentence_clean'])\n",
        "X.shape"
      ],
      "execution_count": 136,
      "outputs": [
        {
          "output_type": "stream",
          "text": [
            "/usr/local/lib/python3.7/dist-packages/sklearn/feature_extraction/text.py:385: UserWarning: Your stop_words may be inconsistent with your preprocessing. Tokenizing the stop words generated tokens ['02', '100gift', '11', '12v', '13', '15', '17', '18', '19', '2018lpl', '23', '24', '35', '3524', '3q', '3rd', '3v3', '42', '44', '48', '51', '53', '5d4', '60', '63', '6366', '673', '68', '6ov', '80', '87', '88', '8945', '8f', '8l', '92', '96', '97', '99', 'aba', 'afs', 'anna', 'arena', 'arte', 'as', 'b21', 'b2e', 'bb', 'bella', 'boeing747', 'brp', 'call', 'ccrmanager', 'chuck', 'cidex', 'cioe', 'cmos', 'coast', 'comex', 'converse', 'cosplay', 'cybermiles', 'dag', 'daniel', 'day48', 'db11', 'demon', 'demoncrystals', 'din1451', 'disco', 'diss', 'dragon', 'dsp', 'dx7', 'elon', 'est', 'ex260', 'ex360', 'expma', 'f6', 'fed', 'ff7', 'gabe', 'gabrielle', 'gadot', 'gal', 'gamalon', 'gpd', 'gpu', 'gs3', 'gt500', 'gx', 'hello', 'helvetica', 'homepod', 'hpe', 'hpv', 'ia', 'iamd', 'im', 'ix35', 'jump', 'k1a1', 'kai', 'kbs2tv', 'lafesta', 'lord', 'mate', 'max', 'meet3', 'mendoza', 'mhk', 'motogp', 'mr', 'musk', 'na', 'nano', 'new', 'newell', 'njpw', 'noon', 'note', 'note8', 'novolex23', 'odr', 'orochi', 'owl', 'o型', 'p16', 'pj', 'pro7', 'produce', 'qfii', 'raid', 'roblox', 'roc', 'roe', 'rookie', 'running', 'sa80', 'shelby', 'slim', 'softail', 'spacex', 'square', 'stem', 'sunshine', 'telluria', 'tfboy', 'ticketmaster', 'top20', 'twitter', 'union', 'v2', 'vat', 'vba', 'vday', 'vermilion', 'vi', 'villa3', 'w2018', 'waddington', 'webcache', 'weyvv7', 'wifi', 'win', 'wintour', 'x80', 'xrapid', 'zero', 'zoo'] not in stop_words.\n",
            "  'stop_words.' % sorted(inconsistent))\n"
          ],
          "name": "stderr"
        },
        {
          "output_type": "execute_result",
          "data": {
            "text/plain": [
              "(53360, 9000)"
            ]
          },
          "metadata": {
            "tags": []
          },
          "execution_count": 136
        }
      ]
    },
    {
      "cell_type": "code",
      "metadata": {
        "colab": {
          "base_uri": "https://localhost:8080/"
        },
        "id": "b8tV_ZOZyrzp",
        "outputId": "a1d76762-30d0-483f-e7a2-cf345ffcf2aa"
      },
      "source": [
        "x_train, x_valid, y_train, y_valid = train_test_split(X, df_train['label'], test_size=0.2)\n",
        "print(x_train.shape)\n",
        "print(y_train.shape)\n",
        "print(x_valid.shape)\n",
        "print(y_valid.shape)"
      ],
      "execution_count": 137,
      "outputs": [
        {
          "output_type": "stream",
          "text": [
            "(42688, 9000)\n",
            "(42688,)\n",
            "(10672, 9000)\n",
            "(10672,)\n"
          ],
          "name": "stdout"
        }
      ]
    },
    {
      "cell_type": "code",
      "metadata": {
        "colab": {
          "base_uri": "https://localhost:8080/"
        },
        "id": "ufB27sZnzysJ",
        "outputId": "1385edf7-0711-4a1d-c085-3fb597a94713"
      },
      "source": [
        "rf = RandomForestClassifier()\n",
        "rf.fit(x_train, y_train)\n",
        "y_pre = rf.predict(x_valid)\n",
        "accuracy_score(y_pre, y_valid)"
      ],
      "execution_count": 138,
      "outputs": [
        {
          "output_type": "execute_result",
          "data": {
            "text/plain": [
              "0.5002811094452774"
            ]
          },
          "metadata": {
            "tags": []
          },
          "execution_count": 138
        }
      ]
    }
  ]
}