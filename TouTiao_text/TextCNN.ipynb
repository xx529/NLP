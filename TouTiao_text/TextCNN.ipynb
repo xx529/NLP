{
  "nbformat": 4,
  "nbformat_minor": 0,
  "metadata": {
    "kernelspec": {
      "display_name": "Python 3",
      "language": "python",
      "name": "python3"
    },
    "language_info": {
      "codemirror_mode": {
        "name": "ipython",
        "version": 3
      },
      "file_extension": ".py",
      "mimetype": "text/x-python",
      "name": "python",
      "nbconvert_exporter": "python",
      "pygments_lexer": "ipython3",
      "version": "3.8.5"
    },
    "colab": {
      "name": "TextCNN.ipynb",
      "provenance": [],
      "toc_visible": true
    }
  },
  "cells": [
    {
      "cell_type": "markdown",
      "metadata": {
        "id": "1bNzIh5DPXPe"
      },
      "source": [
        "# TextCNN\n",
        "1. 预训练词向量\n",
        "2. TextCNN网络"
      ]
    },
    {
      "cell_type": "code",
      "metadata": {
        "id": "XM-33a4aPehC",
        "outputId": "09a4cad8-e5e3-4a68-fd5a-38481efb8f32",
        "colab": {
          "base_uri": "https://localhost:8080/"
        }
      },
      "source": [
        "from google.colab import \n",
        "drive.mount('/content/drive')"
      ],
      "execution_count": 1,
      "outputs": [
        {
          "output_type": "stream",
          "text": [
            "Mounted at /content/drive\n"
          ],
          "name": "stdout"
        }
      ]
    },
    {
      "cell_type": "markdown",
      "metadata": {
        "id": "auMo0DkZcC6N"
      },
      "source": [
        "# Content Preprocessing"
      ]
    },
    {
      "cell_type": "code",
      "metadata": {
        "id": "dh4T-EovPn0c"
      },
      "source": [
        "import bz2\n",
        "import numpy as np\n",
        "import pandas as pd\n",
        "import matplotlib.pyplot as plt\n",
        "import jieba"
      ],
      "execution_count": 26,
      "outputs": []
    },
    {
      "cell_type": "markdown",
      "metadata": {
        "id": "4QC3BEBYej5I"
      },
      "source": [
        "## word vector\n",
        "\n",
        "从词向量预训练模型中建立词到向量映射"
      ]
    },
    {
      "cell_type": "code",
      "metadata": {
        "id": "Z3BTphVTPurd"
      },
      "source": [
        "with bz2.open('/content/drive/MyDrive/Colab Notebooks Project/NLP/TouTiao_text/sgns.weibo.word.bz2') as f:\n",
        "    info, *content = [x.decode('utf-8') for x in f.readlines()]"
      ],
      "execution_count": 15,
      "outputs": []
    },
    {
      "cell_type": "code",
      "metadata": {
        "id": "tenLOsX-agSp"
      },
      "source": [
        "word_to_vector = {}\n",
        "\n",
        "for ls in content:\n",
        "    word, *vector = ls.split()\n",
        "    word_to_vector[word] = np.array(vector).astype(np.float64)\n",
        "\n",
        "vector_dim = int(info.split()[1])\n",
        "word_to_vector['UNK'] = np.random.random(size=vector_dim)\n",
        "word_to_vector['PAD'] = np.random.random(size=vector_dim)"
      ],
      "execution_count": 79,
      "outputs": []
    },
    {
      "cell_type": "markdown",
      "metadata": {
        "id": "gbYFW9C-e7_9"
      },
      "source": [
        "## training data\n",
        "\n",
        "对训练数据的词转化成对应的id，如果预训练没有的词则统一变成‘UNK’标识 "
      ]
    },
    {
      "cell_type": "code",
      "metadata": {
        "id": "zOY59RyIWbwV",
        "outputId": "856bcc90-ef96-4165-a7a4-d5068fab3f6e",
        "colab": {
          "base_uri": "https://localhost:8080/"
        }
      },
      "source": [
        "df_data = pd.read_csv('/content/drive/MyDrive/Colab Notebooks Project/NLP/TouTiao_text/train.csv')\n",
        "df_data['sentence_cut'] = df_data['sentence'].apply(jieba.lcut)\n",
        "df_data.info()"
      ],
      "execution_count": 34,
      "outputs": [
        {
          "output_type": "stream",
          "text": [
            "<class 'pandas.core.frame.DataFrame'>\n",
            "RangeIndex: 53360 entries, 0 to 53359\n",
            "Data columns (total 5 columns):\n",
            " #   Column        Non-Null Count  Dtype \n",
            "---  ------        --------------  ----- \n",
            " 0   id            53360 non-null  int64 \n",
            " 1   label         53360 non-null  int64 \n",
            " 2   label_desc    53360 non-null  object\n",
            " 3   sentence      53360 non-null  object\n",
            " 4   sentence_cut  53360 non-null  object\n",
            "dtypes: int64(2), object(3)\n",
            "memory usage: 2.0+ MB\n"
          ],
          "name": "stdout"
        }
      ]
    },
    {
      "cell_type": "code",
      "metadata": {
        "id": "dPxADFMtXDDZ"
      },
      "source": [
        "word_to_id = {'UNK': 0, 'PAD': 1}\n",
        "id_to_word = {0: 'UNK', 1: 'PAD'}\n",
        "id_for_sentence = []\n",
        "\n",
        "id = 2\n",
        "for sentence in df_data['sentence_cut']:\n",
        "    id_list = []\n",
        "    for word in sentence:\n",
        "        \n",
        "        if word not in word_to_id:\n",
        "            word_to_id[word] = id\n",
        "            id_to_word[id] = word\n",
        "            id += 1\n",
        "        \n",
        "        if word in word_to_vector:\n",
        "            id_list.append(word_to_id[word])\n",
        "        else:\n",
        "            id_list.append(word_to_id['UNK'])\n",
        "\n",
        "    id_for_sentence.append(id_list)\n",
        "\n",
        "df_data['id_for_sentence'] = id_for_sentence"
      ],
      "execution_count": 81,
      "outputs": []
    },
    {
      "cell_type": "code",
      "metadata": {
        "id": "MbpXq_NPZqKm",
        "outputId": "917e880b-e63f-4c62-e314-73406f46232a",
        "colab": {
          "base_uri": "https://localhost:8080/"
        }
      },
      "source": [
        "df_data['id_for_sentence']"
      ],
      "execution_count": 91,
      "outputs": [
        {
          "output_type": "execute_result",
          "data": {
            "text/plain": [
              "0        [2, 3, 4, 0, 6, 7, 8, 9, 10, 4, 11, 12, 7, 13,...\n",
              "1        [0, 25, 26, 27, 28, 29, 30, 0, 32, 33, 34, 35,...\n",
              "2        [43, 44, 33, 45, 12, 46, 7, 47, 48, 49, 12, 7,...\n",
              "3                  [56, 35, 57, 58, 59, 60, 0, 62, 63, 23]\n",
              "4               [64, 37, 65, 66, 7, 0, 68, 69, 70, 71, 72]\n",
              "                               ...                        \n",
              "53355    [464, 508, 331, 0, 20314, 1101, 88, 1101, 1698...\n",
              "53356        [1577, 5745, 174, 92, 52371, 60429, 37, 3462]\n",
              "53357    [67812, 956, 67813, 67814, 1444, 75, 14028, 80...\n",
              "53358    [127, 117, 663, 37, 550, 4663, 7, 12096, 1016,...\n",
              "53359    [11794, 45079, 43303, 448, 7, 6323, 4932, 333,...\n",
              "Name: id_for_sentence, Length: 53360, dtype: object"
            ]
          },
          "metadata": {
            "tags": []
          },
          "execution_count": 91
        }
      ]
    },
    {
      "cell_type": "markdown",
      "metadata": {
        "id": "5FKuo6PHeDUY"
      },
      "source": [
        "## embedding matrix"
      ]
    },
    {
      "cell_type": "code",
      "metadata": {
        "id": "eV9saA8Qf6xs"
      },
      "source": [
        ""
      ],
      "execution_count": null,
      "outputs": []
    }
  ]
}