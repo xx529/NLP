{
 "cells": [
  {
   "cell_type": "markdown",
   "metadata": {},
   "source": [
    "## 业务场景介绍"
   ]
  },
  {
   "cell_type": "markdown",
   "metadata": {},
   "source": [
    "任务类型：文本分类\n",
    "\n",
    "任务介绍：由清华大学根据新浪新闻RSS订阅频道2005-2011年间的历史数据筛选过滤，根据文本内容进行分类预测。\n",
    "\n",
    "数据集内容：\n",
    "1. 训练集 50000\n",
    "2. 验证集 5000\n",
    "3. 测试集 10000\n",
    "4. 词汇（字） 5000\n",
    "5. 10个分类，包括：'体育', '财经', '房产', '家居', '教育', '科技', '时尚', '时政', '游戏', '娱乐'\n"
   ]
  },
  {
   "cell_type": "markdown",
   "metadata": {},
   "source": [
    "## 模块导包"
   ]
  },
  {
   "cell_type": "code",
   "execution_count": 35,
   "metadata": {},
   "outputs": [],
   "source": [
    "import torch\n",
    "import torch.nn as nn\n",
    "import torch.nn.functional as F\n",
    "from torch.utils.data import TensorDataset, DataLoader\n",
    "import torchvision.models as models\n",
    "import re\n",
    "import numpy as np\n",
    "from torch import optim\n",
    "import matplotlib.pyplot as plt\n",
    "from torchvision import transforms\n",
    "from collections import defaultdict\n",
    "import time\n",
    "import pandas as pd\n",
    "import os"
   ]
  },
  {
   "cell_type": "markdown",
   "metadata": {},
   "source": [
    "## txt格式转换工具"
   ]
  },
  {
   "cell_type": "code",
   "execution_count": 64,
   "metadata": {},
   "outputs": [],
   "source": [
    "class TextTransform():\n",
    "    def __init__(self, vocabulary_path, labels):\n",
    "        self.vocab = self.vocab_to_dict(vocabulary_path)\n",
    "        self.labels = self.labels_to_dict(labels)\n",
    "    \n",
    "    # 将词语转换成id\n",
    "    def vocab_to_dict(self, vocabulary_path):\n",
    "        with open(vocabulary_path, 'r', encoding='utf-8', errors='ignore') as f:\n",
    "            vocab_list = f.read().split('\\n')\n",
    "            return dict(zip(vocab_list, range(len(vocab_list))))\n",
    "    \n",
    "    # 将标签列表转化成字典\n",
    "    def labels_to_dict(self, labels):\n",
    "        return dict(zip(labels, range(len(labels))))\n",
    "    \n",
    "    # 文本文件数据转换\n",
    "    def transform(self, article_path, max_length):\n",
    "        new_types, articals = self.read_file(article_path)\n",
    "        X = self.read_content(articals, max_length)\n",
    "        y = self.labels_to_onehot(new_types)\n",
    "        return X, y\n",
    "    \n",
    "    # 读取txt文件\n",
    "    def read_file(self, file_path):\n",
    "        with open(file_path, 'r', encoding='utf-8', errors='ignore') as f:\n",
    "            text = f.readlines()   \n",
    "        new_types = [re.split('[\\t|\\n]', x)[0] for x in text]\n",
    "        articals = [re.split('[\\t|\\n]', x)[1] for x in text]\n",
    "        return new_types, articals\n",
    "    \n",
    "    # 将文本内容转化成id\n",
    "    def read_content(self, contents, max_length):\n",
    "        content_array = np.zeros(shape=(len(contents), max_length))\n",
    "        for idx, content in enumerate(contents):\n",
    "            content_id_list = [self.vocab[x] for x in content if x in self.vocab][:max_length]\n",
    "            # pad操作\n",
    "            content_len = len(content_id_list)\n",
    "            if content_len != max_length:\n",
    "                content_id_list = [0 for x in range(max_length-content_len)] + content_id_list\n",
    "            content_array[idx] = content_id_list\n",
    "        return content_array\n",
    "    \n",
    "    # 将标签转化成onehot编码\n",
    "    def labels_to_onehot(self, labels):\n",
    "        label_array = np.zeros(shape=(len(labels),len(self.labels)))\n",
    "        for idx, label in enumerate(labels):\n",
    "            label_id = self.labels[label]\n",
    "            label_array[idx, label_id] = 1\n",
    "        return label_array"
   ]
  },
  {
   "cell_type": "markdown",
   "metadata": {},
   "source": [
    "## RNN模型（Embedding + RNN / LSTM / GRU + MLP）"
   ]
  },
  {
   "cell_type": "code",
   "execution_count": 27,
   "metadata": {},
   "outputs": [],
   "source": [
    "class RNN(nn.Module):\n",
    "    def __init__(self, strategy='RNN'):\n",
    "        super(RNN, self).__init__()\n",
    "        self.strategy = strategy\n",
    "        self.embedding = nn.Embedding(5000, 64)\n",
    "        self.gru = nn.GRU(\n",
    "            input_size=64,\n",
    "            hidden_size=128,\n",
    "            num_layers=2,\n",
    "            bidirectional=True,\n",
    "            bias=True\n",
    "        )\n",
    "        \n",
    "        self.rnn = nn.RNN(\n",
    "            input_size=64,\n",
    "            hidden_size=128,\n",
    "            num_layers=2,\n",
    "            bidirectional=True,\n",
    "            bias=True\n",
    "        )\n",
    "        \n",
    "        self.lstm = nn.LSTM(\n",
    "            input_size=64,\n",
    "            hidden_size=128,\n",
    "            num_layers=2,\n",
    "            bidirectional=True,\n",
    "            bias=True\n",
    "        )\n",
    "        \n",
    "        self.f1 = nn.Sequential(\n",
    "            nn.Linear(256, 128),\n",
    "            nn.Dropout(0.8),\n",
    "            nn.ReLU(),\n",
    "        )\n",
    "        \n",
    "        self.f2 = nn.Sequential(\n",
    "            nn.Linear(128,10),\n",
    "            nn.Softmax(dim=1)\n",
    "        )\n",
    "        \n",
    "    def forward(self, x):\n",
    "        x = self.embedding(x)  # 输出的每个batch的每一行代表那个字的embedding向量\n",
    "        \n",
    "        if self.strategy == 'RNN':\n",
    "            x, _ = self.rnn(x)  # 输出所有时间步的状态，和最后一个时间步的隐状态\n",
    "        if self.strategy == 'GRU':\n",
    "            x, _ = self.gru(x)  # 输出所有时间步的状态，和最后一个时间步的隐状态\n",
    "        if self.strategy == 'LSTM':\n",
    "            x, _ = self.lstm(x)  # 输出所有时间步的状态，和最后一个时间步的隐状态\n",
    "        \n",
    "        x = F.dropout(x, p=0.8)\n",
    "        x_linear = x[:,-1,:]\n",
    "        x_linear = self.f1(x_linear)\n",
    "        y = self.f2(x_linear)\n",
    "        return y"
   ]
  },
  {
   "cell_type": "markdown",
   "metadata": {},
   "source": [
    "## CNN模型（Embedding + AlexNet + MLP）"
   ]
  },
  {
   "cell_type": "code",
   "execution_count": 28,
   "metadata": {},
   "outputs": [],
   "source": [
    "class CNN(nn.Module):\n",
    "    def __init__(self):\n",
    "        super(CNN, self).__init__()\n",
    "        self.embedding = nn.Embedding(5000, 500)\n",
    "        self.Alexnet = models.alexnet()\n",
    "        self.conv = nn.Sequential(\n",
    "            nn.Conv2d(1, 3, kernel_size=(2, 2), stride=2),\n",
    "            nn.ReLU(),\n",
    "            nn.MaxPool2d(kernel_size=(24, 24), stride=1)\n",
    "        )\n",
    "        self.fc = nn.Sequential(\n",
    "            nn.Linear(1000, 512),\n",
    "            nn.ReLU(),\n",
    "            nn.Linear(512, 128),\n",
    "            nn.ReLU(),\n",
    "            nn.Linear(128, 10),\n",
    "            nn.Softmax(dim=1)\n",
    "        )\n",
    "\n",
    "    def forward(self, x):\n",
    "        x = self.embedding(x)\n",
    "        x = torch.unsqueeze(x, 1)\n",
    "        x = self.conv(x)\n",
    "        x = self.Alexnet(x)\n",
    "        y = self.fc(x)\n",
    "        return y"
   ]
  },
  {
   "cell_type": "markdown",
   "metadata": {},
   "source": [
    "## 数据准备"
   ]
  },
  {
   "cell_type": "code",
   "execution_count": 65,
   "metadata": {},
   "outputs": [],
   "source": [
    "# 文本数据转换\n",
    "labels_list = ['体育', '财经', '房产', '家居', '教育', '科技', '时尚', '时政', '游戏', '娱乐']\n",
    "txt_transform = TextTransform('./cnews.vocab.txt', labels_list)\n",
    "x_train, y_train = txt_transform.transform('./cnews.train.txt', max_length=500)\n",
    "x_val, y_val = txt_transform.transform('./cnews.val.txt', max_length=500)\n",
    "x_test, y_test = txt_transform.transform('./cnews.test.txt', max_length=500)\n",
    "\n",
    "# 转换成tensor\n",
    "x_train_tensor = torch.LongTensor(x_train)[:100]\n",
    "y_train_tensor = torch.LongTensor(y_train)[:100]\n",
    "\n",
    "x_val_tensor = torch.LongTensor(x_val)[:100]\n",
    "y_val_tensor = torch.LongTensor(y_val)[:100]\n",
    "\n",
    "x_test_tensor = torch.LongTensor(x_test)[:100]\n",
    "y_test_tensor = torch.LongTensor(y_test)[:100]\n",
    "\n",
    "y_train_tensor = y_train_tensor.argmax(axis=1)\n",
    "y_val_tensor = y_val_tensor.argmax(axis=1)\n",
    "y_test_tensor = y_test_tensor.argmax(axis=1)\n",
    "\n",
    "# 加载到DataLoader\n",
    "data_train = TensorDataset(x_train_tensor, y_train_tensor)\n",
    "dataloader_train = DataLoader(dataset=data_train, batch_size=256, shuffle=True)\n",
    "\n",
    "data_val = TensorDataset(x_val_tensor, y_val_tensor)\n",
    "dataloader_val = DataLoader(dataset=data_val, batch_size=256)\n",
    "\n",
    "data_test = TensorDataset(x_test_tensor, y_test_tensor)\n",
    "dataloader_test = DataLoader(dataset=data_test, batch_size=256)"
   ]
  },
  {
   "cell_type": "markdown",
   "metadata": {},
   "source": [
    "## 模型训练"
   ]
  },
  {
   "cell_type": "code",
   "execution_count": 66,
   "metadata": {
    "scrolled": true
   },
   "outputs": [
    {
     "name": "stderr",
     "output_type": "stream",
     "text": [
      "/opt/conda/lib/python3.7/site-packages/torch/serialization.py:402: UserWarning: Couldn't retrieve source code for container of type RNN. It won't be checked for correctness upon loading.\n",
      "  \"type \" + obj.__name__ + \". It won't be checked \"\n"
     ]
    },
    {
     "name": "stdout",
     "output_type": "stream",
     "text": [
      "RNN: epoch(0), val accuracy:2.00%, epoch time:2.77s\n",
      "RNN: epoch(1), val accuracy:2.00%, epoch time:2.69s\n",
      "GRU: epoch(0), val accuracy:18.00%, epoch time:4.05s\n",
      "GRU: epoch(1), val accuracy:35.00%, epoch time:4.10s\n",
      "LSTM: epoch(0), val accuracy:57.00%, epoch time:4.44s\n",
      "LSTM: epoch(1), val accuracy:75.00%, epoch time:4.41s\n"
     ]
    }
   ],
   "source": [
    "# 训练报告信息保存字典\n",
    "sumary_dict = {'Model': [], 'Time Per Epoch(s)': [], 'Best Val Accuracy(%)': [], 'Test Accuracy(%)': [], 'File Size(MB)': []}\n",
    "loss_record = defaultdict(list)\n",
    "accuracy_record = defaultdict(list)\n",
    "\n",
    "# 定义超参数\n",
    "LR = 0.001\n",
    "EPOCH = 2\n",
    "model_nn = {'RNN': RNN(strategy='RNN'), \n",
    "            'GRU': RNN(strategy='GRU'),\n",
    "            'LSTM': RNN(strategy='LSTM'),\n",
    "#             'CNN': CNN()\n",
    "           }\n",
    "\n",
    "for name in model_nn:\n",
    "    \n",
    "    # 初始化信息记录\n",
    "    val_best_accuracy = 0\n",
    "    time_record = 0\n",
    "    \n",
    "    # 加载模型\n",
    "    model = model_nn[name]\n",
    "    save_path = '{}_beat_model.pt'.format(name)\n",
    "    \n",
    "    # 加载GPU\n",
    "    device = torch.device('cuda' if torch.cuda.is_available() else 'cpu')\n",
    "    model.to(device)\n",
    "\n",
    "    # 损失函数、优化器\n",
    "    loss_fun = nn.CrossEntropyLoss()\n",
    "    optimizer = optim.Adam(model.parameters(), lr=LR)\n",
    "\n",
    "    for epoch in range(EPOCH):\n",
    "        start = time.time()\n",
    "        # 模型训练\n",
    "        for i, data in enumerate(dataloader_train):\n",
    "            x, y = data\n",
    "            x, y = x.to(device), y.to(device)\n",
    "            out = model(x)\n",
    "            loss = loss_fun(out, y)\n",
    "            optimizer.zero_grad()\n",
    "            loss.backward()\n",
    "            optimizer.step()\n",
    "            loss_record[name].append(loss.item())\n",
    "        \n",
    "        # 保存验证集效果最好的模型\n",
    "        samples = 0\n",
    "        correct = 0\n",
    "        for data in dataloader_val:\n",
    "            x, y = data\n",
    "            x, y = x.to(device), y.to(device)\n",
    "            out = model(x).argmax(axis=1)\n",
    "            correct += (out==y).sum().item()\n",
    "            samples += out.size()[0]\n",
    "        accuracy = correct/samples\n",
    "        accuracy_record[name].append(accuracy)\n",
    "        if val_best_accuracy < accuracy:\n",
    "            torch.save(model, save_path)\n",
    "            val_best_accuracy = accuracy\n",
    "\n",
    "        end = time.time()\n",
    "        time_record += (end - start) / EPOCH\n",
    "        \n",
    "        # 输出训练情况\n",
    "        print('{}: epoch({}), val accuracy:{:.2f}%, epoch time:{:.2f}s, val_accuracy{:.2f}'.format(\n",
    "            name, epoch, accuracy*100, end-start), accuracy)\n",
    "    \n",
    "    # 信息保存\n",
    "    sumary_dict['Model'].append(name)\n",
    "    sumary_dict['Time Per Epoch(s)'].append(round(time_record,2))\n",
    "    sumary_dict['Best Val Accuracy(%)'].append(val_best_accuracy)"
   ]
  },
  {
   "cell_type": "markdown",
   "metadata": {},
   "source": [
    "## 训练情况"
   ]
  },
  {
   "cell_type": "code",
   "execution_count": 67,
   "metadata": {
    "scrolled": true
   },
   "outputs": [
    {
     "data": {
      "image/png": "[encoded data removed]",
      "text/plain": [
       "<Figure size 1080x288 with 2 Axes>"
      ]
     },
     "metadata": {
      "needs_background": "light"
     },
     "output_type": "display_data"
    }
   ],
   "source": [
    "# 查看损失函数和验证集准确率情况\n",
    "fig, axs = plt.subplots(1, 2, figsize=(15, 4))\n",
    "for name in loss_record:\n",
    "    axs[0].plot(loss_record[name], label=name)\n",
    "    axs[0].legend(loc='best')\n",
    "    axs[0].grid()\n",
    "    axs[0].set_title('Loss Record')\n",
    "    axs[1].plot(accuracy_record[name], label=name)\n",
    "    axs[1].legend(loc='best')\n",
    "    axs[1].grid()\n",
    "    axs[1].set_title('Accuracy Record')\n",
    "\n",
    "plt.show()"
   ]
  },
  {
   "cell_type": "markdown",
   "metadata": {},
   "source": [
    "## 模型总结"
   ]
  },
  {
   "cell_type": "code",
   "execution_count": 68,
   "metadata": {
    "scrolled": true
   },
   "outputs": [
    {
     "data": {
      "text/html": [
       "<div>\n",
       "<style scoped>\n",
       "    .dataframe tbody tr th:only-of-type {\n",
       "        vertical-align: middle;\n",
       "    }\n",
       "\n",
       "    .dataframe tbody tr th {\n",
       "        vertical-align: top;\n",
       "    }\n",
       "\n",
       "    .dataframe thead th {\n",
       "        text-align: right;\n",
       "    }\n",
       "</style>\n",
       "<table border=\"1\" class=\"dataframe\">\n",
       "  <thead>\n",
       "    <tr style=\"text-align: right;\">\n",
       "      <th></th>\n",
       "      <th>Model</th>\n",
       "      <th>Time Per Epoch(s)</th>\n",
       "      <th>Best Val Accuracy(%)</th>\n",
       "      <th>Test Accuracy(%)</th>\n",
       "      <th>File Size(MB)</th>\n",
       "    </tr>\n",
       "  </thead>\n",
       "  <tbody>\n",
       "    <tr>\n",
       "      <th>0</th>\n",
       "      <td>RNN</td>\n",
       "      <td>2.73</td>\n",
       "      <td>0.02</td>\n",
       "      <td>0.05</td>\n",
       "      <td>6.22</td>\n",
       "    </tr>\n",
       "    <tr>\n",
       "      <th>1</th>\n",
       "      <td>GRU</td>\n",
       "      <td>4.07</td>\n",
       "      <td>0.35</td>\n",
       "      <td>0.26</td>\n",
       "      <td>6.22</td>\n",
       "    </tr>\n",
       "    <tr>\n",
       "      <th>2</th>\n",
       "      <td>LSTM</td>\n",
       "      <td>4.43</td>\n",
       "      <td>0.75</td>\n",
       "      <td>0.81</td>\n",
       "      <td>6.22</td>\n",
       "    </tr>\n",
       "  </tbody>\n",
       "</table>\n",
       "</div>"
      ],
      "text/plain": [
       "  Model  Time Per Epoch(s)  Best Val Accuracy(%)  Test Accuracy(%)  \\\n",
       "0   RNN               2.73                  0.02              0.05   \n",
       "1   GRU               4.07                  0.35              0.26   \n",
       "2  LSTM               4.43                  0.75              0.81   \n",
       "\n",
       "   File Size(MB)  \n",
       "0           6.22  \n",
       "1           6.22  \n",
       "2           6.22  "
      ]
     },
     "execution_count": 68,
     "metadata": {},
     "output_type": "execute_result"
    }
   ],
   "source": [
    "for model_name in model_nn.keys():\n",
    "    model_path = './{}_beat_model.pt'.format(model_name)\n",
    "    model = torch.load(model_path)\n",
    "    samples = 0\n",
    "    correct = 0\n",
    "    for data in dataloader_test:\n",
    "        x, y = data\n",
    "        x, y = x.to(device), y.to(device)\n",
    "        out = model(x).argmax(axis=1)\n",
    "        correct += (out==y).sum().item()\n",
    "        samples += out.size()[0]\n",
    "        test_accuracy = round(correct/samples, 2)\n",
    "    \n",
    "    sumary_dict['Test Accuracy(%)'].append(test_accuracy)\n",
    "    sumary_dict['File Size(MB)'].append(round(os.path.getsize(model_path)/1000000, 2))\n",
    "\n",
    "pd.DataFrame(sumary_dict)"
   ]
  },
  {
   "cell_type": "code",
   "execution_count": null,
   "metadata": {},
   "outputs": [],
   "source": []
  }
 ],
 "metadata": {
  "kernelspec": {
   "display_name": "Python 3",
   "language": "python",
   "name": "python3"
  },
  "language_info": {
   "codemirror_mode": {
    "name": "ipython",
    "version": 3
   },
   "file_extension": ".py",
   "mimetype": "text/x-python",
   "name": "python",
   "nbconvert_exporter": "python",
   "pygments_lexer": "ipython3",
   "version": "3.7.6"
  }
 },
 "nbformat": 4,
 "nbformat_minor": 4
}
