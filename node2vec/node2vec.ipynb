{
 "cells": [
  {
   "cell_type": "markdown",
   "metadata": {},
   "source": [
    "# mode2vec"
   ]
  },
  {
   "cell_type": "code",
   "execution_count": 74,
   "metadata": {},
   "outputs": [],
   "source": [
    "import pandas as pd\n",
    "from node2vec import Node2Vec\n",
    "import networkx as nx\n",
    "from sklearn.preprocessing import MinMaxScaler\n",
    "from sklearn.decomposition import PCA\n",
    "import matplotlib.pyplot as plt\n",
    "import numpy as np"
   ]
  },
  {
   "cell_type": "code",
   "execution_count": 4,
   "metadata": {},
   "outputs": [
    {
     "data": {
      "text/html": [
       "<div>\n",
       "<style scoped>\n",
       "    .dataframe tbody tr th:only-of-type {\n",
       "        vertical-align: middle;\n",
       "    }\n",
       "\n",
       "    .dataframe tbody tr th {\n",
       "        vertical-align: top;\n",
       "    }\n",
       "\n",
       "    .dataframe thead th {\n",
       "        text-align: right;\n",
       "    }\n",
       "</style>\n",
       "<table border=\"1\" class=\"dataframe\">\n",
       "  <thead>\n",
       "    <tr style=\"text-align: right;\">\n",
       "      <th></th>\n",
       "      <th>source</th>\n",
       "      <th>target</th>\n",
       "      <th>depth</th>\n",
       "    </tr>\n",
       "  </thead>\n",
       "  <tbody>\n",
       "    <tr>\n",
       "      <th>0</th>\n",
       "      <td>life insurance</td>\n",
       "      <td>corporate-owned life insurance</td>\n",
       "      <td>1</td>\n",
       "    </tr>\n",
       "    <tr>\n",
       "      <th>1</th>\n",
       "      <td>life insurance</td>\n",
       "      <td>critical illness insurance</td>\n",
       "      <td>1</td>\n",
       "    </tr>\n",
       "    <tr>\n",
       "      <th>2</th>\n",
       "      <td>life insurance</td>\n",
       "      <td>economic capital</td>\n",
       "      <td>1</td>\n",
       "    </tr>\n",
       "    <tr>\n",
       "      <th>3</th>\n",
       "      <td>life insurance</td>\n",
       "      <td>estate planning</td>\n",
       "      <td>1</td>\n",
       "    </tr>\n",
       "    <tr>\n",
       "      <th>4</th>\n",
       "      <td>life insurance</td>\n",
       "      <td>false insurance claims</td>\n",
       "      <td>1</td>\n",
       "    </tr>\n",
       "    <tr>\n",
       "      <th>3739</th>\n",
       "      <td>health system</td>\n",
       "      <td>two-tier health care</td>\n",
       "      <td>4</td>\n",
       "    </tr>\n",
       "    <tr>\n",
       "      <th>3740</th>\n",
       "      <td>health system</td>\n",
       "      <td>universal health care</td>\n",
       "      <td>4</td>\n",
       "    </tr>\n",
       "    <tr>\n",
       "      <th>3741</th>\n",
       "      <td>health administration</td>\n",
       "      <td>master of health administration</td>\n",
       "      <td>4</td>\n",
       "    </tr>\n",
       "    <tr>\n",
       "      <th>3742</th>\n",
       "      <td>health administration</td>\n",
       "      <td>nosokinetics</td>\n",
       "      <td>4</td>\n",
       "    </tr>\n",
       "    <tr>\n",
       "      <th>3743</th>\n",
       "      <td>ansi 834 enrollment implementation format</td>\n",
       "      <td>x12 document list</td>\n",
       "      <td>4</td>\n",
       "    </tr>\n",
       "  </tbody>\n",
       "</table>\n",
       "</div>"
      ],
      "text/plain": [
       "                                         source  \\\n",
       "0                                life insurance   \n",
       "1                                life insurance   \n",
       "2                                life insurance   \n",
       "3                                life insurance   \n",
       "4                                life insurance   \n",
       "3739                              health system   \n",
       "3740                              health system   \n",
       "3741                      health administration   \n",
       "3742                      health administration   \n",
       "3743  ansi 834 enrollment implementation format   \n",
       "\n",
       "                               target  depth  \n",
       "0      corporate-owned life insurance      1  \n",
       "1          critical illness insurance      1  \n",
       "2                    economic capital      1  \n",
       "3                     estate planning      1  \n",
       "4              false insurance claims      1  \n",
       "3739             two-tier health care      4  \n",
       "3740            universal health care      4  \n",
       "3741  master of health administration      4  \n",
       "3742                     nosokinetics      4  \n",
       "3743                x12 document list      4  "
      ]
     },
     "execution_count": 4,
     "metadata": {},
     "output_type": "execute_result"
    }
   ],
   "source": [
    "data = pd.read_csv('./seealsology-data.tsv', sep='\\t')\n",
    "data.head(5).append(data.tail(5))"
   ]
  },
  {
   "cell_type": "code",
   "execution_count": 88,
   "metadata": {},
   "outputs": [],
   "source": [
    "# 设置边权重\n",
    "data['weight'] = data['depth'].map({1: 1, 2: 0.75, 3: 0.5, 4: 0.25})\n",
    "\n",
    "# 创建图\n",
    "Graph = nx.DiGraph()\n",
    "Graph.add_weighted_edges_from([(i,j,k) for i, j, k in zip(data['source'], data['target'], data['weight'])])\n",
    "\n",
    "dim = 128\n",
    "# 随游走策略\n",
    "model_random = Node2Vec(Graph, dimensions=dim, walk_length=5, num_walks=15, p=1, q=1, quiet=True)\n",
    "result_random = model_random.fit(window=3, iter=20)\n",
    "\n",
    "# BFS策略\n",
    "model_BFS = Node2Vec(Graph, dimensions=dim, walk_length=5, num_walks=15, p=0.5, q=3, quiet=True)\n",
    "result_BFS = model_BFS.fit(window=3, iter=20)\n",
    "\n",
    "# DFS策略\n",
    "model_DFS = Node2Vec(Graph, dimensions=dim, walk_length=5, num_walks=15, p=3, q=0.5, quiet=True)\n",
    "result_DFS = model_DFS.fit(window=3, iter=20)"
   ]
  },
  {
   "cell_type": "code",
   "execution_count": 89,
   "metadata": {},
   "outputs": [
    {
     "name": "stdout",
     "output_type": "stream",
     "text": [
      "RAN ('health insurance coverage in the united states', 0.9985576868057251)\n",
      "BFS ('universal life insurance', 0.9978602528572083)\n",
      "DFS ('whole life insurance', 0.9985401630401611)\n"
     ]
    }
   ],
   "source": [
    "# 与 critical illness insurance 相似\n",
    "print('RAN', result_random.wv.most_similar('critical illness insurance')[0])\n",
    "print('BFS', result_BFS.wv.most_similar('critical illness insurance')[0])\n",
    "print('DFS', result_DFS.wv.most_similar('critical illness insurance')[0])"
   ]
  },
  {
   "cell_type": "code",
   "execution_count": 95,
   "metadata": {},
   "outputs": [
    {
     "data": {
      "image/png": "[encoded data removed]",
      "text/plain": [
       "<Figure size 1440x432 with 3 Axes>"
      ]
     },
     "metadata": {
      "needs_background": "light"
     },
     "output_type": "display_data"
    }
   ],
   "source": [
    "def scatter(result_model):\n",
    "    # 创建embedding矩阵\n",
    "    embeddings = result_model.wv\n",
    "    word_list = list(result_model.wv.vocab.keys())\n",
    "    matrix = np.array([embeddings[x] for x in word_list])\n",
    "\n",
    "    # 降维处理\n",
    "    pca = PCA(n_components=2)\n",
    "    result = pca.fit_transform(matrix)\n",
    "    return result\n",
    "\n",
    "s_random = scatter(result_random)\n",
    "s_BFS = scatter(result_BFS)\n",
    "s_DFS = scatter(result_DFS)\n",
    "\n",
    "\n",
    "# 可视化处理\n",
    "fig, ax = plt.subplots(1, 3, figsize=(20, 6), sharey=True, sharex=True)\n",
    "ax[0].scatter(s_random[:,0], s_random[:,1])\n",
    "ax[0].set_title('random')\n",
    "ax[1].scatter(s_BFS[:,0], s_BFS[:,1])\n",
    "ax[1].set_title('B F S')\n",
    "ax[2].scatter(s_DFS[:,0], s_DFS[:,1])\n",
    "ax[2].set_title('D F S')\n",
    "plt.show()"
   ]
  }
 ],
 "metadata": {
  "kernelspec": {
   "display_name": "Python 3",
   "language": "python",
   "name": "python3"
  },
  "language_info": {
   "codemirror_mode": {
    "name": "ipython",
    "version": 3
   },
   "file_extension": ".py",
   "mimetype": "text/x-python",
   "name": "python",
   "nbconvert_exporter": "python",
   "pygments_lexer": "ipython3",
   "version": "3.7.6"
  }
 },
 "nbformat": 4,
 "nbformat_minor": 4
}
