{
 "cells": [
  {
   "cell_type": "markdown",
   "metadata": {},
   "source": [
    "# 业务场景\n",
    "1. 任务：中英文自动翻译模型的构建\n",
    "2. 训练数据：22075条中英文翻译\n",
    "3. 主要技术：seq2seq模型，Encoder-Decoder框架，Teacher Frocing，Attention机制\n",
    "4. 评判标准：BLEU标准"
   ]
  },
  {
   "cell_type": "code",
   "execution_count": 1,
   "metadata": {},
   "outputs": [],
   "source": [
    "import re\n",
    "import jieba\n",
    "import torch\n",
    "import torch.nn as nn\n",
    "from torch import optim\n",
    "import matplotlib.pyplot as plt\n",
    "import random"
   ]
  },
  {
   "cell_type": "markdown",
   "metadata": {},
   "source": [
    "# 类定义"
   ]
  },
  {
   "cell_type": "markdown",
   "metadata": {},
   "source": [
    "## 字典类"
   ]
  },
  {
   "cell_type": "code",
   "execution_count": 2,
   "metadata": {},
   "outputs": [],
   "source": [
    "class Vocabulary():\n",
    "    def __init__(self, file_path):\n",
    "        self.data = self.read(file_path) \n",
    "        self.idx = {'english': 0, 'chinese': 1}\n",
    "        \n",
    "    def read(self, file_path):\n",
    "        with open(file_path, 'r') as f:\n",
    "            ori_data =  [x.split('\\t')[:-1] for x  in f.readlines()]\n",
    "        return [[re.sub('[。！？，：.!?,:]', '', en), re.sub('[。！？，：.!?,:]', '', cn)] for en, cn in ori_data]\n",
    "    \n",
    "    def make_dict(self, language='chinese', target=True):\n",
    "        i = self.idx[language]\n",
    "        word_set = set([y for x in self.data for y in self.cut_method(language)(x[i])])\n",
    "        if target:\n",
    "            word_to_id, id_to_word = {'<sos>': 0, '<eos>': 1, '<unk>': 2}, {0: '<sos>', 1: '<eos>', 2: '<unk>'}\n",
    "            word_to_id.update({word: idx+3 for idx, word in enumerate(word_set)})\n",
    "            id_to_word.update({idx+3: word for idx, word in enumerate(word_set)})\n",
    "        else:\n",
    "            word_to_id = {word: idx for idx, word in enumerate(word_set)}\n",
    "            id_to_word = {idx: word for idx, word in enumerate(word_set)}\n",
    "        return word_to_id, id_to_word\n",
    "    \n",
    "    def cut_method(self, language):\n",
    "        cut = {'chinese': jieba.lcut, 'english': self.nltk_cut}\n",
    "        return cut[language]\n",
    "    \n",
    "    def nltk_cut(self, sentence):\n",
    "        return sentence.split()"
   ]
  },
  {
   "cell_type": "markdown",
   "metadata": {},
   "source": [
    "## EncoderRNN"
   ]
  },
  {
   "cell_type": "code",
   "execution_count": 3,
   "metadata": {},
   "outputs": [],
   "source": [
    "class EncoderRNN(nn.Module):\n",
    "    def __init__(self, word_num, embedding_dim, gru_hidden_size, gru_num_layers):\n",
    "        super(EncoderRNN, self).__init__()\n",
    "        \n",
    "        # 固定参数\n",
    "        self.embedding_dim = embedding_dim\n",
    "        self.gru_hidden_size = gru_hidden_size\n",
    "        self.gru_num_layers = gru_num_layers\n",
    "        self.h0 = self.init_h0()\n",
    "        \n",
    "        # 定义网络\n",
    "        self.embedding = nn.Embedding(word_num, embedding_dim)\n",
    "        self.gru = nn.GRU(input_size=embedding_dim, hidden_size=self.gru_hidden_size)\n",
    "         \n",
    "    def forward(self, x):\n",
    "        x = self.embedding(x)\n",
    "        x = x.view(x.shape[1], 1, -1)  # gru input(seq_len, batch, input_size)\n",
    "        _, h = self.gru(x, self.h0) # output-> hiddens, hidden_last\n",
    "        return h\n",
    "    \n",
    "    def init_h0(self):\n",
    "        # h0 (num_layers * num_directions, batch, hidden_size)\n",
    "        tensor = torch.Tensor(self.gru_num_layers, 1, self.gru_hidden_size)\n",
    "        return nn.init.normal_(tensor)\n",
    "    \n",
    "    def sample(self, seq_list):\n",
    "        return self(seq_list)"
   ]
  },
  {
   "cell_type": "markdown",
   "metadata": {},
   "source": [
    "## DecoderRNN"
   ]
  },
  {
   "cell_type": "code",
   "execution_count": 4,
   "metadata": {},
   "outputs": [],
   "source": [
    "class DecoderRNN(nn.Module):\n",
    "    def __init__(self, word_num, embedding_dim, gru_hidden_size, gru_num_layers, strategy):\n",
    "        super(DecoderRNN, self).__init__()\n",
    "\n",
    "        # 固定参数\n",
    "        self.gru_hidden_size = gru_hidden_size\n",
    "        self.gru_num_layers = gru_num_layers\n",
    "        self.max_len = 10\n",
    "        self.strategy = strategy\n",
    "        self.max = 10\n",
    "\n",
    "        # 定义网络\n",
    "        self.embedding = nn.Embedding(word_num, embedding_dim)\n",
    "        self.gru = nn.GRU(input_size=embedding_dim, hidden_size=self.gru_hidden_size)\n",
    "        self.linear = nn.Linear(self.gru_hidden_size, word_num)\n",
    "        self.softmax = nn.LogSoftmax(dim=1)\n",
    "\n",
    "    def forward(self, x, h):\n",
    "        if self.strategy == 'base':\n",
    "            return self.base(x, h)\n",
    "        if self.strategy == 'Teacher Forcing':\n",
    "            return self.forcing(x, h)\n",
    "    \n",
    "    # base 基础模型\n",
    "    def base(self, x, h):\n",
    "        x = self.embedding(x)\n",
    "        x = x.view(1, 1, -1)\n",
    "        output_gru, h = self.gru(x, h)\n",
    "        output_linear = self.linear(output_gru).squeeze(0)\n",
    "        output_softmax = self.softmax(output_linear)\n",
    "        return output_softmax, h\n",
    "    \n",
    "    # Teacher Forcing 模型\n",
    "    def forcing(self, x, h):\n",
    "        x = self.embedding(x)\n",
    "        x = x.unsqueeze(1)\n",
    "        output_gru, _ = self.gru(x, h)\n",
    "        output_linear = self.linear(output_gru)\n",
    "        output_linear = output_linear.squeeze(1)\n",
    "        output_softmax = self.softmax(output_linear)\n",
    "        return output_softmax\n",
    "    \n",
    "    def sample(self, h):\n",
    "        res = []\n",
    "        x = torch.LongTensor([[0]])\n",
    "        for i in range(self.max):\n",
    "            output_softmax, h = self.base(x, h)\n",
    "            top_value, top_index = output_softmax.topk(1)\n",
    "            res.append(top_index.item())\n",
    "            x = top_index\n",
    "            if x == 1:\n",
    "                break\n",
    "        return res"
   ]
  },
  {
   "cell_type": "markdown",
   "metadata": {},
   "source": [
    "## Sample 执行"
   ]
  },
  {
   "cell_type": "code",
   "execution_count": 5,
   "metadata": {},
   "outputs": [],
   "source": [
    "def transform(seq_string, model_en, model_de):\n",
    "    seq_list = [2 if x not in en_to_id else en_to_id[x] for x in seq_string.split()]\n",
    "    x = torch.LongTensor([seq_list]).to(device)\n",
    "    h = model_en.sample(x)\n",
    "    res = model_de.sample(h)\n",
    "    return [cn_to_word[x] for x in res]"
   ]
  },
  {
   "cell_type": "markdown",
   "metadata": {},
   "source": [
    "# 数据读取"
   ]
  },
  {
   "cell_type": "code",
   "execution_count": 6,
   "metadata": {
    "scrolled": true
   },
   "outputs": [
    {
     "name": "stderr",
     "output_type": "stream",
     "text": [
      "Building prefix dict from the default dictionary ...\n",
      "Loading model from cache /tmp/jieba.cache\n",
      "Loading model cost 0.735 seconds.\n",
      "Prefix dict has been built successfully.\n"
     ]
    }
   ],
   "source": [
    "# 获取训练数据\n",
    "vocabulary = Vocabulary('./cmn.txt')\n",
    "train_pair = vocabulary.data\n",
    "cn_to_id, cn_to_word = vocabulary.make_dict(language='chinese', target=True)\n",
    "en_to_id, en_to_word = vocabulary.make_dict(language='english', target=False)\n",
    "\n",
    "# 转化成id的形式\n",
    "input_ori = [[en_to_id[y] for y in x[0].split()] for x in train_pair]\n",
    "label_ori = [[cn_to_id[y] for y in jieba.lcut(x[1])] for x in train_pair]\n",
    "\n",
    "# 随机抽取数据\n",
    "idx_list = set([random.randint(0, len(input_ori)) for _ in range (10)]) # 先抽10个训练数据测试\n",
    "input_data = [input_ori[x] for x in idx_list]\n",
    "label_data = [label_ori[x] for x in idx_list]"
   ]
  },
  {
   "cell_type": "markdown",
   "metadata": {},
   "source": [
    "# base 模型训练"
   ]
  },
  {
   "cell_type": "markdown",
   "metadata": {},
   "source": [
    "## 模型超参数定义"
   ]
  },
  {
   "cell_type": "code",
   "execution_count": 7,
   "metadata": {},
   "outputs": [],
   "source": [
    "# 定义超参数\n",
    "EPOCH = 1\n",
    "LEARN_RATE = 0.001\n",
    "word_embedding_dim = 128\n",
    "gru_hidden_size = 64\n",
    "gru_num_layers = 1\n",
    "\n",
    "# 定义GPU设备\n",
    "device =  torch.device(\"cuda:0\" if torch.cuda.is_available() else \"cpu\")\n",
    "\n",
    "# 创建encoder\n",
    "encoder_words_num = len(en_to_word)\n",
    "encoder = EncoderRNN(encoder_words_num, word_embedding_dim, gru_hidden_size, gru_num_layers).to(device) # word_num, embedding_dim\n",
    "\n",
    "# 创建decoder\n",
    "decoder_words_num = len(cn_to_word)\n",
    "decoder = DecoderRNN(decoder_words_num, word_embedding_dim, gru_hidden_size, gru_num_layers, strategy='base').to(device) # word_num, embedding_dim, strategy\n",
    "\n",
    "# 定义优化器\n",
    "parameters = list(encoder.parameters()) + list(decoder.parameters())\n",
    "optimizer = optim.Adam(parameters, lr=LEARN_RATE)\n",
    "\n",
    "# 定义损失函数\n",
    "loss_fun = nn.NLLLoss()"
   ]
  },
  {
   "cell_type": "markdown",
   "metadata": {},
   "source": [
    "## 模型训练"
   ]
  },
  {
   "cell_type": "code",
   "execution_count": 8,
   "metadata": {},
   "outputs": [
    {
     "name": "stdout",
     "output_type": "stream",
     "text": [
      "29.51605987548828\n",
      "76.44689178466797\n",
      "66.56350708007812\n",
      "115.451171875\n",
      "66.76393127441406\n",
      "76.93607330322266\n",
      "76.71173858642578\n",
      "66.13172912597656\n",
      "86.43363952636719\n",
      "56.936798095703125\n"
     ]
    }
   ],
   "source": [
    "loss_record = []\n",
    "for epoch in range(EPOCH):\n",
    "    for i, j in zip(input_data, label_data):\n",
    "        \n",
    "        # 数据转换成tensor并放进GPU\n",
    "        data_x = torch.LongTensor([i]).to(device)  # embedding input:(N, W), N_batch, W = 每个mini-batch中提取的下标数\n",
    "        data_y = torch.LongTensor(j+[1]).view(len(j)+1, -1).to(device)  # 添加结束符号到最后一个，并转换成符合loss函数的数据维度（batch， class_idx）\n",
    "\n",
    "        # 初始化损失值，清空梯度\n",
    "        loss = 0\n",
    "        optimizer.zero_grad()\n",
    "        \n",
    "        # encoder过程，获取最后一层隐向量C\n",
    "        vector_c = encoder(data_x)\n",
    "        \n",
    "        # decoder过程\n",
    "        x = torch.LongTensor([0]).to(device)  # decoder开始输入为索引0的'<sos>'\n",
    "        h = vector_c  # decoder的第一个隐藏状态为encoder的最后隐藏状态（PPT好像不是这样的）\n",
    "        for word_idx in data_y:\n",
    "            output_softmax, h = decoder(x, h)\n",
    "            loss += loss_fun(output_softmax, word_idx)\n",
    "            x = output_softmax.argmax().view(1,-1)\n",
    "        loss_record.append(loss.item())\n",
    "        print(loss.item())\n",
    "        \n",
    "        # 反向传播，参数更新\n",
    "        loss.backward()\n",
    "        optimizer.step()"
   ]
  },
  {
   "cell_type": "markdown",
   "metadata": {},
   "source": [
    "## loss曲线"
   ]
  },
  {
   "cell_type": "code",
   "execution_count": 9,
   "metadata": {},
   "outputs": [
    {
     "data": {
      "image/png": "[encoded data removed]",
      "text/plain": [
       "<Figure size 432x288 with 1 Axes>"
      ]
     },
     "metadata": {
      "needs_background": "light"
     },
     "output_type": "display_data"
    }
   ],
   "source": [
    "plt.plot(loss_record)\n",
    "plt.show()"
   ]
  },
  {
   "cell_type": "code",
   "execution_count": 10,
   "metadata": {},
   "outputs": [
    {
     "data": {
      "text/plain": [
       "['总让', '紅肉', '製', '试', '反感', '經理', '老朋友', '環顧', '耗費', '指南']"
      ]
     },
     "execution_count": 10,
     "metadata": {},
     "output_type": "execute_result"
    }
   ],
   "source": [
    "transform('i am good', encoder, decoder)"
   ]
  },
  {
   "cell_type": "markdown",
   "metadata": {},
   "source": [
    "# Teacher Forcing 模型训练"
   ]
  },
  {
   "cell_type": "markdown",
   "metadata": {},
   "source": [
    "## 模型超参数定义"
   ]
  },
  {
   "cell_type": "code",
   "execution_count": 11,
   "metadata": {},
   "outputs": [],
   "source": [
    "# 定义超参数\n",
    "EPOCH = 3\n",
    "LEARN_RATE = 0.001\n",
    "word_embedding_dim = 128\n",
    "gru_hidden_size = 64\n",
    "gru_num_layers = 1\n",
    "\n",
    "# 定义GPU设备\n",
    "device =  torch.device(\"cuda:0\" if torch.cuda.is_available() else \"cpu\")\n",
    "\n",
    "# 创建encoder\n",
    "encoder_words_num = len(en_to_word)\n",
    "encoder = EncoderRNN(encoder_words_num, word_embedding_dim, gru_hidden_size, gru_num_layers).to(device) # word_num, embedding_dim\n",
    "\n",
    "# 创建decoder\n",
    "decoder_words_num = len(cn_to_word)\n",
    "decoder_t = DecoderRNN(decoder_words_num, word_embedding_dim, gru_hidden_size, gru_num_layers, strategy='Teacher Forcing').to(device) # word_num, embedding_dim, strategy\n",
    "\n",
    "# 定义优化器\n",
    "parameters = list(encoder.parameters()) + list(decoder.parameters())\n",
    "optimizer = optim.Adam(parameters, lr=LEARN_RATE)\n",
    "\n",
    "# 定义损失函数\n",
    "loss_fun = nn.NLLLoss()"
   ]
  },
  {
   "cell_type": "markdown",
   "metadata": {},
   "source": [
    "## 模型训练"
   ]
  },
  {
   "cell_type": "code",
   "execution_count": 12,
   "metadata": {},
   "outputs": [
    {
     "name": "stdout",
     "output_type": "stream",
     "text": [
      "9.558117866516113\n",
      "9.570271492004395\n",
      "9.596956253051758\n",
      "9.55525016784668\n",
      "9.567291259765625\n",
      "9.528020858764648\n",
      "9.5988130569458\n",
      "9.601279258728027\n",
      "9.558696746826172\n",
      "9.500125885009766\n",
      "9.270623207092285\n",
      "9.538405418395996\n",
      "9.55985164642334\n",
      "9.53418254852295\n",
      "9.532029151916504\n",
      "9.496129035949707\n",
      "9.562631607055664\n",
      "9.571344375610352\n",
      "9.531841278076172\n",
      "9.453112602233887\n",
      "9.124052047729492\n",
      "9.518655776977539\n",
      "9.531651496887207\n",
      "9.517216682434082\n",
      "9.502301216125488\n",
      "9.467632293701172\n",
      "9.528735160827637\n",
      "9.540809631347656\n",
      "9.50303840637207\n",
      "9.404248237609863\n"
     ]
    }
   ],
   "source": [
    "loss_record = []\n",
    "for epoch in range(EPOCH):\n",
    "    for i, j in zip(input_data, label_data):\n",
    "        \n",
    "        # 数据转换成tensor并放进GPU\n",
    "        data_x = torch.LongTensor([i]).to(device)  # embedding input:(N, W), N_batch, W = 每个mini-batch中提取的下标数\n",
    "        label_data_y = torch.LongTensor(j+[1]).to(device)  # 添加结束符号到最后一个，并转换成符合loss函数的数据维度（batch， class_idx）\n",
    "        teacher_data_y = torch.LongTensor([0]+j).to(device)\n",
    "\n",
    "        # 初始化损失值，清空梯度\n",
    "        loss = 0\n",
    "        optimizer.zero_grad()\n",
    "        \n",
    "        # encoder过程，获取最后一层隐向量C\n",
    "        vector_c = encoder(data_x)\n",
    "        \n",
    "        # decoder过程\n",
    "        output_softmax =  decoder_t(teacher_data_y, vector_c)\n",
    "        \n",
    "        # 反向传播，参数更新\n",
    "        loss = loss_fun(output_softmax, label_data_y)\n",
    "        loss.backward()\n",
    "        optimizer.step()\n",
    "    \n",
    "        loss_record.append(loss.item())\n",
    "        print(loss.item())\n",
    "    "
   ]
  },
  {
   "cell_type": "markdown",
   "metadata": {},
   "source": [
    "## loss曲线"
   ]
  },
  {
   "cell_type": "code",
   "execution_count": 13,
   "metadata": {},
   "outputs": [
    {
     "data": {
      "image/png": "[encoded data removed]",
      "text/plain": [
       "<Figure size 432x288 with 1 Axes>"
      ]
     },
     "metadata": {
      "needs_background": "light"
     },
     "output_type": "display_data"
    }
   ],
   "source": [
    "plt.plot(loss_record)\n",
    "plt.show()"
   ]
  },
  {
   "cell_type": "markdown",
   "metadata": {},
   "source": [
    "## Sample 执行"
   ]
  },
  {
   "cell_type": "code",
   "execution_count": 14,
   "metadata": {},
   "outputs": [
    {
     "data": {
      "text/plain": [
       "['海滩', '綻', '五', '会议室', '但是', '詢問', '沒氣', '獸醫', '吃太多', '筆嗎']"
      ]
     },
     "execution_count": 14,
     "metadata": {},
     "output_type": "execute_result"
    }
   ],
   "source": [
    "transform('i am good', encoder, decoder_t)"
   ]
  }
 ],
 "metadata": {
  "kernelspec": {
   "display_name": "Python 3",
   "language": "python",
   "name": "python3"
  },
  "language_info": {
   "codemirror_mode": {
    "name": "ipython",
    "version": 3
   },
   "file_extension": ".py",
   "mimetype": "text/x-python",
   "name": "python",
   "nbconvert_exporter": "python",
   "pygments_lexer": "ipython3",
   "version": "3.7.6"
  }
 },
 "nbformat": 4,
 "nbformat_minor": 4
}
