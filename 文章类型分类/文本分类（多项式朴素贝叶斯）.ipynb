{
 "cells": [
  {
   "cell_type": "markdown",
   "metadata": {
    "toc": true
   },
   "source": [
    "<h1>文档目录<span class=\"tocSkip\"></span></h1>\n",
    "<div class=\"toc\"><ul class=\"toc-item\"><li><span><a href=\"#目标需求\" data-toc-modified-id=\"目标需求-1\"><span class=\"toc-item-num\">1&nbsp;&nbsp;</span>目标需求</a></span></li><li><span><a href=\"#数据整理\" data-toc-modified-id=\"数据整理-2\"><span class=\"toc-item-num\">2&nbsp;&nbsp;</span>数据整理</a></span><ul class=\"toc-item\"><li><span><a href=\"#清洗策略函数\" data-toc-modified-id=\"清洗策略函数-2.1\"><span class=\"toc-item-num\">2.1&nbsp;&nbsp;</span>清洗策略函数</a></span></li><li><span><a href=\"#定义数据提取函数\" data-toc-modified-id=\"定义数据提取函数-2.2\"><span class=\"toc-item-num\">2.2&nbsp;&nbsp;</span>定义数据提取函数</a></span></li><li><span><a href=\"#获得数据\" data-toc-modified-id=\"获得数据-2.3\"><span class=\"toc-item-num\">2.3&nbsp;&nbsp;</span>获得数据</a></span></li></ul></li><li><span><a href=\"#特征提取\" data-toc-modified-id=\"特征提取-3\"><span class=\"toc-item-num\">3&nbsp;&nbsp;</span>特征提取</a></span><ul class=\"toc-item\"><li><span><a href=\"#文本分词\" data-toc-modified-id=\"文本分词-3.1\"><span class=\"toc-item-num\">3.1&nbsp;&nbsp;</span>文本分词</a></span></li><li><span><a href=\"#TF-IDF特征提取\" data-toc-modified-id=\"TF-IDF特征提取-3.2\"><span class=\"toc-item-num\">3.2&nbsp;&nbsp;</span>TF-IDF特征提取</a></span></li></ul></li><li><span><a href=\"#模型训练与验证\" data-toc-modified-id=\"模型训练与验证-4\"><span class=\"toc-item-num\">4&nbsp;&nbsp;</span>模型训练与验证</a></span><ul class=\"toc-item\"><li><span><a href=\"#采用多项式朴素贝叶斯模型\" data-toc-modified-id=\"采用多项式朴素贝叶斯模型-4.1\"><span class=\"toc-item-num\">4.1&nbsp;&nbsp;</span>采用多项式朴素贝叶斯模型</a></span></li><li><span><a href=\"#K折交叉验证评估\" data-toc-modified-id=\"K折交叉验证评估-4.2\"><span class=\"toc-item-num\">4.2&nbsp;&nbsp;</span>K折交叉验证评估</a></span></li></ul></li><li><span><a href=\"#测试集评估\" data-toc-modified-id=\"测试集评估-5\"><span class=\"toc-item-num\">5&nbsp;&nbsp;</span>测试集评估</a></span></li></ul></div>"
   ]
  },
  {
   "cell_type": "markdown",
   "metadata": {},
   "source": [
    "# 目标需求\n",
    "1. 根据文章文字内容对文章的类型进行分类\n",
    "2. 使用朴素贝叶斯分类对训练集进行训练，并对测试集进行验证，并给出测试集的准确率\n",
    "3. 文档共有 4 种类型：女性、体育、文学、校园\n",
    "4. 训练集放到 train 文件夹里，测试集放到 test 文件夹里，停用词放到 stop 文件夹里"
   ]
  },
  {
   "cell_type": "markdown",
   "metadata": {},
   "source": [
    "# 数据整理"
   ]
  },
  {
   "cell_type": "markdown",
   "metadata": {},
   "source": [
    "## 清洗策略函数"
   ]
  },
  {
   "cell_type": "code",
   "execution_count": 17,
   "metadata": {},
   "outputs": [],
   "source": [
    "import re\n",
    "\n",
    "def clean(text):\n",
    "    # 过滤每个文档尾的标识符\n",
    "    text = re.sub('\\$LOTOzf\\$','',text)\n",
    "    # 过滤掉网页连接\n",
    "    text = re.sub(r'http.+[a-zA-Z]\\b','',text)\n",
    "    # 过滤制表符\n",
    "    text = re.sub('\\\\t','',text)\n",
    "    # 过滤空格\n",
    "    text = re.sub(' ','',text)\n",
    "    # 过滤奇怪符号\n",
    "    text = re.sub('[★|●]','',text)\n",
    "    return text"
   ]
  },
  {
   "cell_type": "markdown",
   "metadata": {},
   "source": [
    "## 定义数据提取函数"
   ]
  },
  {
   "cell_type": "code",
   "execution_count": 18,
   "metadata": {},
   "outputs": [],
   "source": [
    "import numpy as np\n",
    "import os\n",
    "\n",
    "# 文件读取\n",
    "def read_text(path, islist=False):\n",
    "    if islist:\n",
    "        word_list = []\n",
    "        with open (path,'r',encoding='utf-8',errors='ignore') as f:\n",
    "            lines = f.readlines()\n",
    "            for line in lines:\n",
    "                word_list.append(line.strip())\n",
    "            return word_list\n",
    "    else:\n",
    "        with open (path,'r',encoding='gb18030') as f:\n",
    "            return f.read()\n",
    "\n",
    "# 获取取文本数据进数组\n",
    "def load_data(file_path):\n",
    "    for dirpath, dirnames_s, filesnames in os.walk(file_path):\n",
    "        if dirnames_s:\n",
    "            dirnames = dirnames_s\n",
    "        else:\n",
    "            break\n",
    "    \n",
    "    data = []\n",
    "    lable = []\n",
    "    for dirname in dirnames:\n",
    "        for i,j,filesnames in os.walk('{}/{}'.format(file_path,dirname)):\n",
    "            for filename in filesnames:\n",
    "                text = clean(read_text('{}/{}/{}'.format(file_path,dirname,filename)))\n",
    "                data.append(text)\n",
    "                lable.append(dirname)\n",
    "    return np.array(data),np.array(lable)"
   ]
  },
  {
   "cell_type": "markdown",
   "metadata": {},
   "source": [
    "## 获得数据\n",
    "1. train_data_original：训练集数据\n",
    "2. train_lable：训练集的标签\n",
    "3. test_data_original：测试集数据\n",
    "4. test_lable：测试集的标签\n",
    "5. stop_words：停用词列表"
   ]
  },
  {
   "cell_type": "code",
   "execution_count": 19,
   "metadata": {},
   "outputs": [],
   "source": [
    "train_data_original, train_lable = load_data('./train')\n",
    "test_data_original, test_lable = load_data('./test')\n",
    "stop_words = read_text('./stop/stopword.txt',islist=True)"
   ]
  },
  {
   "cell_type": "markdown",
   "metadata": {},
   "source": [
    "# 特征提取\n",
    "1. 采用jieba包分词\n",
    "2. 使用词频TF-IDF值作为特征值"
   ]
  },
  {
   "cell_type": "markdown",
   "metadata": {},
   "source": [
    "## 文本分词"
   ]
  },
  {
   "cell_type": "code",
   "execution_count": 20,
   "metadata": {},
   "outputs": [],
   "source": [
    "import jieba\n",
    "\n",
    "# 分词函数\n",
    "def word_split(datas):\n",
    "    result = []\n",
    "    for data in datas:\n",
    "        text = '/'.join(jieba.cut(data))\n",
    "        result.append(text)\n",
    "    return result\n",
    "\n",
    "# 获取分词文本\n",
    "train_data_split = word_split(train_data_original)\n",
    "test_data_split = word_split(test_data_original)"
   ]
  },
  {
   "cell_type": "markdown",
   "metadata": {},
   "source": [
    "## TF-IDF特征提取\n",
    "1. train_features 训练集特征数据\n",
    "2. test_features 测试集特征数据"
   ]
  },
  {
   "cell_type": "code",
   "execution_count": 21,
   "metadata": {},
   "outputs": [],
   "source": [
    "from sklearn.feature_extraction.text import TfidfVectorizer\n",
    "\n",
    "# 分别生成训练集转化器、特征空间\n",
    "tfidf_vec_train = TfidfVectorizer(stop_words=stop_words)\n",
    "train_features = tfidf_vec_train.fit_transform(train_data_split) \n",
    "\n",
    "# 分别生成测试集转化器、特征空间（词组空间用训练集的）\n",
    "tfidf_vec_test = TfidfVectorizer(stop_words=stop_words, vocabulary=tfidf_vec_train.vocabulary_)\n",
    "test_features = tfidf_vec_test.fit_transform(test_data_split) "
   ]
  },
  {
   "cell_type": "markdown",
   "metadata": {},
   "source": [
    "# 模型训练与验证"
   ]
  },
  {
   "cell_type": "markdown",
   "metadata": {},
   "source": [
    "## 采用多项式朴素贝叶斯模型"
   ]
  },
  {
   "cell_type": "code",
   "execution_count": 22,
   "metadata": {},
   "outputs": [],
   "source": [
    "from sklearn.naive_bayes import MultinomialNB\n",
    "\n",
    "clf = MultinomialNB(alpha=0.01).fit(train_features, train_lable)"
   ]
  },
  {
   "cell_type": "markdown",
   "metadata": {},
   "source": [
    "## K折交叉验证评估"
   ]
  },
  {
   "cell_type": "code",
   "execution_count": 33,
   "metadata": {},
   "outputs": [
    {
     "name": "stdout",
     "output_type": "stream",
     "text": [
      "k折验证评估分数为： 90.0%\n"
     ]
    }
   ],
   "source": [
    "from sklearn.model_selection import cross_val_score\n",
    "\n",
    "score = cross_val_score(clf, train_features, train_lable, cv=10)\n",
    "print('k折验证评估分数为：', '{}%'.format(round(score.mean(),2)*100))"
   ]
  },
  {
   "cell_type": "markdown",
   "metadata": {},
   "source": [
    "# 测试集评估"
   ]
  },
  {
   "cell_type": "code",
   "execution_count": 34,
   "metadata": {},
   "outputs": [
    {
     "name": "stdout",
     "output_type": "stream",
     "text": [
      "测试集上的准确率： 91.0%\n"
     ]
    }
   ],
   "source": [
    "from sklearn import metrics\n",
    "\n",
    "predict_lable = clf.predict(test_features)\n",
    "score = metrics.accuracy_score(test_lable, predict_lable)\n",
    "print('测试集上的准确率：','{}%'.format(round(score,2)*100))"
   ]
  },
  {
   "cell_type": "code",
   "execution_count": null,
   "metadata": {},
   "outputs": [],
   "source": []
  }
 ],
 "metadata": {
  "kernelspec": {
   "display_name": "Python 3",
   "language": "python",
   "name": "python3"
  },
  "language_info": {
   "codemirror_mode": {
    "name": "ipython",
    "version": 3
   },
   "file_extension": ".py",
   "mimetype": "text/x-python",
   "name": "python",
   "nbconvert_exporter": "python",
   "pygments_lexer": "ipython3",
   "version": "3.8.1"
  },
  "toc": {
   "base_numbering": 1,
   "nav_menu": {},
   "number_sections": true,
   "sideBar": true,
   "skip_h1_title": false,
   "title_cell": "文档目录",
   "title_sidebar": "文档目录",
   "toc_cell": true,
   "toc_position": {},
   "toc_section_display": true,
   "toc_window_display": true
  }
 },
 "nbformat": 4,
 "nbformat_minor": 4
}
