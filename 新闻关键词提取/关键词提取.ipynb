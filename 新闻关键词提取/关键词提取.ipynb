{
 "cells": [
  {
   "cell_type": "markdown",
   "metadata": {},
   "source": [
    "### 文章关键词提取"
   ]
  },
  {
   "cell_type": "code",
   "execution_count": 159,
   "metadata": {},
   "outputs": [],
   "source": [
    "import networkx as nx\n",
    "import jieba\n",
    "from itertools import product\n",
    "from wordcloud import WordCloud\n",
    "import matplotlib.pyplot as plt"
   ]
  },
  {
   "cell_type": "code",
   "execution_count": 215,
   "metadata": {},
   "outputs": [],
   "source": [
    "artical = '''近日，因为疫情关闭了超过两个月的迪拜音乐喷泉表演再度重启，这被认为是迪拜商业活动重启的标志性事件之一。\n",
    "迪拜音乐喷泉位于迪拜哈利法塔前，被称作世界上最大（不是最高）的音乐喷泉，总长度为275米，水柱最高可以喷到150米，相当50层楼的高度。\n",
    "该喷泉配有6600盏灯光以及50个彩色投影机。喷出的水柱有1000多种变化，可以说是名副其实的千变万化。\n",
    "重启后的迪拜音乐喷泉仍然每天定时表演，但要求观看者遵守两米以上的社交距离，并佩戴口罩。\n",
    "近期阿联酋政府宣布重启全部商业活动，当地时间6月3日，迪拜所有商场都取消了人流量限制，迪拜音乐喷泉也重启表演。\n",
    "与此同时，阿联酋的新冠肺炎疫情仍然在发展中，截至当地时间6月5日，阿联酋境内新冠肺炎确诊病例累计达37642例，\n",
    "6月初以来，该国日新增病例一直在500-800例区间波动。\n",
    "（原标题：关闭超两月后，阿联酋迪拜世界最大音乐喷泉表演重启）\n",
    "'''"
   ]
  },
  {
   "cell_type": "code",
   "execution_count": 223,
   "metadata": {},
   "outputs": [],
   "source": [
    "artical = '''近期，中国人民银行发布新修订的《中国人民银行行政许可实施办法》（以下简称《实施办法》）。修订后的《实施办法》完善并细化了行政许可的受理、审批流程，弥补了行政许可在线办理依据不足问题，有利于借助信息化手段提升行政许可办理效率。\n",
    "据了解，《实施办法》是人民银行深入贯彻《中华人民共和国行政许可法》和《国务院办公厅关于全面推行行政执法公示制度执法全过程记录制度重大执法决定法制审核制度的指导意见》的一项重要举措，体现了深化“放管服”改革、加强事中事后监管的改革方向，也为全面推行电子政务、实现行政许可“一网通办”奠定了制度基础。\n",
    "据介绍，《实施办法》还专门设置了主要适用于银行账户开户许可证核发、相关许可证或者资格证书变更记载事项等的简易程序，将这些许可事项的审批时限压缩至受理后五日内，有利于提高审批效率，降低办事成本，减轻申请人负担。同时，根据《中华人民共和国行政许可法》的授权进一步明确了执法检查、行政处罚等事中事后监管措施，将“简政放权、放管结合、优化服务”落到实处。\n",
    "下一步，中国人民银行将抓紧修订《行政许可事项服务指南》，出台相关配套措施，优化“互联网+政务”服务平台，不断提升行政审批和金融监管水平。'''"
   ]
  },
  {
   "cell_type": "markdown",
   "metadata": {},
   "source": [
    "### 读取文章"
   ]
  },
  {
   "cell_type": "code",
   "execution_count": 224,
   "metadata": {},
   "outputs": [],
   "source": [
    "with open('./stopword.txt','r') as f:\n",
    "    stop_word_list = f.read().split('\\n')\n",
    "artical_to_word = [x for x in jieba.lcut(artical.replace('\\n', '')) if x not in stop_word_list]"
   ]
  },
  {
   "cell_type": "markdown",
   "metadata": {},
   "source": [
    "### 计算词语PageRank值"
   ]
  },
  {
   "cell_type": "code",
   "execution_count": 225,
   "metadata": {
    "scrolled": true
   },
   "outputs": [],
   "source": [
    "G = nx.Graph()\n",
    "window = 5\n",
    "for i in range(window,len(atrical_to_word)):\n",
    "    G.add_edges_from(list(product([artical_to_word[i-window]], artical_to_word[i-window+1:i])))\n",
    "pg = nx.pagerank(G,alpha=0.85)"
   ]
  },
  {
   "cell_type": "markdown",
   "metadata": {},
   "source": [
    "### 排序并提取关键词"
   ]
  },
  {
   "cell_type": "code",
   "execution_count": 226,
   "metadata": {},
   "outputs": [
    {
     "name": "stdout",
     "output_type": "stream",
     "text": [
      "关键词： ['行政许可', '实施办法', '制度', '审批', '行政']\n"
     ]
    }
   ],
   "source": [
    "key_amount = 5\n",
    "pg_sort = sorted(pg.items(), key=lambda x:x[1], reverse=True)\n",
    "key_words = [x[0] for x in pg_sort][:key_amount]\n",
    "print('关键词：', key_words)"
   ]
  },
  {
   "cell_type": "code",
   "execution_count": null,
   "metadata": {},
   "outputs": [],
   "source": []
  }
 ],
 "metadata": {
  "hide_input": false,
  "kernelspec": {
   "display_name": "Python 3",
   "language": "python",
   "name": "python3"
  },
  "language_info": {
   "codemirror_mode": {
    "name": "ipython",
    "version": 3
   },
   "file_extension": ".py",
   "mimetype": "text/x-python",
   "name": "python",
   "nbconvert_exporter": "python",
   "pygments_lexer": "ipython3",
   "version": "3.8.1"
  },
  "toc": {
   "base_numbering": 1,
   "nav_menu": {},
   "number_sections": true,
   "sideBar": true,
   "skip_h1_title": false,
   "title_cell": "Table of Contents",
   "title_sidebar": "Contents",
   "toc_cell": false,
   "toc_position": {},
   "toc_section_display": true,
   "toc_window_display": false
  },
  "varInspector": {
   "cols": {
    "lenName": 16,
    "lenType": 16,
    "lenVar": 40
   },
   "kernels_config": {
    "python": {
     "delete_cmd_postfix": "",
     "delete_cmd_prefix": "del ",
     "library": "var_list.py",
     "varRefreshCmd": "print(var_dic_list())"
    },
    "r": {
     "delete_cmd_postfix": ") ",
     "delete_cmd_prefix": "rm(",
     "library": "var_list.r",
     "varRefreshCmd": "cat(var_dic_list()) "
    }
   },
   "types_to_exclude": [
    "module",
    "function",
    "builtin_function_or_method",
    "instance",
    "_Feature"
   ],
   "window_display": false
  }
 },
 "nbformat": 4,
 "nbformat_minor": 4
}
